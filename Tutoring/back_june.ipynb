{
 "cells": [
  {
   "cell_type": "code",
   "execution_count": 3,
   "metadata": {},
   "outputs": [
    {
     "name": "stdout",
     "output_type": "stream",
     "text": [
      "Hello World!\n"
     ]
    }
   ],
   "source": [
    "print(\"Hello World!\")"
   ]
  },
  {
   "cell_type": "code",
   "execution_count": 32,
   "metadata": {},
   "outputs": [
    {
     "name": "stdout",
     "output_type": "stream",
     "text": [
      "13\n"
     ]
    }
   ],
   "source": [
    "# 1000번 문제제\n",
    "\n",
    "A, B = map(int, input().split())\n",
    "\n",
    "print(A+B)"
   ]
  },
  {
   "cell_type": "code",
   "execution_count": null,
   "metadata": {},
   "outputs": [],
   "source": [
    "# 1001번 문제\n",
    "A, B = map(int, input().split())\n",
    "\n",
    "print(A+B)"
   ]
  },
  {
   "cell_type": "code",
   "execution_count": null,
   "metadata": {},
   "outputs": [],
   "source": [
    "# 10998번 문제\n",
    "A, B = map(int, input().split())\n",
    "\n",
    "print(A*B)"
   ]
  },
  {
   "cell_type": "code",
   "execution_count": null,
   "metadata": {},
   "outputs": [],
   "source": [
    "# 1008번 문제\n",
    "A, B = map(int, input().split())\n",
    "\n",
    "print(A/B)"
   ]
  },
  {
   "cell_type": "code",
   "execution_count": 33,
   "metadata": {},
   "outputs": [
    {
     "name": "stdout",
     "output_type": "stream",
     "text": [
      "11\n",
      "-1\n",
      "30\n",
      "0.8333333333333334\n",
      "5\n"
     ]
    }
   ],
   "source": [
    "# 10869번 문제\n",
    "A, B = map(int, input().split())\n",
    "\n",
    "print(A+B)\n",
    "print(A-B)\n",
    "print(A*B)\n",
    "print(A/B)\n",
    "print(A//B)\n",
    "print(A%B)\n"
   ]
  },
  {
   "cell_type": "code",
   "execution_count": 34,
   "metadata": {},
   "outputs": [
    {
     "name": "stdout",
     "output_type": "stream",
     "text": [
      "joonas??!\n"
     ]
    }
   ],
   "source": [
    "# 10926번 \n",
    "print(input() + \"??!\")"
   ]
  },
  {
   "cell_type": "code",
   "execution_count": 39,
   "metadata": {},
   "outputs": [
    {
     "name": "stdout",
     "output_type": "stream",
     "text": [
      "123122588\n"
     ]
    }
   ],
   "source": [
    "# 18108번\n",
    "print(int(input()) - 543)"
   ]
  },
  {
   "cell_type": "code",
   "execution_count": 47,
   "metadata": {},
   "outputs": [
    {
     "name": "stdout",
     "output_type": "stream",
     "text": [
      "0 -1 -1 -2 -3 2 "
     ]
    }
   ],
   "source": [
    "# 3003번\n",
    "\n",
    "chess = [1,1,2,2,2,8]\n",
    "a = list(map(int, input().split()))\n",
    "\n",
    "for i in range(6) :\n",
    "    print(chess[i] - a[i], end=\" \")"
   ]
  },
  {
   "cell_type": "code",
   "execution_count": 48,
   "metadata": {},
   "outputs": [
    {
     "name": "stdout",
     "output_type": "stream",
     "text": [
      "1\n",
      "1\n",
      "0\n",
      "0\n"
     ]
    }
   ],
   "source": [
    "# 10430번 문제\n",
    "A, B, C = map(int, input().split())\n",
    "\n",
    "print((A+B)%C)\n",
    "print(((A%C) + (B%C))%C)\n",
    "print((A*B)%C)\n",
    "print( ((A%C) * (B%C))%C)\n"
   ]
  },
  {
   "cell_type": "code",
   "execution_count": 51,
   "metadata": {},
   "outputs": [
    {
     "name": "stdout",
     "output_type": "stream",
     "text": [
      "2360\n",
      "3776\n",
      "1416\n",
      "181720\n"
     ]
    }
   ],
   "source": [
    "# 2588번 문제\n",
    "A= int(input())\n",
    "B = input()\n",
    "\n",
    "print(A * int(B[2]))\n",
    "print(A * int(B[1]))\n",
    "print(A * int(B[0]))\n",
    "print(A * int(B))"
   ]
  },
  {
   "cell_type": "code",
   "execution_count": 52,
   "metadata": {},
   "outputs": [
    {
     "name": "stdout",
     "output_type": "stream",
     "text": [
      "\\    /\\\n",
      " )  ( ')\n",
      "(  /  )\n",
      " \\(__)|\n"
     ]
    }
   ],
   "source": [
    "# 10171번 문제\n",
    "\n",
    "print(\"\\\\    /\\\\\")\n",
    "print(\" )  ( ')\")\n",
    "print(\"(  /  )\")\n",
    "print(\" \\\\(__)|\")"
   ]
  },
  {
   "cell_type": "code",
   "execution_count": null,
   "metadata": {},
   "outputs": [],
   "source": [
    "# 1330번 문제\n",
    "\n",
    "A,B = map(int, input().split())\n",
    "\n",
    "if A > B :\n",
    "    print(\">\")\n",
    "elif A < B:\n",
    "    print(\"<\")\n",
    "elif A == B :\n",
    "    print(\"==\")"
   ]
  },
  {
   "cell_type": "code",
   "execution_count": null,
   "metadata": {},
   "outputs": [],
   "source": [
    "# 9498번 문제\n",
    "\n",
    "a = int(input())\n",
    "\n",
    "if a >= 90 :\n",
    "    print(\"A\")\n",
    "elif a >= 80 :\n",
    "    print(\"B\")\n",
    "elif a >= 70 :\n",
    "    print(\"C\")\n",
    "elif a >= 60 :\n",
    "    print(\"D\")\n",
    "else:\n",
    "    print(\"F\")\n"
   ]
  },
  {
   "cell_type": "code",
   "execution_count": 54,
   "metadata": {},
   "outputs": [
    {
     "name": "stdout",
     "output_type": "stream",
     "text": [
      "1\n"
     ]
    }
   ],
   "source": [
    "A = int(input())\n",
    "\n",
    "if A % 4 ==0 and (A % 100 != 0 or A % 400 ==0):\n",
    "    print(1)\n",
    "else:\n",
    "    print(0)"
   ]
  },
  {
   "cell_type": "code",
   "execution_count": 57,
   "metadata": {},
   "outputs": [
    {
     "name": "stdout",
     "output_type": "stream",
     "text": [
      "4\n"
     ]
    }
   ],
   "source": [
    "# 14681번 문제 \n",
    "\n",
    "X,Y = map(int, input().split())\n",
    "\n",
    "if X>0 and Y>0 :\n",
    "    print(\"1\")\n",
    "elif X<0 and Y>0:\n",
    "    print(\"2\")\n",
    "elif X<0 and Y < 0 :\n",
    "    print(\"3\")\n",
    "elif X>0 and Y<0:\n",
    "    print(\"4\")"
   ]
  },
  {
   "cell_type": "code",
   "execution_count": null,
   "metadata": {},
   "outputs": [],
   "source": [
    "# for i in range(6):\n",
    "#     for k in range(6):\n",
    "#         for n in range(6):\n",
    "#             if i == k and k == n:\n",
    "#                 print(10000 + i*1000)\n",
    "#             elif i == k and k !=n:\n",
    "#                 print(1000 + i*100)\n",
    "#             elif i != k and k != n and i != n :\n",
    "#                 print(max(i,k,n) *100) \n",
    "\n",
    "a, b, c = map(int, input().split())\n",
    "\n",
    "if a == b == c:\n",
    "    print(10000+a*1000)\n",
    "elif a == b:\n",
    "    print(1000+a*100)\n",
    "elif a == c:\n",
    "    print(1000+a*100)\n",
    "elif b == c:\n",
    "    print(1000+b*100)\n",
    "else:\n",
    "    print(100 * max(a,b,c))"
   ]
  },
  {
   "cell_type": "code",
   "execution_count": 26,
   "metadata": {},
   "outputs": [
    {
     "name": "stdout",
     "output_type": "stream",
     "text": [
      "11\n",
      "11\n",
      "9\n",
      "3\n",
      "5\n"
     ]
    }
   ],
   "source": [
    "#  백준 10650번 문제\n",
    "n = int(input())\n",
    "\n",
    "for i in range(n):\n",
    "    a,b = map(int,input().split())\n",
    "    print(a + b)"
   ]
  },
  {
   "cell_type": "code",
   "execution_count": null,
   "metadata": {},
   "outputs": [],
   "source": [
    "# 10952번 문제\n",
    "while (1):\n",
    "    a, b = map(int, input().split())\n",
    "    if (a==0) and (b==0):\n",
    "        break\n",
    "    print(a+b)"
   ]
  },
  {
   "cell_type": "code",
   "execution_count": 56,
   "metadata": {},
   "outputs": [
    {
     "name": "stdout",
     "output_type": "stream",
     "text": [
      "6\n"
     ]
    }
   ],
   "source": [
    "n = 1260\n",
    "coin = [500,100,50,10]\n",
    "count =  0\n",
    "\n",
    "for i in coin :\n",
    "    count += n//i\n",
    "    n = n%i \n",
    "print(count)\n"
   ]
  },
  {
   "cell_type": "code",
   "execution_count": 13,
   "metadata": {},
   "outputs": [
    {
     "name": "stdout",
     "output_type": "stream",
     "text": [
      "0 1 2 3 4 5 6 7 "
     ]
    }
   ],
   "source": [
    "import numpy as np\n",
    "\n",
    "\n",
    "A =np.arange(int(input()))\n",
    "x = int(input())\n",
    "\n",
    "for A in range(len(A)):\n",
    "    if A < x :\n",
    "        print(A, end= \" \")\n",
    "\n",
    "# # if A > x :\n",
    "# print(A, x) "
   ]
  },
  {
   "cell_type": "code",
   "execution_count": 12,
   "metadata": {},
   "outputs": [
    {
     "name": "stdout",
     "output_type": "stream",
     "text": [
      "2 * 1 = 2\n",
      "2 * 2 = 4\n",
      "2 * 3 = 6\n",
      "2 * 4 = 8\n",
      "2 * 5 = 10\n",
      "2 * 6 = 12\n",
      "2 * 7 = 14\n",
      "2 * 8 = 16\n",
      "2 * 9 = 18\n"
     ]
    }
   ],
   "source": [
    "#  2739\n",
    "\n",
    "a = int(input())\n",
    "\n",
    "for i in range(1,10):\n",
    "    print(a,\"*\", i, \"=\", a * i)"
   ]
  },
  {
   "cell_type": "code",
   "execution_count": null,
   "metadata": {},
   "outputs": [],
   "source": [
    "# 10950\n",
    "\n",
    "n = int(input())\n",
    "\n",
    "for i in range(n):\n",
    "    a, b = map(int, input().split())\n",
    "    print(a+b)"
   ]
  },
  {
   "cell_type": "code",
   "execution_count": 32,
   "metadata": {},
   "outputs": [
    {
     "name": "stdout",
     "output_type": "stream",
     "text": [
      "6\n"
     ]
    }
   ],
   "source": [
    "# 8393\n",
    "\n",
    "n = int(input())\n",
    "a = 0\n",
    "\n",
    "for i in range(1,n+1):\n",
    "    a +=  i\n",
    "print(a) "
   ]
  },
  {
   "cell_type": "code",
   "execution_count": null,
   "metadata": {},
   "outputs": [],
   "source": [
    "# 25304\n",
    "\n",
    "\n",
    "total= int(input())\n",
    " \n",
    " \n",
    "type= int(input())\n",
    " \n",
    "sum=0 \n",
    " \n",
    "\n",
    "for i in range(type):\n",
    "    a,b= map(int,input().split())\n",
    "    sum += a*b\n",
    " \n",
    "     \n",
    "if total==sum: print(\"Yes\")\n",
    "else: print(\"No\")"
   ]
  },
  {
   "cell_type": "code",
   "execution_count": 27,
   "metadata": {},
   "outputs": [
    {
     "name": "stdout",
     "output_type": "stream",
     "text": [
      "long long long long long  int\n"
     ]
    }
   ],
   "source": [
    "# 25314\n",
    "\n",
    "# a = int(input())\n",
    "\n",
    "# if a%4 == 0 :\n",
    "#    b = a//4\n",
    "#    print(\"long \" * b, \"int\" )\n",
    "# else:\n",
    "#    c = a//4 + 1\n",
    "#    print(\"long \" * c, \"int\")\n",
    "\n",
    "\n",
    "for _ in range(int(input())//4):\n",
    "    print(\"long\", end=\" \")\n",
    "    \n",
    "print(\"int\")"
   ]
  },
  {
   "cell_type": "code",
   "execution_count": 35,
   "metadata": {},
   "outputs": [
    {
     "name": "stdout",
     "output_type": "stream",
     "text": [
      "2\n",
      "46\n",
      "505\n",
      "505\n",
      "100\n"
     ]
    }
   ],
   "source": [
    "# 15552\n",
    "a = int(input())\n",
    "\n",
    "\n",
    "for _ in range(a):\n",
    "    b,c = map(int,input().split())\n",
    "    print(b + c)\n",
    "\n",
    "# import sys\n",
    " \n",
    "# inp = int(input())\n",
    "# for i in range(inp):\n",
    "#         a,b = map(int, sys.stdin.readline().split())\n",
    "#         print(a+b)\n"
   ]
  },
  {
   "cell_type": "code",
   "execution_count": 37,
   "metadata": {},
   "outputs": [
    {
     "name": "stdout",
     "output_type": "stream",
     "text": [
      "Case # 1 : 1\n",
      "Case # 2 : 3\n",
      "Case # 3 : 4\n",
      "Case # 9 : 8\n",
      "Case # 5 : 2\n"
     ]
    }
   ],
   "source": [
    "# 11021\n",
    "\n",
    "a = int(input())\n",
    "\n",
    "\n",
    "for i in range(1,a+1):\n",
    "    b,c = map(int,input().split())\n",
    "    print(f'Case #{i}: {b+c}')\n"
   ]
  },
  {
   "cell_type": "code",
   "execution_count": 38,
   "metadata": {},
   "outputs": [
    {
     "name": "stdout",
     "output_type": "stream",
     "text": [
      "Case #1:1 + 1 = 2\n",
      "Case #2:2 + 3 = 5\n",
      "Case #3:3 + 4 = 7\n",
      "Case #4:9 + 8 = 17\n",
      "Case #5:5 + 2 = 7\n"
     ]
    }
   ],
   "source": [
    "# 11022\n",
    "\n",
    "a = int(input())\n",
    "\n",
    "\n",
    "for i in range(1,a+1):\n",
    "    b,c = map(int,input().split())\n",
    "    print(f'Case #{i} : {b} + {c} = {b+c}')"
   ]
  },
  {
   "cell_type": "code",
   "execution_count": 44,
   "metadata": {},
   "outputs": [
    {
     "name": "stdout",
     "output_type": "stream",
     "text": [
      "*\n",
      "**\n",
      "***\n",
      "****\n",
      "*****\n"
     ]
    }
   ],
   "source": [
    "#  2438\n",
    "\n",
    "a = int(input())\n",
    "\n",
    "for i in range(1,a+1):\n",
    "    print(i * \"*\")"
   ]
  },
  {
   "cell_type": "code",
   "execution_count": 49,
   "metadata": {},
   "outputs": [
    {
     "name": "stdout",
     "output_type": "stream",
     "text": [
      "     *\n",
      "     **\n",
      "     ***\n",
      "     ****\n",
      "     *****\n",
      "     ******\n"
     ]
    }
   ],
   "source": [
    "# 2439\n",
    "\n",
    "a = int(input())\n",
    "\n",
    "for i in range(1,a+1):\n",
    "    print(\" \" *(a-1) +  \"*\" * i)"
   ]
  },
  {
   "cell_type": "code",
   "execution_count": null,
   "metadata": {},
   "outputs": [],
   "source": [
    "# 10951\n",
    "\n",
    "while True:\n",
    "    try:\n",
    "        A, B = map(int, input().split())\n",
    "        print(A+B)\n",
    "    except:\n",
    "        break"
   ]
  },
  {
   "cell_type": "code",
   "execution_count": 51,
   "metadata": {},
   "outputs": [
    {
     "name": "stdout",
     "output_type": "stream",
     "text": [
      "7931\n"
     ]
    }
   ],
   "source": [
    "#  11382\n",
    "\n",
    "a,b,c = map(int, input().split())\n",
    "\n",
    "print(a + b + c)"
   ]
  },
  {
   "cell_type": "code",
   "execution_count": 2,
   "metadata": {},
   "outputs": [
    {
     "name": "stdout",
     "output_type": "stream",
     "text": [
      "3\n"
     ]
    }
   ],
   "source": [
    "# 10807\n",
    "\n",
    "n =  int(input())\n",
    "nn= list(map(int, input().split()))\n",
    "v = int(input())\n",
    "\n",
    "print(nn.count(v))\n"
   ]
  },
  {
   "cell_type": "code",
   "execution_count": 9,
   "metadata": {},
   "outputs": [
    {
     "name": "stdout",
     "output_type": "stream",
     "text": [
      "1 4 2 3 "
     ]
    }
   ],
   "source": [
    "#  10871\n",
    "\n",
    "a,b = list(map(int, input().split()))\n",
    "c = list(map(int, input().split()))\n",
    "\n",
    "for i in range(a):\n",
    "    if c[i] < b :\n",
    "        print(c[i], end=\" \")"
   ]
  },
  {
   "cell_type": "code",
   "execution_count": null,
   "metadata": {},
   "outputs": [],
   "source": [
    "# 10818\n",
    "\n",
    "cnt = int(input())\n",
    "numbers = list(map(int, input().split()))\n",
    "max = numbers[0]\n",
    "min = numbers[0]\n",
    "\n",
    "for i in numbers[1:]:\n",
    "    if i > max:\n",
    "        max = i\n",
    "    elif i < min:\n",
    "        min = i\n",
    "\n",
    "print(min,max)"
   ]
  },
  {
   "cell_type": "code",
   "execution_count": null,
   "metadata": {},
   "outputs": [],
   "source": [
    "#  2562\n",
    "\n",
    "numbers = []\n",
    "for _ in range(9):\n",
    "    i = int(input())\n",
    "    numbers.append(i)\n",
    "    \n",
    "print(max(numbers))\n",
    "print(numbers.index(max(numbers))+1)"
   ]
  },
  {
   "cell_type": "code",
   "execution_count": null,
   "metadata": {},
   "outputs": [],
   "source": [
    "# 10810\n",
    "\n",
    "import sys\n",
    "n,m=map(int,sys.stdin.readline().split())\n",
    "tmp=[i+1 for i in range (n)]\n",
    "for _ in range(m):\n",
    "    i,j=map(int,sys.stdin.readline().split())\n",
    "    dummy=tmp[i-1]\n",
    "    tmp[i-1]=tmp[j-1]\n",
    "    tmp[j-1]=dummy\n",
    "print(*tmp)\n"
   ]
  },
  {
   "cell_type": "code",
   "execution_count": null,
   "metadata": {},
   "outputs": [],
   "source": [
    "# 5597 \n",
    "\n",
    "n = [i for i in range(1, 31)]\n",
    "\n",
    "for _ in range(28):\n",
    "    b = int(input())\n",
    "    n.remove(b)\n",
    "print(min(n))\n",
    "print(max(n))\n"
   ]
  },
  {
   "cell_type": "code",
   "execution_count": null,
   "metadata": {},
   "outputs": [],
   "source": [
    "# 1546\n",
    "\n",
    "a = int(input())\n",
    "b = list(map(int, input().split()))\n",
    "s = max(b)\n",
    "n = [] \n",
    "\n",
    "\n",
    "for i in range(a):\n",
    "    b[i] = b[i] / s*100\n",
    "\n",
    "print(sum(b)/a)"
   ]
  },
  {
   "cell_type": "code",
   "execution_count": 32,
   "metadata": {},
   "outputs": [
    {
     "data": {
      "text/plain": [
       "6"
      ]
     },
     "execution_count": 32,
     "metadata": {},
     "output_type": "execute_result"
    }
   ],
   "source": [
    "a = int(input())\n",
    "b = 0\n",
    "\n",
    "\n",
    "for i in range(1,a+1):\n",
    "    b += i\n",
    "\n",
    "b\n",
    "\n"
   ]
  },
  {
   "cell_type": "code",
   "execution_count": 43,
   "metadata": {},
   "outputs": [
    {
     "name": "stdout",
     "output_type": "stream",
     "text": [
      "2\n",
      "3\n"
     ]
    }
   ],
   "source": [
    "while True:\n",
    "    a , b = map(int, input().split())\n",
    "    a += b\n",
    "    \n",
    "    if a == 0 and b == 0 :\n",
    "        break\n",
    "\n",
    "    print(a)\n",
    "   "
   ]
  },
  {
   "cell_type": "code",
   "execution_count": 59,
   "metadata": {},
   "outputs": [
    {
     "name": "stdout",
     "output_type": "stream",
     "text": [
      "35 7\n"
     ]
    }
   ],
   "source": [
    "a = int(input())\n",
    "i = list(map(int,input().split()))\n",
    "\n",
    "\n",
    "print(min(i),max(i))"
   ]
  },
  {
   "cell_type": "code",
   "execution_count": 85,
   "metadata": {},
   "outputs": [
    {
     "name": "stdout",
     "output_type": "stream",
     "text": [
      "[1, 2, 3, 4, 5, 6, 7, 8, 9, 10]\n"
     ]
    }
   ],
   "source": [
    "import numpy as np\n",
    "\n",
    "b = []\n",
    "\n",
    "for i in range(10):\n",
    "    i = int(input())\n",
    "    c = i % 42\n",
    "    b.append(c)\n",
    "\n",
    "len(np.unique(b))"
   ]
  },
  {
   "cell_type": "code",
   "execution_count": 27,
   "metadata": {},
   "outputs": [
    {
     "name": "stdout",
     "output_type": "stream",
     "text": [
      "3 4 1 2 5 "
     ]
    }
   ],
   "source": [
    "m,n = list(map(int,input().split()))\n",
    "\n",
    "ls = []\n",
    "\n",
    "for i in range(m):\n",
    "    ls.append(i+1)\n",
    "\n",
    "for k in range(n):\n",
    "    i , j = list(map(int,input().split()))\n",
    "    i -= 1\n",
    "    j -= 1\n",
    "    \n",
    "    ls_keep = ls.copy()\n",
    "    index_i = i\n",
    "    for k in range(j,i-1,-1):\n",
    "       ls_keep[index_i]= ls[k]\n",
    "       index_i += 1\n",
    "\n",
    "    ls = ls_keep.copy()\n",
    "\n",
    "for i in ls:\n",
    "    print(i,end = \" \")"
   ]
  },
  {
   "cell_type": "code",
   "execution_count": 30,
   "metadata": {},
   "outputs": [
    {
     "name": "stdout",
     "output_type": "stream",
     "text": [
      "3\n"
     ]
    }
   ],
   "source": [
    "a = int(input())\n",
    "ls = list(map(int, input().split()))\n",
    "b = int(input())\n",
    "c = 0\n",
    "\n",
    "for i in ls:\n",
    "    if i == b :\n",
    "        c += 1\n",
    "print(c)\n"
   ]
  },
  {
   "cell_type": "code",
   "execution_count": 36,
   "metadata": {},
   "outputs": [
    {
     "name": "stdout",
     "output_type": "stream",
     "text": [
      "3 1 4 2 5 "
     ]
    }
   ],
   "source": [
    "n , m= map(int, input().split())\n",
    "ls = []\n",
    "\n",
    "for i in range(n):\n",
    "    ls.append(i+1) # 바구니 생성\n",
    "    \n",
    "for k in range(m):\n",
    "    i,j = list(map(int,input().split()))\n",
    "    i -= 1\n",
    "    j -= 1 \n",
    "    \n",
    "\n",
    "    kk = ls[i]\n",
    "    ls[i] =  ls[j]\n",
    "    ls[j] = kk\n",
    "\n",
    "\n",
    "for i in ls:\n",
    "    print(i, end= \" \")\n"
   ]
  },
  {
   "cell_type": "code",
   "execution_count": null,
   "metadata": {},
   "outputs": [],
   "source": []
  },
  {
   "cell_type": "code",
   "execution_count": null,
   "metadata": {},
   "outputs": [],
   "source": []
  },
  {
   "cell_type": "code",
   "execution_count": 10,
   "metadata": {},
   "outputs": [
    {
     "name": "stdout",
     "output_type": "stream",
     "text": [
      "3 1 4 2 5 "
     ]
    }
   ],
   "source": [
    "n,m = map(int, input().split())\n",
    "ls = []\n",
    "\n",
    "for i in range(n):\n",
    "    i += 1\n",
    "    ls.append(i)  # 바구나 생성 \n",
    "  \n",
    "\n",
    "for k in range(m):\n",
    "    i ,j = map(int, input().split())\n",
    "    i -= 1\n",
    "    j -= 1\n",
    "    \n",
    "    \n",
    "    kk = ls[j]\n",
    "    ls[j] = ls[i]\n",
    "    ls[i] = kk\n",
    "\n",
    "for i in ls:\n",
    "    print(i, end= \" \")\n",
    "\n"
   ]
  },
  {
   "cell_type": "code",
   "execution_count": 3,
   "metadata": {},
   "outputs": [
    {
     "data": {
      "text/plain": [
       "8"
      ]
     },
     "execution_count": 3,
     "metadata": {},
     "output_type": "execute_result"
    }
   ],
   "source": [
    "# 2743 \n",
    "\n",
    "a = str(input())\n",
    "len(a)"
   ]
  },
  {
   "cell_type": "code",
   "execution_count": 6,
   "metadata": {},
   "outputs": [
    {
     "name": "stdout",
     "output_type": "stream",
     "text": [
      "65\n"
     ]
    }
   ],
   "source": [
    "# 11654\n",
    "a = input()\n",
    "print (ord(a))"
   ]
  },
  {
   "cell_type": "code",
   "execution_count": null,
   "metadata": {},
   "outputs": [],
   "source": [
    "#  10809\n",
    "S = list(input())\n",
    "c = 'abcdefghijklmnopqrstuvwxyz'\n",
    "\n",
    "for i in c:\n",
    "    if i in S:\n",
    "        print(S.index(i), end =' ')\n",
    "    else:\n",
    "        print(-1, end=' ')\n",
    "\n"
   ]
  },
  {
   "cell_type": "code",
   "execution_count": 14,
   "metadata": {},
   "outputs": [
    {
     "name": "stdout",
     "output_type": "stream",
     "text": [
      "6\n"
     ]
    }
   ],
   "source": [
    "# 1152\n",
    "\n",
    "a = input().split() \n",
    "print(len(a))"
   ]
  },
  {
   "cell_type": "code",
   "execution_count": 17,
   "metadata": {},
   "outputs": [
    {
     "name": "stdout",
     "output_type": "stream",
     "text": [
      "0\n"
     ]
    }
   ],
   "source": [
    "# 5562\n",
    "dial = ['ABC', 'DEF', 'GHI', 'JKL', 'MNO', 'PQRS', 'TUV', 'WXYZ']\n",
    "a = input()\n",
    "ret = 0\n",
    "for j in range(len(a)):\n",
    "    for i in dial:\n",
    "        if a[j] in i:\n",
    "            ret += dial.index(i)+3\n",
    "print(ret)\n"
   ]
  }
 ],
 "metadata": {
  "kernelspec": {
   "display_name": "Python 3",
   "language": "python",
   "name": "python3"
  },
  "language_info": {
   "codemirror_mode": {
    "name": "ipython",
    "version": 3
   },
   "file_extension": ".py",
   "mimetype": "text/x-python",
   "name": "python",
   "nbconvert_exporter": "python",
   "pygments_lexer": "ipython3",
   "version": "3.11.2"
  },
  "orig_nbformat": 4,
  "vscode": {
   "interpreter": {
    "hash": "4f42a8a66366f713939d21a8af7795b607b4714e3656fa47de76d86491fbf4aa"
   }
  }
 },
 "nbformat": 4,
 "nbformat_minor": 2
}
