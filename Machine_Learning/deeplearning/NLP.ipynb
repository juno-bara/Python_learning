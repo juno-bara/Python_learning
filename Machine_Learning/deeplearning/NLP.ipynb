{
 "cells": [
  {
   "cell_type": "code",
   "execution_count": 2,
   "id": "02f2289d",
   "metadata": {
    "ExecuteTime": {
     "end_time": "2023-02-28T02:09:19.408513Z",
     "start_time": "2023-02-28T02:09:19.393562Z"
    }
   },
   "outputs": [
    {
     "name": "stdout",
     "output_type": "stream",
     "text": [
      "원문 :  해보지 않으면 해낼 수 없다\n",
      "토큰화 :  ['해보지', '않으면', '해낼', '수', '없다']\n"
     ]
    }
   ],
   "source": [
    "import numpy as np\n",
    "import tensorflow as tf\n",
    "from numpy import array\n",
    "from tensorflow.keras.preprocessing.text import Tokenizer\n",
    "from tensorflow.keras.preprocessing.sequence import pad_sequences\n",
    "from tensorflow.keras.models import Sequential\n",
    "from tensorflow.keras.layers import Dense, Flatten, Embedding\n",
    "\n",
    "# 주어진 문장을 단어로 토큰화 하기 \n",
    "# 케라스의 텍스트 전처리와 함수중 text_to_world_sequence 함수 불러오기 \n",
    "from tensorflow.keras.preprocessing.text import text_to_word_sequence\n",
    "\n",
    "#  전처리 할 텍스트를 정한다\n",
    "text = \"해보지 않으면 해낼 수 없다\"\n",
    "\n",
    "# 해당 텍스트를 토큰화 한다 \n",
    "result = text_to_word_sequence(text)\n",
    "print(\"원문 : \", text)\n",
    "print(\"토큰화 : \", result)"
   ]
  },
  {
   "cell_type": "code",
   "execution_count": 4,
   "id": "b95f4626",
   "metadata": {
    "ExecuteTime": {
     "end_time": "2023-02-28T02:21:03.519505Z",
     "start_time": "2023-02-28T02:21:03.503904Z"
    }
   },
   "outputs": [
    {
     "name": "stdout",
     "output_type": "stream",
     "text": [
      "\n",
      "문장 카운트 :  OrderedDict([('먼저', 1), ('텍스트의', 2), ('각', 1), ('단어를', 1), ('나누어', 1), ('토큰화', 3), ('합니다', 1), ('나어로', 1), ('애향', 1), ('딥러닝에서', 2), ('인십이', 1), ('됩니다', 1), ('한', 1), ('곃과는', 1), ('사용', 1), ('할', 1), ('수', 1), ('있습니다', 1)])\n",
      "\n",
      "문장 카운트 :  3\n",
      "\n",
      "각 단어에 몆개의 문장에 포한되어 있는가:\n",
      " defaultdict(<class 'int'>, {'나누어': 1, '텍스트의': 2, '합니다': 1, '각': 1, '먼저': 1, '단어를': 1, '토큰화': 3, '딥러닝에서': 2, '됩니다': 1, '인십이': 1, '애향': 1, '나어로': 1, '할': 1, '곃과는': 1, '사용': 1, '한': 1, '수': 1, '있습니다': 1})\n",
      "\n",
      "각 단어에 매겨진 인덱스 값:\n",
      " {'토큰화': 1, '텍스트의': 2, '딥러닝에서': 3, '먼저': 4, '각': 5, '단어를': 6, '나누어': 7, '합니다': 8, '나어로': 9, '애향': 10, '인십이': 11, '됩니다': 12, '한': 13, '곃과는': 14, '사용': 15, '할': 16, '수': 17, '있습니다': 18}\n"
     ]
    }
   ],
   "source": [
    "# 단어 빈도수 세기\n",
    "# 전처리 하려는 세개의 문장을 정합니다\n",
    "\n",
    "docs = [\"먼저 텍스트의 각 단어를 나누어 토큰화 합니다.\",\n",
    "       \"텍스트의 나어로 토큰화 애향 딥러닝에서 인십이 됩니다.\",\n",
    "       \"토큰화 한 곃과는 딥러닝에서 사용 할 수 있습니다.\"]\n",
    "\n",
    "# 토큰화 함수를 이용해서 전처리 하는 과정 \n",
    "token = Tokenizer() # 토큰화 함수 지정  \n",
    "token.fit_on_texts(docs) # 토큰화 함수에 문장 적용 \n",
    "\n",
    "# 단어의 빈도수 계산한 결과를 각 옵션에 맞추어 출력합니다.\n",
    "# Tokenizer()의 worc_counts 함수는 순서를 기억하는 OrderDict클래스를 사용\n",
    "print(\"\\n문장 카운트 : \", token.word_counts)\n",
    "\n",
    "# 출력되는 순서는 랜덤\n",
    "print(\"\\n문장 카운트 : \", token.document_count)\n",
    "print(\"\\n각 단어에 몆개의 문장에 포한되어 있는가:\\n\", token.word_docs)\n",
    "print(\"\\n각 단어에 매겨진 인덱스 값:\\n\", token.word_index)"
   ]
  },
  {
   "cell_type": "code",
   "execution_count": 8,
   "id": "28c57884",
   "metadata": {
    "ExecuteTime": {
     "end_time": "2023-02-28T02:30:51.033883Z",
     "start_time": "2023-02-28T02:30:51.015636Z"
    }
   },
   "outputs": [
    {
     "name": "stdout",
     "output_type": "stream",
     "text": [
      "문장의 토큰화 :  {'오랫동안': 1, '꿈꾸는': 2, '자는': 3, '그': 4, '꿈을': 5, '닮아간다': 6}\n",
      "문장의 숫자화 :  [[1, 2, 3, 4, 5, 6]]\n",
      "문장의 원-핫 인코딩:\n",
      " [[[0. 1. 0. 0. 0. 0. 0.]\n",
      "  [0. 0. 1. 0. 0. 0. 0.]\n",
      "  [0. 0. 0. 1. 0. 0. 0.]\n",
      "  [0. 0. 0. 0. 1. 0. 0.]\n",
      "  [0. 0. 0. 0. 0. 1. 0.]\n",
      "  [0. 0. 0. 0. 0. 0. 1.]]]\n"
     ]
    }
   ],
   "source": [
    "# 딥려닝 자연어 처리 \n",
    "# 문장의 자연어 처리 \n",
    "\n",
    "text = \"오랫동안 꿈꾸는 자는 그 꿈을 닮아간다\"\n",
    "token = Tokenizer()\n",
    "token.fit_on_texts([text])\n",
    "print(\"문장의 토큰화 : \", token.word_index)\n",
    "\n",
    "#  각 단어를 숫자화 \n",
    "x = token.texts_to_sequences([text])\n",
    "print(\"문장의 숫자화 : \", x)\n",
    "\n",
    "#  원-핫 인코딩 방식으로 표현 \n",
    "from tensorflow.keras.utils import to_categorical\n",
    "word_size = len(token.word_index) + 1\n",
    "X = to_categorical(x ,num_classes = word_size)\n",
    "print(\"문장의 원-핫 인코딩:\\n\",X)"
   ]
  },
  {
   "cell_type": "code",
   "execution_count": 23,
   "id": "cc9e60a9",
   "metadata": {
    "ExecuteTime": {
     "end_time": "2023-02-28T04:32:47.068159Z",
     "start_time": "2023-02-28T04:32:45.981348Z"
    }
   },
   "outputs": [
    {
     "name": "stdout",
     "output_type": "stream",
     "text": [
      "{'너무': 1, '재밌네요': 2, '최고에요': 3, '참': 4, '잘': 5, '만든': 6, '영화예요': 7, '추천하고': 8, '싶은': 9, '영화': 10, '입니다': 11, '한': 12, '번': 13, '더': 14, '보고싶네요': 15, '글쎄요': 16, '별로에요': 17, '생각보다': 18, '지루하네요': 19, '연기가': 20, '어색해요': 21, '재미없어요': 22}\n",
      "\n",
      "x :  [[1, 2], [3], [4, 5, 6, 7], [8, 9, 10, 11], [12, 13, 14, 15], [16], [17], [18, 19], [20, 21], [22]]\n",
      "\n",
      "패딩 결과:\n",
      " [[ 0  0  1  2]\n",
      " [ 0  0  0  3]\n",
      " [ 4  5  6  7]\n",
      " [ 8  9 10 11]\n",
      " [12 13 14 15]\n",
      " [ 0  0  0 16]\n",
      " [ 0  0  0 17]\n",
      " [ 0  0 18 19]\n",
      " [ 0  0 20 21]\n",
      " [ 0  0  0 22]]\n",
      "Epoch 1/20\n",
      "1/1 [==============================] - 0s 488ms/step - loss: 0.6923 - accuracy: 0.6000\n",
      "Epoch 2/20\n",
      "1/1 [==============================] - 0s 10ms/step - loss: 0.6901 - accuracy: 0.7000\n",
      "Epoch 3/20\n",
      "1/1 [==============================] - 0s 11ms/step - loss: 0.6879 - accuracy: 0.7000\n",
      "Epoch 4/20\n",
      "1/1 [==============================] - 0s 8ms/step - loss: 0.6857 - accuracy: 0.7000\n",
      "Epoch 5/20\n",
      "1/1 [==============================] - 0s 5ms/step - loss: 0.6835 - accuracy: 0.6000\n",
      "Epoch 6/20\n",
      "1/1 [==============================] - 0s 7ms/step - loss: 0.6813 - accuracy: 0.7000\n",
      "Epoch 7/20\n",
      "1/1 [==============================] - 0s 5ms/step - loss: 0.6791 - accuracy: 0.7000\n",
      "Epoch 8/20\n",
      "1/1 [==============================] - 0s 7ms/step - loss: 0.6769 - accuracy: 0.8000\n",
      "Epoch 9/20\n",
      "1/1 [==============================] - 0s 7ms/step - loss: 0.6748 - accuracy: 0.8000\n",
      "Epoch 10/20\n",
      "1/1 [==============================] - 0s 7ms/step - loss: 0.6726 - accuracy: 0.9000\n",
      "Epoch 11/20\n",
      "1/1 [==============================] - 0s 8ms/step - loss: 0.6704 - accuracy: 0.9000\n",
      "Epoch 12/20\n",
      "1/1 [==============================] - 0s 7ms/step - loss: 0.6682 - accuracy: 0.9000\n",
      "Epoch 13/20\n",
      "1/1 [==============================] - 0s 8ms/step - loss: 0.6661 - accuracy: 0.9000\n",
      "Epoch 14/20\n",
      "1/1 [==============================] - 0s 9ms/step - loss: 0.6639 - accuracy: 0.9000\n",
      "Epoch 15/20\n",
      "1/1 [==============================] - 0s 8ms/step - loss: 0.6617 - accuracy: 0.9000\n",
      "Epoch 16/20\n",
      "1/1 [==============================] - 0s 9ms/step - loss: 0.6595 - accuracy: 0.9000\n",
      "Epoch 17/20\n",
      "1/1 [==============================] - 0s 9ms/step - loss: 0.6573 - accuracy: 0.9000\n",
      "Epoch 18/20\n",
      "1/1 [==============================] - 0s 8ms/step - loss: 0.6551 - accuracy: 0.9000\n",
      "Epoch 19/20\n",
      "1/1 [==============================] - 0s 10ms/step - loss: 0.6529 - accuracy: 0.9000\n",
      "Epoch 20/20\n",
      "1/1 [==============================] - 0s 9ms/step - loss: 0.6507 - accuracy: 0.9000\n",
      "\n",
      "1/1 [==============================] - 0s 180ms/step - loss: 0.6485 - accuracy: 0.9000\n",
      "\n",
      " Accuracy: 0.9000\n",
      "None\n"
     ]
    }
   ],
   "source": [
    "# 먼저 짧은 리뷰 10개를 불러와 각각 긍정이면 1, 부전이이면 0이라는 클래스로 지정\n",
    "#  텍스트 리부 자료 지정\n",
    "\n",
    "docs = [\"너무 재밌네요\", \"최고에요\", \"참 잘 만든 영화예요\", \"추천하고 싶은 영화 입니다.\",\n",
    "      \"한 번 더 보고싶네요\", \"글쎄요\", \"별로에요\", \"생각보다 지루하네요\",\n",
    "       \"연기가 어색해요\",\"재미없어요\"]\n",
    "#  긍정리뷰는 1 부정은 0으로 지정\n",
    "classes = array([1,1,1,1,1,0,0,0,0,0])\n",
    "\n",
    "# 토큰화\n",
    "token = Tokenizer()\n",
    "token.fit_on_texts(docs)\n",
    "print(token.word_index) # 토큰화 된 결과를 출력  \n",
    "\n",
    "# 토큰에 지정된 인덱스로 새로운 배열 생성\n",
    "x = token.texts_to_sequences(docs)\n",
    "print(\"\")\n",
    "print(\"x : \", x)\n",
    "\n",
    "# 서로다른 길이의 데이터를 4로 맞추어 준다\n",
    "padded = pad_sequences(x,4)\n",
    "print(\"\\n패딩 결과:\\n\", padded)\n",
    "\n",
    "# 임베딩 함수에 필요한 세 가지 파라미터는 ‘입력, 출력, 단어 수’임\n",
    "# 총 몇 개의 단어 집합에서(입력), 몇 개의 임베딩 결과를 사용할 것인지\n",
    "# (출력), 그리고 매번 입력될 단어 수는 몇 개로 할지(단어 수)를 정해야\n",
    "# 하는 것\n",
    "# 먼저 총 몇 개의 인덱스가 ‘입력’되어야 하는지를 정함\n",
    "# • word_size라는 변수를 만든 뒤, 길이를 세는 len( ) 함수를 이용\n",
    "# 해 word_index 값을 앞서 만든 변수에 대입함\n",
    "# • 이때 전체 단어의 맨 앞에 0이 먼저 나와야 하므로 총 단어 수\n",
    "# 에 1을 더하는 것을 잊지 마시기 바람\n",
    "word_size = len(token.word_index)+1\n",
    "\n",
    "# 몇 개의 임베딩 결과를 사용할 것인지, 즉 ‘출력’을 정할 차례임\n",
    "# • word_size만큼의 입력 값을 이용해 8개의 임베딩 결과를 만듦\n",
    "# • 여기서 8이라는 숫자는 임의로 정한 것\n",
    "# • 데이터에 따라 적절한 값으로 바꿀 수 있음\n",
    "# • 이때 만들어진 8개의 임베딩 결과는 우리 눈에 보이지 않음\n",
    "# • 내부에서 계산하여 딥러닝의 레이어로 활용됨\n",
    "# ▪ 끝으로 매번 입력될 ‘단어 수’를 정함\n",
    "# • 패딩 과정을 거쳐 4개의 길이로 맞춰 주었으므로 4개의 단어가\n",
    "# 들어가게 설정하면 임베딩 과정은 다음 한 줄로 표현됨\n",
    "# Embedding(word_size, 8 , input_length= 4)\n",
    "\n",
    "# 단어임베딩을 포함하여 딥러닝 모델을 만들고 결과를 출력\n",
    "\n",
    "model = Sequential()\n",
    "model.add(Embedding(word_size, 8 , input_length= 4))\n",
    "model.add(Flatten())\n",
    "model.add(Dense(1,activation = \"sigmoid\"))\n",
    "model.compile(optimizer = \"adam\", \n",
    "               loss = \"binary_crossentropy\",\n",
    "              metrics = [\"accuracy\"])\n",
    "\n",
    "model.fit(padded, classes, epochs=20)\n",
    "print(\"\")\n",
    "print(print(\"\\n Accuracy: %.4f\" % (model.evaluate(padded, classes)[1])))"
   ]
  },
  {
   "cell_type": "code",
   "execution_count": null,
   "id": "98df47d0",
   "metadata": {},
   "outputs": [],
   "source": []
  }
 ],
 "metadata": {
  "kernelspec": {
   "display_name": "Python 3 (ipykernel)",
   "language": "python",
   "name": "python3"
  },
  "language_info": {
   "codemirror_mode": {
    "name": "ipython",
    "version": 3
   },
   "file_extension": ".py",
   "mimetype": "text/x-python",
   "name": "python",
   "nbconvert_exporter": "python",
   "pygments_lexer": "ipython3",
   "version": "3.11.1"
  },
  "toc": {
   "base_numbering": 1,
   "nav_menu": {},
   "number_sections": true,
   "sideBar": true,
   "skip_h1_title": false,
   "title_cell": "Table of Contents",
   "title_sidebar": "Contents",
   "toc_cell": false,
   "toc_position": {},
   "toc_section_display": true,
   "toc_window_display": false
  },
  "varInspector": {
   "cols": {
    "lenName": 16,
    "lenType": 16,
    "lenVar": 40
   },
   "kernels_config": {
    "python": {
     "delete_cmd_postfix": "",
     "delete_cmd_prefix": "del ",
     "library": "var_list.py",
     "varRefreshCmd": "print(var_dic_list())"
    },
    "r": {
     "delete_cmd_postfix": ") ",
     "delete_cmd_prefix": "rm(",
     "library": "var_list.r",
     "varRefreshCmd": "cat(var_dic_list()) "
    }
   },
   "types_to_exclude": [
    "module",
    "function",
    "builtin_function_or_method",
    "instance",
    "_Feature"
   ],
   "window_display": false
  }
 },
 "nbformat": 4,
 "nbformat_minor": 5
}
