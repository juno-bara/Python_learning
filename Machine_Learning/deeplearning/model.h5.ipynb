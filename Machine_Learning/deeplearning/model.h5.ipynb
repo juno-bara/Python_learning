{
 "cells": [
  {
   "cell_type": "code",
   "execution_count": 3,
   "id": "d860f9c7",
   "metadata": {
    "ExecuteTime": {
     "end_time": "2023-02-22T01:26:29.783489Z",
     "start_time": "2023-02-22T01:26:29.772591Z"
    }
   },
   "outputs": [],
   "source": [
    "from tensorflow.keras.models import load_model "
   ]
  },
  {
   "cell_type": "code",
   "execution_count": 6,
   "id": "fc8cb660",
   "metadata": {
    "ExecuteTime": {
     "end_time": "2023-02-22T01:28:21.296329Z",
     "start_time": "2023-02-22T01:28:21.277007Z"
    }
   },
   "outputs": [],
   "source": [
    "import pandas as pd\n",
    "\n",
    "sona = pd.read_csv(\"./datasets/sonar.csv\", header=None)\n",
    "sona.head(3)\n",
    "\n",
    "from sklearn.model_selection import train_test_split\n",
    "from sklearn.preprocessing import LabelEncoder\n",
    "\n",
    "encoder = LabelEncoder()\n",
    "\n",
    "import numpy as np\n",
    "import tensorflow as tf\n",
    "\n",
    "np.random.seed(3)\n",
    "tf.random.set_seed(3)\n",
    "\n",
    "data = sona.values\n",
    "\n",
    "x = data[:, 0:60]\n",
    "x = np.asarray(x).astype(np.float32)\n",
    "y = sona[60]\n",
    "\n",
    "y_en = encoder.fit_transform(y)\n",
    "\n",
    "x_train,x_test, y_train, y_test = train_test_split(x,y_en, test_size=0.2, random_state=156)\n",
    "\n",
    "\n",
    "\n",
    "\n"
   ]
  },
  {
   "cell_type": "code",
   "execution_count": 7,
   "id": "2bd6ea89",
   "metadata": {
    "ExecuteTime": {
     "end_time": "2023-02-22T01:28:40.053207Z",
     "start_time": "2023-02-22T01:28:39.893866Z"
    }
   },
   "outputs": [],
   "source": [
    "model = load_model(\"model.h5\")"
   ]
  },
  {
   "cell_type": "code",
   "execution_count": 8,
   "id": "97fffc20",
   "metadata": {
    "ExecuteTime": {
     "end_time": "2023-02-22T01:28:40.659185Z",
     "start_time": "2023-02-22T01:28:40.283303Z"
    }
   },
   "outputs": [
    {
     "name": "stdout",
     "output_type": "stream",
     "text": [
      "7/7 [==============================] - 0s 3ms/step - loss: 0.2221 - accuracy: 0.9663\n",
      "/n Accracy: 0.9663\n"
     ]
    }
   ],
   "source": [
    "print(\"/n Accracy: %.4f\" % (model.evaluate(x,y_en)[1]))"
   ]
  },
  {
   "cell_type": "code",
   "execution_count": null,
   "id": "1d0540bb",
   "metadata": {},
   "outputs": [],
   "source": []
  }
 ],
 "metadata": {
  "kernelspec": {
   "display_name": "Python 3 (ipykernel)",
   "language": "python",
   "name": "python3"
  },
  "language_info": {
   "codemirror_mode": {
    "name": "ipython",
    "version": 3
   },
   "file_extension": ".py",
   "mimetype": "text/x-python",
   "name": "python",
   "nbconvert_exporter": "python",
   "pygments_lexer": "ipython3",
   "version": "3.11.1"
  },
  "toc": {
   "base_numbering": 1,
   "nav_menu": {},
   "number_sections": true,
   "sideBar": true,
   "skip_h1_title": false,
   "title_cell": "Table of Contents",
   "title_sidebar": "Contents",
   "toc_cell": false,
   "toc_position": {},
   "toc_section_display": true,
   "toc_window_display": false
  },
  "varInspector": {
   "cols": {
    "lenName": 16,
    "lenType": 16,
    "lenVar": 40
   },
   "kernels_config": {
    "python": {
     "delete_cmd_postfix": "",
     "delete_cmd_prefix": "del ",
     "library": "var_list.py",
     "varRefreshCmd": "print(var_dic_list())"
    },
    "r": {
     "delete_cmd_postfix": ") ",
     "delete_cmd_prefix": "rm(",
     "library": "var_list.r",
     "varRefreshCmd": "cat(var_dic_list()) "
    }
   },
   "types_to_exclude": [
    "module",
    "function",
    "builtin_function_or_method",
    "instance",
    "_Feature"
   ],
   "window_display": false
  }
 },
 "nbformat": 4,
 "nbformat_minor": 5
}
