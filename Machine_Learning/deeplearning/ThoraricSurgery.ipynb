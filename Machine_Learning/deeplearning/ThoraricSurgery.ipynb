{
 "cells": [
  {
   "cell_type": "code",
   "execution_count": 36,
   "id": "53f420ab",
   "metadata": {
    "ExecuteTime": {
     "end_time": "2023-02-21T01:44:43.478498Z",
     "start_time": "2023-02-21T01:44:43.452921Z"
    }
   },
   "outputs": [
    {
     "data": {
      "text/html": [
       "<div>\n",
       "<style scoped>\n",
       "    .dataframe tbody tr th:only-of-type {\n",
       "        vertical-align: middle;\n",
       "    }\n",
       "\n",
       "    .dataframe tbody tr th {\n",
       "        vertical-align: top;\n",
       "    }\n",
       "\n",
       "    .dataframe thead th {\n",
       "        text-align: right;\n",
       "    }\n",
       "</style>\n",
       "<table border=\"1\" class=\"dataframe\">\n",
       "  <thead>\n",
       "    <tr style=\"text-align: right;\">\n",
       "      <th></th>\n",
       "      <th>0</th>\n",
       "      <th>1</th>\n",
       "      <th>2</th>\n",
       "      <th>3</th>\n",
       "      <th>4</th>\n",
       "      <th>5</th>\n",
       "      <th>6</th>\n",
       "      <th>7</th>\n",
       "      <th>8</th>\n",
       "      <th>9</th>\n",
       "      <th>10</th>\n",
       "      <th>11</th>\n",
       "      <th>12</th>\n",
       "      <th>13</th>\n",
       "      <th>14</th>\n",
       "      <th>15</th>\n",
       "      <th>16</th>\n",
       "      <th>17</th>\n",
       "    </tr>\n",
       "  </thead>\n",
       "  <tbody>\n",
       "    <tr>\n",
       "      <th>0</th>\n",
       "      <td>293</td>\n",
       "      <td>1</td>\n",
       "      <td>3.80</td>\n",
       "      <td>2.80</td>\n",
       "      <td>0</td>\n",
       "      <td>0</td>\n",
       "      <td>0</td>\n",
       "      <td>0</td>\n",
       "      <td>0</td>\n",
       "      <td>0</td>\n",
       "      <td>12</td>\n",
       "      <td>0</td>\n",
       "      <td>0</td>\n",
       "      <td>0</td>\n",
       "      <td>1</td>\n",
       "      <td>0</td>\n",
       "      <td>62</td>\n",
       "      <td>0</td>\n",
       "    </tr>\n",
       "    <tr>\n",
       "      <th>1</th>\n",
       "      <td>1</td>\n",
       "      <td>2</td>\n",
       "      <td>2.88</td>\n",
       "      <td>2.16</td>\n",
       "      <td>1</td>\n",
       "      <td>0</td>\n",
       "      <td>0</td>\n",
       "      <td>0</td>\n",
       "      <td>1</td>\n",
       "      <td>1</td>\n",
       "      <td>14</td>\n",
       "      <td>0</td>\n",
       "      <td>0</td>\n",
       "      <td>0</td>\n",
       "      <td>1</td>\n",
       "      <td>0</td>\n",
       "      <td>60</td>\n",
       "      <td>0</td>\n",
       "    </tr>\n",
       "    <tr>\n",
       "      <th>2</th>\n",
       "      <td>8</td>\n",
       "      <td>2</td>\n",
       "      <td>3.19</td>\n",
       "      <td>2.50</td>\n",
       "      <td>1</td>\n",
       "      <td>0</td>\n",
       "      <td>0</td>\n",
       "      <td>0</td>\n",
       "      <td>1</td>\n",
       "      <td>0</td>\n",
       "      <td>11</td>\n",
       "      <td>0</td>\n",
       "      <td>0</td>\n",
       "      <td>1</td>\n",
       "      <td>1</td>\n",
       "      <td>0</td>\n",
       "      <td>66</td>\n",
       "      <td>1</td>\n",
       "    </tr>\n",
       "  </tbody>\n",
       "</table>\n",
       "</div>"
      ],
      "text/plain": [
       "    0   1     2     3   4   5   6   7   8   9   10  11  12  13  14  15  16  17\n",
       "0  293   1  3.80  2.80   0   0   0   0   0   0  12   0   0   0   1   0  62   0\n",
       "1    1   2  2.88  2.16   1   0   0   0   1   1  14   0   0   0   1   0  60   0\n",
       "2    8   2  3.19  2.50   1   0   0   0   1   0  11   0   0   1   1   0  66   1"
      ]
     },
     "execution_count": 36,
     "metadata": {},
     "output_type": "execute_result"
    }
   ],
   "source": [
    "import pandas as pd\n",
    "\n",
    "thorari = pd.read_csv(\"./datasets/ThoraricSurgery.csv\", header=None)\n",
    "\n",
    "thorari.head(3)"
   ]
  },
  {
   "cell_type": "code",
   "execution_count": 37,
   "id": "7f3bac7f",
   "metadata": {
    "ExecuteTime": {
     "end_time": "2023-02-21T01:44:44.078195Z",
     "start_time": "2023-02-21T01:44:44.063424Z"
    }
   },
   "outputs": [
    {
     "name": "stdout",
     "output_type": "stream",
     "text": [
      "<class 'pandas.core.frame.DataFrame'>\n",
      "RangeIndex: 470 entries, 0 to 469\n",
      "Data columns (total 18 columns):\n",
      " #   Column  Non-Null Count  Dtype  \n",
      "---  ------  --------------  -----  \n",
      " 0   0       470 non-null    int64  \n",
      " 1   1       470 non-null    int64  \n",
      " 2   2       470 non-null    float64\n",
      " 3   3       470 non-null    float64\n",
      " 4   4       470 non-null    int64  \n",
      " 5   5       470 non-null    int64  \n",
      " 6   6       470 non-null    int64  \n",
      " 7   7       470 non-null    int64  \n",
      " 8   8       470 non-null    int64  \n",
      " 9   9       470 non-null    int64  \n",
      " 10  10      470 non-null    int64  \n",
      " 11  11      470 non-null    int64  \n",
      " 12  12      470 non-null    int64  \n",
      " 13  13      470 non-null    int64  \n",
      " 14  14      470 non-null    int64  \n",
      " 15  15      470 non-null    int64  \n",
      " 16  16      470 non-null    int64  \n",
      " 17  17      470 non-null    int64  \n",
      "dtypes: float64(2), int64(16)\n",
      "memory usage: 66.2 KB\n"
     ]
    }
   ],
   "source": [
    "thorari.info()"
   ]
  },
  {
   "cell_type": "code",
   "execution_count": 38,
   "id": "a52dfab3",
   "metadata": {
    "ExecuteTime": {
     "end_time": "2023-02-21T01:44:45.095598Z",
     "start_time": "2023-02-21T01:44:45.027143Z"
    }
   },
   "outputs": [
    {
     "data": {
      "text/html": [
       "<div>\n",
       "<style scoped>\n",
       "    .dataframe tbody tr th:only-of-type {\n",
       "        vertical-align: middle;\n",
       "    }\n",
       "\n",
       "    .dataframe tbody tr th {\n",
       "        vertical-align: top;\n",
       "    }\n",
       "\n",
       "    .dataframe thead th {\n",
       "        text-align: right;\n",
       "    }\n",
       "</style>\n",
       "<table border=\"1\" class=\"dataframe\">\n",
       "  <thead>\n",
       "    <tr style=\"text-align: right;\">\n",
       "      <th></th>\n",
       "      <th>0</th>\n",
       "      <th>1</th>\n",
       "      <th>2</th>\n",
       "      <th>3</th>\n",
       "      <th>4</th>\n",
       "      <th>5</th>\n",
       "      <th>6</th>\n",
       "      <th>7</th>\n",
       "      <th>8</th>\n",
       "      <th>9</th>\n",
       "      <th>10</th>\n",
       "      <th>11</th>\n",
       "      <th>12</th>\n",
       "      <th>13</th>\n",
       "      <th>14</th>\n",
       "      <th>15</th>\n",
       "      <th>16</th>\n",
       "      <th>17</th>\n",
       "    </tr>\n",
       "  </thead>\n",
       "  <tbody>\n",
       "    <tr>\n",
       "      <th>count</th>\n",
       "      <td>470.000000</td>\n",
       "      <td>470.000000</td>\n",
       "      <td>470.000000</td>\n",
       "      <td>470.000000</td>\n",
       "      <td>470.000000</td>\n",
       "      <td>470.000000</td>\n",
       "      <td>470.000000</td>\n",
       "      <td>470.000000</td>\n",
       "      <td>470.000000</td>\n",
       "      <td>470.000000</td>\n",
       "      <td>470.000000</td>\n",
       "      <td>470.000000</td>\n",
       "      <td>470.000000</td>\n",
       "      <td>470.000000</td>\n",
       "      <td>470.000000</td>\n",
       "      <td>470.000000</td>\n",
       "      <td>470.000000</td>\n",
       "      <td>470.000000</td>\n",
       "    </tr>\n",
       "    <tr>\n",
       "      <th>mean</th>\n",
       "      <td>235.500000</td>\n",
       "      <td>3.095745</td>\n",
       "      <td>3.281638</td>\n",
       "      <td>4.568702</td>\n",
       "      <td>0.780851</td>\n",
       "      <td>0.065957</td>\n",
       "      <td>0.144681</td>\n",
       "      <td>0.065957</td>\n",
       "      <td>0.687234</td>\n",
       "      <td>0.165957</td>\n",
       "      <td>11.736170</td>\n",
       "      <td>0.074468</td>\n",
       "      <td>0.004255</td>\n",
       "      <td>0.017021</td>\n",
       "      <td>0.821277</td>\n",
       "      <td>0.004255</td>\n",
       "      <td>62.534043</td>\n",
       "      <td>0.148936</td>\n",
       "    </tr>\n",
       "    <tr>\n",
       "      <th>std</th>\n",
       "      <td>135.821574</td>\n",
       "      <td>0.722309</td>\n",
       "      <td>0.871395</td>\n",
       "      <td>11.767857</td>\n",
       "      <td>0.535375</td>\n",
       "      <td>0.248472</td>\n",
       "      <td>0.352154</td>\n",
       "      <td>0.248472</td>\n",
       "      <td>0.464114</td>\n",
       "      <td>0.372439</td>\n",
       "      <td>0.702243</td>\n",
       "      <td>0.262811</td>\n",
       "      <td>0.065163</td>\n",
       "      <td>0.129488</td>\n",
       "      <td>0.383529</td>\n",
       "      <td>0.065163</td>\n",
       "      <td>8.706902</td>\n",
       "      <td>0.356405</td>\n",
       "    </tr>\n",
       "    <tr>\n",
       "      <th>min</th>\n",
       "      <td>1.000000</td>\n",
       "      <td>1.000000</td>\n",
       "      <td>1.440000</td>\n",
       "      <td>0.960000</td>\n",
       "      <td>0.000000</td>\n",
       "      <td>0.000000</td>\n",
       "      <td>0.000000</td>\n",
       "      <td>0.000000</td>\n",
       "      <td>0.000000</td>\n",
       "      <td>0.000000</td>\n",
       "      <td>11.000000</td>\n",
       "      <td>0.000000</td>\n",
       "      <td>0.000000</td>\n",
       "      <td>0.000000</td>\n",
       "      <td>0.000000</td>\n",
       "      <td>0.000000</td>\n",
       "      <td>21.000000</td>\n",
       "      <td>0.000000</td>\n",
       "    </tr>\n",
       "    <tr>\n",
       "      <th>25%</th>\n",
       "      <td>118.250000</td>\n",
       "      <td>3.000000</td>\n",
       "      <td>2.600000</td>\n",
       "      <td>1.960000</td>\n",
       "      <td>0.000000</td>\n",
       "      <td>0.000000</td>\n",
       "      <td>0.000000</td>\n",
       "      <td>0.000000</td>\n",
       "      <td>0.000000</td>\n",
       "      <td>0.000000</td>\n",
       "      <td>11.000000</td>\n",
       "      <td>0.000000</td>\n",
       "      <td>0.000000</td>\n",
       "      <td>0.000000</td>\n",
       "      <td>1.000000</td>\n",
       "      <td>0.000000</td>\n",
       "      <td>57.000000</td>\n",
       "      <td>0.000000</td>\n",
       "    </tr>\n",
       "    <tr>\n",
       "      <th>50%</th>\n",
       "      <td>235.500000</td>\n",
       "      <td>3.000000</td>\n",
       "      <td>3.160000</td>\n",
       "      <td>2.400000</td>\n",
       "      <td>1.000000</td>\n",
       "      <td>0.000000</td>\n",
       "      <td>0.000000</td>\n",
       "      <td>0.000000</td>\n",
       "      <td>1.000000</td>\n",
       "      <td>0.000000</td>\n",
       "      <td>12.000000</td>\n",
       "      <td>0.000000</td>\n",
       "      <td>0.000000</td>\n",
       "      <td>0.000000</td>\n",
       "      <td>1.000000</td>\n",
       "      <td>0.000000</td>\n",
       "      <td>62.000000</td>\n",
       "      <td>0.000000</td>\n",
       "    </tr>\n",
       "    <tr>\n",
       "      <th>75%</th>\n",
       "      <td>352.750000</td>\n",
       "      <td>3.000000</td>\n",
       "      <td>3.807500</td>\n",
       "      <td>3.080000</td>\n",
       "      <td>1.000000</td>\n",
       "      <td>0.000000</td>\n",
       "      <td>0.000000</td>\n",
       "      <td>0.000000</td>\n",
       "      <td>1.000000</td>\n",
       "      <td>0.000000</td>\n",
       "      <td>12.000000</td>\n",
       "      <td>0.000000</td>\n",
       "      <td>0.000000</td>\n",
       "      <td>0.000000</td>\n",
       "      <td>1.000000</td>\n",
       "      <td>0.000000</td>\n",
       "      <td>69.000000</td>\n",
       "      <td>0.000000</td>\n",
       "    </tr>\n",
       "    <tr>\n",
       "      <th>max</th>\n",
       "      <td>470.000000</td>\n",
       "      <td>8.000000</td>\n",
       "      <td>6.300000</td>\n",
       "      <td>86.300000</td>\n",
       "      <td>2.000000</td>\n",
       "      <td>1.000000</td>\n",
       "      <td>1.000000</td>\n",
       "      <td>1.000000</td>\n",
       "      <td>1.000000</td>\n",
       "      <td>1.000000</td>\n",
       "      <td>14.000000</td>\n",
       "      <td>1.000000</td>\n",
       "      <td>1.000000</td>\n",
       "      <td>1.000000</td>\n",
       "      <td>1.000000</td>\n",
       "      <td>1.000000</td>\n",
       "      <td>87.000000</td>\n",
       "      <td>1.000000</td>\n",
       "    </tr>\n",
       "  </tbody>\n",
       "</table>\n",
       "</div>"
      ],
      "text/plain": [
       "               0           1           2           3           4           5   \\\n",
       "count  470.000000  470.000000  470.000000  470.000000  470.000000  470.000000   \n",
       "mean   235.500000    3.095745    3.281638    4.568702    0.780851    0.065957   \n",
       "std    135.821574    0.722309    0.871395   11.767857    0.535375    0.248472   \n",
       "min      1.000000    1.000000    1.440000    0.960000    0.000000    0.000000   \n",
       "25%    118.250000    3.000000    2.600000    1.960000    0.000000    0.000000   \n",
       "50%    235.500000    3.000000    3.160000    2.400000    1.000000    0.000000   \n",
       "75%    352.750000    3.000000    3.807500    3.080000    1.000000    0.000000   \n",
       "max    470.000000    8.000000    6.300000   86.300000    2.000000    1.000000   \n",
       "\n",
       "               6           7           8           9           10          11  \\\n",
       "count  470.000000  470.000000  470.000000  470.000000  470.000000  470.000000   \n",
       "mean     0.144681    0.065957    0.687234    0.165957   11.736170    0.074468   \n",
       "std      0.352154    0.248472    0.464114    0.372439    0.702243    0.262811   \n",
       "min      0.000000    0.000000    0.000000    0.000000   11.000000    0.000000   \n",
       "25%      0.000000    0.000000    0.000000    0.000000   11.000000    0.000000   \n",
       "50%      0.000000    0.000000    1.000000    0.000000   12.000000    0.000000   \n",
       "75%      0.000000    0.000000    1.000000    0.000000   12.000000    0.000000   \n",
       "max      1.000000    1.000000    1.000000    1.000000   14.000000    1.000000   \n",
       "\n",
       "               12          13          14          15          16          17  \n",
       "count  470.000000  470.000000  470.000000  470.000000  470.000000  470.000000  \n",
       "mean     0.004255    0.017021    0.821277    0.004255   62.534043    0.148936  \n",
       "std      0.065163    0.129488    0.383529    0.065163    8.706902    0.356405  \n",
       "min      0.000000    0.000000    0.000000    0.000000   21.000000    0.000000  \n",
       "25%      0.000000    0.000000    1.000000    0.000000   57.000000    0.000000  \n",
       "50%      0.000000    0.000000    1.000000    0.000000   62.000000    0.000000  \n",
       "75%      0.000000    0.000000    1.000000    0.000000   69.000000    0.000000  \n",
       "max      1.000000    1.000000    1.000000    1.000000   87.000000    1.000000  "
      ]
     },
     "execution_count": 38,
     "metadata": {},
     "output_type": "execute_result"
    }
   ],
   "source": [
    "thorari.describe()"
   ]
  },
  {
   "cell_type": "code",
   "execution_count": 39,
   "id": "79d98676",
   "metadata": {
    "ExecuteTime": {
     "end_time": "2023-02-21T01:44:46.013521Z",
     "start_time": "2023-02-21T01:44:46.005979Z"
    }
   },
   "outputs": [
    {
     "name": "stdout",
     "output_type": "stream",
     "text": [
      "0\n",
      "0\n"
     ]
    }
   ],
   "source": [
    "print(thorari.isna().sum().sum())\n",
    "print(thorari.isnull().sum().sum())"
   ]
  },
  {
   "cell_type": "code",
   "execution_count": 40,
   "id": "d6f37cf0",
   "metadata": {
    "ExecuteTime": {
     "end_time": "2023-02-21T01:44:46.911874Z",
     "start_time": "2023-02-21T01:44:46.904132Z"
    }
   },
   "outputs": [
    {
     "data": {
      "text/plain": [
       "0      0\n",
       "1      0\n",
       "2      1\n",
       "3      1\n",
       "4      0\n",
       "      ..\n",
       "465    0\n",
       "466    0\n",
       "467    0\n",
       "468    1\n",
       "469    0\n",
       "Name: 17, Length: 470, dtype: int64"
      ]
     },
     "execution_count": 40,
     "metadata": {},
     "output_type": "execute_result"
    }
   ],
   "source": [
    "thorari.iloc[:,-1]"
   ]
  },
  {
   "cell_type": "code",
   "execution_count": 41,
   "id": "169d3210",
   "metadata": {
    "ExecuteTime": {
     "end_time": "2023-02-21T01:44:49.404507Z",
     "start_time": "2023-02-21T01:44:49.394101Z"
    }
   },
   "outputs": [
    {
     "data": {
      "text/plain": [
       "0    400\n",
       "1     70\n",
       "Name: 17, dtype: int64"
      ]
     },
     "execution_count": 41,
     "metadata": {},
     "output_type": "execute_result"
    }
   ],
   "source": [
    "thorari[17].value_counts()"
   ]
  },
  {
   "cell_type": "code",
   "execution_count": 42,
   "id": "cb1e5cc9",
   "metadata": {
    "ExecuteTime": {
     "end_time": "2023-02-21T01:44:50.111739Z",
     "start_time": "2023-02-21T01:44:50.099114Z"
    }
   },
   "outputs": [
    {
     "name": "stdout",
     "output_type": "stream",
     "text": [
      "(376, 17) (94, 17) (376,) (94,)\n"
     ]
    }
   ],
   "source": [
    "from sklearn.model_selection import train_test_split\n",
    "\n",
    "x = thorari.drop(17, axis=1)\n",
    "y = thorari[17]\n",
    "\n",
    "x_train, x_test, y_train, y_test = train_test_split(x,y,test_size=0.2, stratify=y, random_state=156)\n",
    "print(x_train.shape, x_test.shape,  y_train.shape, y_test.shape)"
   ]
  },
  {
   "cell_type": "code",
   "execution_count": 43,
   "id": "88f4d6bf",
   "metadata": {
    "ExecuteTime": {
     "end_time": "2023-02-21T01:44:50.920015Z",
     "start_time": "2023-02-21T01:44:50.904225Z"
    }
   },
   "outputs": [],
   "source": [
    "from sklearn.preprocessing import StandardScaler\n",
    "\n",
    "scale = StandardScaler()\n",
    "\n",
    "x_train_scale = scale.fit_transform(x_train)\n",
    "x_test_scale = scale.fit_transform(x_test)"
   ]
  },
  {
   "cell_type": "markdown",
   "id": "8ef80d6c",
   "metadata": {},
   "source": [
    "* tf.keras.layers.Dense(\n",
    "    units,\n",
    "    activation=None,\n",
    "    use_bias=True,\n",
    "    kernel_initializer='glorot_uniform',\n",
    "    bias_initializer='zeros',\n",
    "    kernel_regularizer=None,\n",
    "    bias_regularizer=None,\n",
    "    activity_regularizer=None,\n",
    "    kernel_constraint=None,\n",
    "    bias_constraint=None,\n",
    "    **kwargs"
   ]
  },
  {
   "cell_type": "code",
   "execution_count": 68,
   "id": "ab9fd39e",
   "metadata": {
    "ExecuteTime": {
     "end_time": "2023-02-21T02:09:35.469765Z",
     "start_time": "2023-02-21T02:09:23.437855Z"
    }
   },
   "outputs": [
    {
     "name": "stdout",
     "output_type": "stream",
     "text": [
      "Epoch 1/100\n",
      "30/30 [==============================] - 1s 12ms/step - loss: 0.7115 - accuracy: 0.5433 - val_loss: 0.6612 - val_accuracy: 0.5658\n",
      "Epoch 2/100\n",
      "30/30 [==============================] - 0s 3ms/step - loss: 0.5891 - accuracy: 0.7900 - val_loss: 0.5761 - val_accuracy: 0.8026\n",
      "Epoch 3/100\n",
      "30/30 [==============================] - 0s 3ms/step - loss: 0.5157 - accuracy: 0.8333 - val_loss: 0.5240 - val_accuracy: 0.8421\n",
      "Epoch 4/100\n",
      "30/30 [==============================] - 0s 3ms/step - loss: 0.4735 - accuracy: 0.8467 - val_loss: 0.4882 - val_accuracy: 0.8421\n",
      "Epoch 5/100\n",
      "30/30 [==============================] - 0s 4ms/step - loss: 0.4444 - accuracy: 0.8533 - val_loss: 0.4696 - val_accuracy: 0.8421\n",
      "Epoch 6/100\n",
      "30/30 [==============================] - 0s 3ms/step - loss: 0.4277 - accuracy: 0.8567 - val_loss: 0.4570 - val_accuracy: 0.8421\n",
      "Epoch 7/100\n",
      "30/30 [==============================] - 0s 3ms/step - loss: 0.4133 - accuracy: 0.8567 - val_loss: 0.4486 - val_accuracy: 0.8421\n",
      "Epoch 8/100\n",
      "30/30 [==============================] - 0s 4ms/step - loss: 0.4036 - accuracy: 0.8567 - val_loss: 0.4396 - val_accuracy: 0.8421\n",
      "Epoch 9/100\n",
      "30/30 [==============================] - 0s 3ms/step - loss: 0.3963 - accuracy: 0.8567 - val_loss: 0.4340 - val_accuracy: 0.8421\n",
      "Epoch 10/100\n",
      "30/30 [==============================] - 0s 3ms/step - loss: 0.3906 - accuracy: 0.8633 - val_loss: 0.4305 - val_accuracy: 0.8421\n",
      "Epoch 11/100\n",
      "30/30 [==============================] - 0s 3ms/step - loss: 0.3845 - accuracy: 0.8633 - val_loss: 0.4266 - val_accuracy: 0.8421\n",
      "Epoch 12/100\n",
      "30/30 [==============================] - 0s 3ms/step - loss: 0.3797 - accuracy: 0.8633 - val_loss: 0.4214 - val_accuracy: 0.8421\n",
      "Epoch 13/100\n",
      "30/30 [==============================] - 0s 4ms/step - loss: 0.3765 - accuracy: 0.8633 - val_loss: 0.4183 - val_accuracy: 0.8421\n",
      "Epoch 14/100\n",
      "30/30 [==============================] - 0s 3ms/step - loss: 0.3722 - accuracy: 0.8633 - val_loss: 0.4155 - val_accuracy: 0.8421\n",
      "Epoch 15/100\n",
      "30/30 [==============================] - 0s 3ms/step - loss: 0.3692 - accuracy: 0.8600 - val_loss: 0.4129 - val_accuracy: 0.8421\n",
      "Epoch 16/100\n",
      "30/30 [==============================] - 0s 4ms/step - loss: 0.3658 - accuracy: 0.8633 - val_loss: 0.4085 - val_accuracy: 0.8421\n",
      "Epoch 17/100\n",
      "30/30 [==============================] - 0s 3ms/step - loss: 0.3630 - accuracy: 0.8633 - val_loss: 0.4108 - val_accuracy: 0.8421\n",
      "Epoch 18/100\n",
      "30/30 [==============================] - 0s 3ms/step - loss: 0.3601 - accuracy: 0.8633 - val_loss: 0.4057 - val_accuracy: 0.8421\n",
      "Epoch 19/100\n",
      "30/30 [==============================] - 0s 3ms/step - loss: 0.3578 - accuracy: 0.8633 - val_loss: 0.4035 - val_accuracy: 0.8421\n",
      "Epoch 20/100\n",
      "30/30 [==============================] - 0s 3ms/step - loss: 0.3549 - accuracy: 0.8667 - val_loss: 0.4030 - val_accuracy: 0.8421\n",
      "Epoch 21/100\n",
      "30/30 [==============================] - 0s 3ms/step - loss: 0.3527 - accuracy: 0.8667 - val_loss: 0.4032 - val_accuracy: 0.8421\n",
      "Epoch 22/100\n",
      "30/30 [==============================] - 0s 4ms/step - loss: 0.3507 - accuracy: 0.8667 - val_loss: 0.4012 - val_accuracy: 0.8421\n",
      "Epoch 23/100\n",
      "30/30 [==============================] - 0s 3ms/step - loss: 0.3480 - accuracy: 0.8667 - val_loss: 0.4003 - val_accuracy: 0.8421\n",
      "Epoch 24/100\n",
      "30/30 [==============================] - 0s 4ms/step - loss: 0.3464 - accuracy: 0.8700 - val_loss: 0.3985 - val_accuracy: 0.8421\n",
      "Epoch 25/100\n",
      "30/30 [==============================] - 0s 4ms/step - loss: 0.3436 - accuracy: 0.8700 - val_loss: 0.3971 - val_accuracy: 0.8421\n",
      "Epoch 26/100\n",
      "30/30 [==============================] - 0s 3ms/step - loss: 0.3420 - accuracy: 0.8667 - val_loss: 0.3980 - val_accuracy: 0.8421\n",
      "Epoch 27/100\n",
      "30/30 [==============================] - 0s 3ms/step - loss: 0.3396 - accuracy: 0.8700 - val_loss: 0.3970 - val_accuracy: 0.8421\n",
      "Epoch 28/100\n",
      "30/30 [==============================] - 0s 5ms/step - loss: 0.3374 - accuracy: 0.8700 - val_loss: 0.3951 - val_accuracy: 0.8421\n",
      "Epoch 29/100\n",
      "30/30 [==============================] - 0s 3ms/step - loss: 0.3367 - accuracy: 0.8733 - val_loss: 0.3954 - val_accuracy: 0.8421\n",
      "Epoch 30/100\n",
      "30/30 [==============================] - 0s 5ms/step - loss: 0.3337 - accuracy: 0.8733 - val_loss: 0.3948 - val_accuracy: 0.8421\n",
      "Epoch 31/100\n",
      "30/30 [==============================] - 0s 4ms/step - loss: 0.3323 - accuracy: 0.8733 - val_loss: 0.3921 - val_accuracy: 0.8553\n",
      "Epoch 32/100\n",
      "30/30 [==============================] - 0s 3ms/step - loss: 0.3300 - accuracy: 0.8767 - val_loss: 0.3943 - val_accuracy: 0.8421\n",
      "Epoch 33/100\n",
      "30/30 [==============================] - 0s 3ms/step - loss: 0.3287 - accuracy: 0.8767 - val_loss: 0.3935 - val_accuracy: 0.8553\n",
      "Epoch 34/100\n",
      "30/30 [==============================] - 0s 3ms/step - loss: 0.3273 - accuracy: 0.8767 - val_loss: 0.3934 - val_accuracy: 0.8553\n",
      "Epoch 35/100\n",
      "30/30 [==============================] - 0s 4ms/step - loss: 0.3255 - accuracy: 0.8767 - val_loss: 0.3916 - val_accuracy: 0.8684\n",
      "Epoch 36/100\n",
      "30/30 [==============================] - 0s 3ms/step - loss: 0.3236 - accuracy: 0.8733 - val_loss: 0.3920 - val_accuracy: 0.8553\n",
      "Epoch 37/100\n",
      "30/30 [==============================] - 0s 4ms/step - loss: 0.3218 - accuracy: 0.8800 - val_loss: 0.3906 - val_accuracy: 0.8553\n",
      "Epoch 38/100\n",
      "30/30 [==============================] - 0s 3ms/step - loss: 0.3202 - accuracy: 0.8733 - val_loss: 0.3934 - val_accuracy: 0.8421\n",
      "Epoch 39/100\n",
      "30/30 [==============================] - 0s 4ms/step - loss: 0.3196 - accuracy: 0.8767 - val_loss: 0.3914 - val_accuracy: 0.8421\n",
      "Epoch 40/100\n",
      "30/30 [==============================] - 0s 3ms/step - loss: 0.3171 - accuracy: 0.8733 - val_loss: 0.3927 - val_accuracy: 0.8421\n",
      "Epoch 41/100\n",
      "30/30 [==============================] - 0s 4ms/step - loss: 0.3153 - accuracy: 0.8733 - val_loss: 0.3907 - val_accuracy: 0.8421\n",
      "Epoch 42/100\n",
      "30/30 [==============================] - 0s 3ms/step - loss: 0.3143 - accuracy: 0.8733 - val_loss: 0.3928 - val_accuracy: 0.8421\n",
      "Epoch 43/100\n",
      "30/30 [==============================] - 0s 4ms/step - loss: 0.3129 - accuracy: 0.8767 - val_loss: 0.3920 - val_accuracy: 0.8421\n",
      "Epoch 44/100\n",
      "30/30 [==============================] - 0s 4ms/step - loss: 0.3108 - accuracy: 0.8767 - val_loss: 0.3918 - val_accuracy: 0.8421\n",
      "Epoch 45/100\n",
      "30/30 [==============================] - 0s 3ms/step - loss: 0.3092 - accuracy: 0.8800 - val_loss: 0.3922 - val_accuracy: 0.8421\n",
      "Epoch 46/100\n",
      "30/30 [==============================] - 0s 3ms/step - loss: 0.3084 - accuracy: 0.8767 - val_loss: 0.3917 - val_accuracy: 0.8421\n",
      "Epoch 47/100\n",
      "30/30 [==============================] - 0s 3ms/step - loss: 0.3070 - accuracy: 0.8767 - val_loss: 0.3936 - val_accuracy: 0.8421\n",
      "Epoch 48/100\n",
      "30/30 [==============================] - 0s 4ms/step - loss: 0.3056 - accuracy: 0.8800 - val_loss: 0.3935 - val_accuracy: 0.8421\n",
      "Epoch 49/100\n",
      "30/30 [==============================] - 0s 4ms/step - loss: 0.3034 - accuracy: 0.8833 - val_loss: 0.3936 - val_accuracy: 0.8421\n",
      "Epoch 50/100\n",
      "30/30 [==============================] - 0s 3ms/step - loss: 0.3035 - accuracy: 0.8800 - val_loss: 0.3955 - val_accuracy: 0.8421\n",
      "Epoch 51/100\n",
      "30/30 [==============================] - 0s 2ms/step - loss: 0.3019 - accuracy: 0.8800 - val_loss: 0.3969 - val_accuracy: 0.8421\n",
      "Epoch 52/100\n",
      "30/30 [==============================] - 0s 3ms/step - loss: 0.3001 - accuracy: 0.8867 - val_loss: 0.3989 - val_accuracy: 0.8421\n",
      "Epoch 53/100\n",
      "30/30 [==============================] - 0s 4ms/step - loss: 0.2990 - accuracy: 0.8933 - val_loss: 0.3990 - val_accuracy: 0.8421\n",
      "Epoch 54/100\n",
      "30/30 [==============================] - 0s 4ms/step - loss: 0.2984 - accuracy: 0.8867 - val_loss: 0.3994 - val_accuracy: 0.8421\n",
      "Epoch 55/100\n",
      "30/30 [==============================] - 0s 4ms/step - loss: 0.2961 - accuracy: 0.8933 - val_loss: 0.3996 - val_accuracy: 0.8421\n",
      "Epoch 56/100\n",
      "30/30 [==============================] - 0s 4ms/step - loss: 0.2945 - accuracy: 0.8933 - val_loss: 0.4006 - val_accuracy: 0.8421\n",
      "Epoch 57/100\n",
      "30/30 [==============================] - 0s 3ms/step - loss: 0.2932 - accuracy: 0.8967 - val_loss: 0.4024 - val_accuracy: 0.8421\n",
      "Epoch 58/100\n",
      "30/30 [==============================] - 0s 3ms/step - loss: 0.2924 - accuracy: 0.8900 - val_loss: 0.4046 - val_accuracy: 0.8421\n"
     ]
    },
    {
     "name": "stdout",
     "output_type": "stream",
     "text": [
      "Epoch 59/100\n",
      "30/30 [==============================] - 0s 4ms/step - loss: 0.2906 - accuracy: 0.8933 - val_loss: 0.4051 - val_accuracy: 0.8421\n",
      "Epoch 60/100\n",
      "30/30 [==============================] - 0s 4ms/step - loss: 0.2893 - accuracy: 0.8967 - val_loss: 0.4049 - val_accuracy: 0.8421\n",
      "Epoch 61/100\n",
      "30/30 [==============================] - 0s 3ms/step - loss: 0.2895 - accuracy: 0.8967 - val_loss: 0.4061 - val_accuracy: 0.8421\n",
      "Epoch 62/100\n",
      "30/30 [==============================] - 0s 3ms/step - loss: 0.2874 - accuracy: 0.8967 - val_loss: 0.4089 - val_accuracy: 0.8289\n",
      "Epoch 63/100\n",
      "30/30 [==============================] - 0s 3ms/step - loss: 0.2857 - accuracy: 0.8967 - val_loss: 0.4090 - val_accuracy: 0.8289\n",
      "Epoch 64/100\n",
      "30/30 [==============================] - 0s 4ms/step - loss: 0.2850 - accuracy: 0.8967 - val_loss: 0.4109 - val_accuracy: 0.8289\n",
      "Epoch 65/100\n",
      "30/30 [==============================] - 0s 4ms/step - loss: 0.2835 - accuracy: 0.9000 - val_loss: 0.4101 - val_accuracy: 0.8421\n",
      "Epoch 66/100\n",
      "30/30 [==============================] - 0s 4ms/step - loss: 0.2825 - accuracy: 0.9000 - val_loss: 0.4150 - val_accuracy: 0.8421\n",
      "Epoch 67/100\n",
      "30/30 [==============================] - 0s 4ms/step - loss: 0.2813 - accuracy: 0.8967 - val_loss: 0.4116 - val_accuracy: 0.8289\n",
      "Epoch 68/100\n",
      "30/30 [==============================] - 0s 3ms/step - loss: 0.2800 - accuracy: 0.9000 - val_loss: 0.4141 - val_accuracy: 0.8289\n",
      "Epoch 69/100\n",
      "30/30 [==============================] - 0s 3ms/step - loss: 0.2789 - accuracy: 0.8967 - val_loss: 0.4170 - val_accuracy: 0.8289\n",
      "Epoch 70/100\n",
      "30/30 [==============================] - 0s 3ms/step - loss: 0.2770 - accuracy: 0.9000 - val_loss: 0.4171 - val_accuracy: 0.8289\n",
      "Epoch 71/100\n",
      "30/30 [==============================] - 0s 3ms/step - loss: 0.2755 - accuracy: 0.9000 - val_loss: 0.4177 - val_accuracy: 0.8289\n",
      "Epoch 72/100\n",
      "30/30 [==============================] - 0s 3ms/step - loss: 0.2749 - accuracy: 0.9000 - val_loss: 0.4192 - val_accuracy: 0.8289\n",
      "Epoch 73/100\n",
      "30/30 [==============================] - 0s 4ms/step - loss: 0.2737 - accuracy: 0.9000 - val_loss: 0.4215 - val_accuracy: 0.8289\n",
      "Epoch 74/100\n",
      "30/30 [==============================] - 0s 4ms/step - loss: 0.2723 - accuracy: 0.9000 - val_loss: 0.4229 - val_accuracy: 0.8289\n",
      "Epoch 75/100\n",
      "30/30 [==============================] - 0s 5ms/step - loss: 0.2717 - accuracy: 0.9000 - val_loss: 0.4203 - val_accuracy: 0.8289\n",
      "Epoch 76/100\n",
      "30/30 [==============================] - 0s 4ms/step - loss: 0.2701 - accuracy: 0.9000 - val_loss: 0.4253 - val_accuracy: 0.8421\n",
      "Epoch 77/100\n",
      "30/30 [==============================] - 0s 4ms/step - loss: 0.2689 - accuracy: 0.9000 - val_loss: 0.4256 - val_accuracy: 0.8289\n",
      "Epoch 78/100\n",
      "30/30 [==============================] - 0s 3ms/step - loss: 0.2675 - accuracy: 0.9000 - val_loss: 0.4258 - val_accuracy: 0.8289\n",
      "Epoch 79/100\n",
      "30/30 [==============================] - 0s 4ms/step - loss: 0.2668 - accuracy: 0.9000 - val_loss: 0.4245 - val_accuracy: 0.8421\n",
      "Epoch 80/100\n",
      "30/30 [==============================] - 0s 5ms/step - loss: 0.2649 - accuracy: 0.9000 - val_loss: 0.4272 - val_accuracy: 0.8289\n",
      "Epoch 81/100\n",
      "30/30 [==============================] - 0s 3ms/step - loss: 0.2647 - accuracy: 0.9000 - val_loss: 0.4318 - val_accuracy: 0.8289\n",
      "Epoch 82/100\n",
      "30/30 [==============================] - 0s 3ms/step - loss: 0.2631 - accuracy: 0.9000 - val_loss: 0.4324 - val_accuracy: 0.8289\n",
      "Epoch 83/100\n",
      "30/30 [==============================] - 0s 3ms/step - loss: 0.2621 - accuracy: 0.9000 - val_loss: 0.4322 - val_accuracy: 0.8289\n",
      "Epoch 84/100\n",
      "30/30 [==============================] - 0s 4ms/step - loss: 0.2610 - accuracy: 0.9033 - val_loss: 0.4295 - val_accuracy: 0.8421\n",
      "Epoch 85/100\n",
      "30/30 [==============================] - 0s 3ms/step - loss: 0.2593 - accuracy: 0.9000 - val_loss: 0.4326 - val_accuracy: 0.8421\n",
      "Epoch 86/100\n",
      "30/30 [==============================] - 0s 4ms/step - loss: 0.2595 - accuracy: 0.9033 - val_loss: 0.4361 - val_accuracy: 0.8421\n",
      "Epoch 87/100\n",
      "30/30 [==============================] - 0s 3ms/step - loss: 0.2579 - accuracy: 0.9033 - val_loss: 0.4368 - val_accuracy: 0.8289\n",
      "Epoch 88/100\n",
      "30/30 [==============================] - 0s 3ms/step - loss: 0.2558 - accuracy: 0.9033 - val_loss: 0.4399 - val_accuracy: 0.8421\n",
      "Epoch 89/100\n",
      "30/30 [==============================] - 0s 4ms/step - loss: 0.2563 - accuracy: 0.9033 - val_loss: 0.4375 - val_accuracy: 0.8421\n",
      "Epoch 90/100\n",
      "30/30 [==============================] - 0s 3ms/step - loss: 0.2549 - accuracy: 0.9067 - val_loss: 0.4407 - val_accuracy: 0.8421\n",
      "Epoch 91/100\n",
      "30/30 [==============================] - 0s 4ms/step - loss: 0.2524 - accuracy: 0.9067 - val_loss: 0.4427 - val_accuracy: 0.8289\n",
      "Epoch 92/100\n",
      "30/30 [==============================] - 0s 3ms/step - loss: 0.2522 - accuracy: 0.9033 - val_loss: 0.4479 - val_accuracy: 0.8421\n",
      "Epoch 93/100\n",
      "30/30 [==============================] - 0s 4ms/step - loss: 0.2505 - accuracy: 0.9033 - val_loss: 0.4479 - val_accuracy: 0.8421\n",
      "Epoch 94/100\n",
      "30/30 [==============================] - 0s 3ms/step - loss: 0.2490 - accuracy: 0.9067 - val_loss: 0.4459 - val_accuracy: 0.8421\n",
      "Epoch 95/100\n",
      "30/30 [==============================] - 0s 3ms/step - loss: 0.2478 - accuracy: 0.9033 - val_loss: 0.4491 - val_accuracy: 0.8421\n",
      "Epoch 96/100\n",
      "30/30 [==============================] - 0s 3ms/step - loss: 0.2468 - accuracy: 0.9067 - val_loss: 0.4492 - val_accuracy: 0.8421\n",
      "Epoch 97/100\n",
      "30/30 [==============================] - 0s 4ms/step - loss: 0.2456 - accuracy: 0.9133 - val_loss: 0.4540 - val_accuracy: 0.8289\n",
      "Epoch 98/100\n",
      "30/30 [==============================] - 0s 4ms/step - loss: 0.2448 - accuracy: 0.9067 - val_loss: 0.4500 - val_accuracy: 0.8421\n",
      "Epoch 99/100\n",
      "30/30 [==============================] - 0s 5ms/step - loss: 0.2436 - accuracy: 0.9100 - val_loss: 0.4571 - val_accuracy: 0.8421\n",
      "Epoch 100/100\n",
      "30/30 [==============================] - 0s 5ms/step - loss: 0.2425 - accuracy: 0.9133 - val_loss: 0.4561 - val_accuracy: 0.8421\n",
      "테스트 손실값: 0.5092261433601379\n",
      "테스트 정확도: 0.8297872543334961\n"
     ]
    }
   ],
   "source": [
    "from tensorflow.keras.models import Sequential\n",
    "from tensorflow.keras.layers import Dense\n",
    "\n",
    "import tensorflow as tf\n",
    "import numpy as np\n",
    "\n",
    "np.random.seed(3)\n",
    "tf.random.set_seed(3)\n",
    "\n",
    "model = Sequential()\n",
    "model.add(Dense(30, input_dim = 17, activation = \"relu\"))\n",
    "model.add(Dense(1, activation = \"sigmoid\"))\n",
    "\n",
    "model.compile(loss =  \"binary_crossentropy\", optimizer = \"adam\", metrics=[\"accuracy\"])\n",
    "history = model.fit(x_train_scale,y_train, epochs = 100, batch_size = 10, validation_split=0.2 )\n",
    "\n",
    "score = model.evaluate(x_test_scale, y_test, verbose=0)\n",
    "print('테스트 손실값:', score[0])\n",
    "print('테스트 정확도:', score[1])\n"
   ]
  },
  {
   "cell_type": "code",
   "execution_count": 69,
   "id": "92982539",
   "metadata": {
    "ExecuteTime": {
     "end_time": "2023-02-21T02:09:40.338797Z",
     "start_time": "2023-02-21T02:09:40.333116Z"
    }
   },
   "outputs": [],
   "source": [
    "hist = history.history"
   ]
  },
  {
   "cell_type": "code",
   "execution_count": 70,
   "id": "7c5af6f2",
   "metadata": {
    "ExecuteTime": {
     "end_time": "2023-02-21T02:09:42.395588Z",
     "start_time": "2023-02-21T02:09:42.265264Z"
    }
   },
   "outputs": [
    {
     "data": {
      "image/png": "[encoded data removed]",
      "text/plain": [
       "<Figure size 640x480 with 1 Axes>"
      ]
     },
     "metadata": {},
     "output_type": "display_data"
    }
   ],
   "source": [
    "import matplotlib.pyplot as plt\n",
    "\n",
    "vl = hist[\"val_loss\"]\n",
    "va = hist[\"val_accuracy\"]\n",
    "\n",
    "plt.plot(vl, label = \"val_loss\")\n",
    "plt.plot(va, label = \"val_accuracy\")\n",
    "plt.legend()\n",
    "plt.show()"
   ]
  },
  {
   "cell_type": "code",
   "execution_count": 74,
   "id": "188b540b",
   "metadata": {
    "ExecuteTime": {
     "end_time": "2023-02-21T02:10:35.835622Z",
     "start_time": "2023-02-21T02:10:32.474507Z"
    }
   },
   "outputs": [
    {
     "name": "stdout",
     "output_type": "stream",
     "text": [
      "Epoch 1/20\n",
      "30/30 [==============================] - 1s 8ms/step - loss: 0.5104 - accuracy: 0.8033 - val_loss: 0.4837 - val_accuracy: 0.8553\n",
      "Epoch 2/20\n",
      "30/30 [==============================] - 0s 4ms/step - loss: 0.4603 - accuracy: 0.8500 - val_loss: 0.4623 - val_accuracy: 0.8421\n",
      "Epoch 3/20\n",
      "30/30 [==============================] - 0s 4ms/step - loss: 0.4332 - accuracy: 0.8500 - val_loss: 0.4532 - val_accuracy: 0.8421\n",
      "Epoch 4/20\n",
      "30/30 [==============================] - 0s 4ms/step - loss: 0.4184 - accuracy: 0.8533 - val_loss: 0.4455 - val_accuracy: 0.8421\n",
      "Epoch 5/20\n",
      "30/30 [==============================] - 0s 4ms/step - loss: 0.4060 - accuracy: 0.8500 - val_loss: 0.4451 - val_accuracy: 0.8421\n",
      "Epoch 6/20\n",
      "30/30 [==============================] - 0s 4ms/step - loss: 0.3986 - accuracy: 0.8500 - val_loss: 0.4422 - val_accuracy: 0.8289\n",
      "Epoch 7/20\n",
      "30/30 [==============================] - 0s 3ms/step - loss: 0.3904 - accuracy: 0.8533 - val_loss: 0.4416 - val_accuracy: 0.8289\n",
      "Epoch 8/20\n",
      "30/30 [==============================] - 0s 3ms/step - loss: 0.3844 - accuracy: 0.8533 - val_loss: 0.4374 - val_accuracy: 0.8289\n",
      "Epoch 9/20\n",
      "30/30 [==============================] - 0s 4ms/step - loss: 0.3795 - accuracy: 0.8533 - val_loss: 0.4365 - val_accuracy: 0.8289\n",
      "Epoch 10/20\n",
      "30/30 [==============================] - 0s 5ms/step - loss: 0.3752 - accuracy: 0.8533 - val_loss: 0.4354 - val_accuracy: 0.8289\n",
      "Epoch 11/20\n",
      "30/30 [==============================] - 0s 4ms/step - loss: 0.3702 - accuracy: 0.8533 - val_loss: 0.4345 - val_accuracy: 0.8289\n",
      "Epoch 12/20\n",
      "30/30 [==============================] - 0s 4ms/step - loss: 0.3658 - accuracy: 0.8533 - val_loss: 0.4330 - val_accuracy: 0.8289\n",
      "Epoch 13/20\n",
      "30/30 [==============================] - 0s 4ms/step - loss: 0.3633 - accuracy: 0.8567 - val_loss: 0.4324 - val_accuracy: 0.8289\n",
      "Epoch 14/20\n",
      "30/30 [==============================] - 0s 4ms/step - loss: 0.3602 - accuracy: 0.8567 - val_loss: 0.4320 - val_accuracy: 0.8289\n",
      "Epoch 15/20\n",
      "30/30 [==============================] - 0s 4ms/step - loss: 0.3571 - accuracy: 0.8633 - val_loss: 0.4306 - val_accuracy: 0.8289\n",
      "Epoch 16/20\n",
      "30/30 [==============================] - 0s 4ms/step - loss: 0.3536 - accuracy: 0.8667 - val_loss: 0.4278 - val_accuracy: 0.8289\n",
      "Epoch 17/20\n",
      "30/30 [==============================] - 0s 3ms/step - loss: 0.3510 - accuracy: 0.8633 - val_loss: 0.4332 - val_accuracy: 0.8289\n",
      "Epoch 18/20\n",
      "30/30 [==============================] - 0s 4ms/step - loss: 0.3477 - accuracy: 0.8633 - val_loss: 0.4275 - val_accuracy: 0.8289\n",
      "Epoch 19/20\n",
      "30/30 [==============================] - 0s 4ms/step - loss: 0.3460 - accuracy: 0.8633 - val_loss: 0.4273 - val_accuracy: 0.8289\n",
      "Epoch 20/20\n",
      "30/30 [==============================] - 0s 3ms/step - loss: 0.3432 - accuracy: 0.8633 - val_loss: 0.4293 - val_accuracy: 0.8289\n",
      "테스트 손실값: 0.4541238844394684\n",
      "테스트 정확도: 0.8510638475418091\n"
     ]
    }
   ],
   "source": [
    "from tensorflow.keras.models import Sequential\n",
    "from tensorflow.keras.layers import Dense\n",
    "\n",
    "import tensorflow as tf\n",
    "import numpy as np\n",
    "\n",
    "np.random.seed(3)\n",
    "tf.random.set_seed(3)\n",
    "\n",
    "model = Sequential()\n",
    "model.add(Dense(30, input_dim = 17, activation = \"relu\"))\n",
    "model.add(Dense(1, activation = \"sigmoid\"))\n",
    "\n",
    "model.compile(loss =  \"binary_crossentropy\", optimizer = \"adam\", metrics=[\"accuracy\"])\n",
    "history = model.fit(x_train_scale,y_train, epochs = 20, batch_size = 10, validation_split=0.2 )\n",
    "\n",
    "score = model.evaluate(x_test_scale, y_test, verbose=0)\n",
    "print('테스트 손실값:', score[0])\n",
    "print('테스트 정확도:', score[1])\n",
    "\n"
   ]
  },
  {
   "cell_type": "code",
   "execution_count": 75,
   "id": "10bd2a3e",
   "metadata": {
    "ExecuteTime": {
     "end_time": "2023-02-21T02:10:37.830860Z",
     "start_time": "2023-02-21T02:10:37.825166Z"
    }
   },
   "outputs": [],
   "source": [
    "hist = history.history"
   ]
  },
  {
   "cell_type": "code",
   "execution_count": 76,
   "id": "962cc7aa",
   "metadata": {
    "ExecuteTime": {
     "end_time": "2023-02-21T02:10:39.005852Z",
     "start_time": "2023-02-21T02:10:38.871471Z"
    }
   },
   "outputs": [
    {
     "data": {
      "image/png": "[encoded data removed]",
      "text/plain": [
       "<Figure size 640x480 with 1 Axes>"
      ]
     },
     "metadata": {},
     "output_type": "display_data"
    }
   ],
   "source": [
    "import matplotlib.pyplot as plt\n",
    "\n",
    "vl = hist[\"val_loss\"]\n",
    "va = hist[\"val_accuracy\"]\n",
    "\n",
    "plt.plot(vl, label = \"val_loss\")\n",
    "plt.plot(va, label = \"val_accuracy\")\n",
    "plt.legend()\n",
    "plt.show()"
   ]
  },
  {
   "cell_type": "code",
   "execution_count": null,
   "id": "dfde1b57",
   "metadata": {},
   "outputs": [],
   "source": []
  }
 ],
 "metadata": {
  "kernelspec": {
   "display_name": "Python 3 (ipykernel)",
   "language": "python",
   "name": "python3"
  },
  "language_info": {
   "codemirror_mode": {
    "name": "ipython",
    "version": 3
   },
   "file_extension": ".py",
   "mimetype": "text/x-python",
   "name": "python",
   "nbconvert_exporter": "python",
   "pygments_lexer": "ipython3",
   "version": "3.11.1"
  },
  "toc": {
   "base_numbering": 1,
   "nav_menu": {},
   "number_sections": true,
   "sideBar": true,
   "skip_h1_title": false,
   "title_cell": "Table of Contents",
   "title_sidebar": "Contents",
   "toc_cell": false,
   "toc_position": {},
   "toc_section_display": true,
   "toc_window_display": false
  },
  "varInspector": {
   "cols": {
    "lenName": 16,
    "lenType": 16,
    "lenVar": 40
   },
   "kernels_config": {
    "python": {
     "delete_cmd_postfix": "",
     "delete_cmd_prefix": "del ",
     "library": "var_list.py",
     "varRefreshCmd": "print(var_dic_list())"
    },
    "r": {
     "delete_cmd_postfix": ") ",
     "delete_cmd_prefix": "rm(",
     "library": "var_list.r",
     "varRefreshCmd": "cat(var_dic_list()) "
    }
   },
   "types_to_exclude": [
    "module",
    "function",
    "builtin_function_or_method",
    "instance",
    "_Feature"
   ],
   "window_display": false
  }
 },
 "nbformat": 4,
 "nbformat_minor": 5
}
