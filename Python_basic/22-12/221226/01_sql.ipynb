{
 "cells": [
  {
   "cell_type": "code",
   "execution_count": 81,
   "metadata": {},
   "outputs": [],
   "source": [
    "#mysql과 python 연동\n",
    "# 1. 라이브러리 설치\n",
    "# 2. sql서버의 정보 입력\n",
    "# 3. sql서버에 접속\n",
    "# 4. sql 쿼리문을 이용하여 대아터를 crud 작업"
   ]
  },
  {
   "cell_type": "code",
   "execution_count": 82,
   "metadata": {},
   "outputs": [
    {
     "name": "stdout",
     "output_type": "stream",
     "text": [
      "Requirement already satisfied: pymysql in c:\\새 폴더\\python\\lib\\site-packages (1.0.2)\n"
     ]
    }
   ],
   "source": [
    "!pip install pymysql"
   ]
  },
  {
   "cell_type": "code",
   "execution_count": 83,
   "metadata": {},
   "outputs": [],
   "source": [
    "import pymysql \n",
    "import pandas as pd"
   ]
  },
  {
   "cell_type": "code",
   "execution_count": 84,
   "metadata": {},
   "outputs": [],
   "source": [
    "# sql 서버 정보 입력  >> DB 접속\n",
    "\n",
    "_db = pymysql.Connect(\n",
    "        user=\"root\",\n",
    "        password= \"0403\",\n",
    "        host = \"localhost\",\n",
    "        db= \"ubion1\",\n",
    "        port=3306\n",
    "\n",
    "\n",
    "\n",
    ")"
   ]
  },
  {
   "cell_type": "code",
   "execution_count": 100,
   "metadata": {},
   "outputs": [],
   "source": [
    "# cursor 변수\n",
    "# sql 쿼리문을 실행시키기 위해서 만들어야한는 필수 변수\n",
    "# DictCursod는 sql쿼리문이 실행되고 나온 데이터를 딕셔너리 형태로 받는다\n",
    "\n",
    "cursor = _db.cursor(pymysql.cursors.DictCursor)"
   ]
  },
  {
   "cell_type": "code",
   "execution_count": 127,
   "metadata": {},
   "outputs": [
    {
     "name": "stdout",
     "output_type": "stream",
     "text": [
      "[{'id': '1', 'name': '2', 'age': 3, 'address': '4'}, {'id': '3145', 'name': '1243', 'age': 123, 'address': '124'}, {'id': '5', 'name': '5', 'age': 5, 'address': '5'}, {'id': 'abc', 'name': '30', 'age': 20, 'address': 'ubion11'}, {'id': 'good', 'name': 'hello', 'age': 25, 'address': 'ubion'}, {'id': 'Hello', 'name': 'Would', 'age': 777777, 'address': 'ubion'}, {'id': 'Hi', 'name': 'hello', 'age': 99999, 'address': 'jip'}, {'id': 'test', 'name': 'moon', 'age': None, 'address': 'ubion'}, {'id': 'test10', 'name': 'new', 'age': 99, 'address': 'house'}, {'id': 'test11', 'name': 'park', 'age': 40, 'address': 'ubion10'}, {'id': 'test2', 'name': 'kim', 'age': 30, 'address': 'ubion'}, {'id': 'test4', 'name': 'park', 'age': 30, 'address': 'ubion2'}, {'id': 'test9', 'name': 'lee', 'age': 25, 'address': 'ubion5'}]\n"
     ]
    }
   ],
   "source": [
    "sql = \"\"\"\n",
    "        select \n",
    "        * \n",
    "        from\n",
    "        user_info\n",
    "    \"\"\"\n",
    "    \n",
    "cursor.execute(sql)\n",
    "\n",
    "result = cursor.fetchall()\n",
    "print(result)"
   ]
  },
  {
   "cell_type": "code",
   "execution_count": 87,
   "metadata": {},
   "outputs": [
    {
     "data": {
      "text/html": [
       "<div>\n",
       "<style scoped>\n",
       "    .dataframe tbody tr th:only-of-type {\n",
       "        vertical-align: middle;\n",
       "    }\n",
       "\n",
       "    .dataframe tbody tr th {\n",
       "        vertical-align: top;\n",
       "    }\n",
       "\n",
       "    .dataframe thead th {\n",
       "        text-align: right;\n",
       "    }\n",
       "</style>\n",
       "<table border=\"1\" class=\"dataframe\">\n",
       "  <thead>\n",
       "    <tr style=\"text-align: right;\">\n",
       "      <th></th>\n",
       "      <th>id</th>\n",
       "      <th>name</th>\n",
       "      <th>age</th>\n",
       "      <th>address</th>\n",
       "    </tr>\n",
       "  </thead>\n",
       "  <tbody>\n",
       "    <tr>\n",
       "      <th>0</th>\n",
       "      <td>test</td>\n",
       "      <td>lee</td>\n",
       "      <td>NaN</td>\n",
       "      <td>ubion</td>\n",
       "    </tr>\n",
       "    <tr>\n",
       "      <th>1</th>\n",
       "      <td>test2</td>\n",
       "      <td>kim</td>\n",
       "      <td>20.0</td>\n",
       "      <td>ubion</td>\n",
       "    </tr>\n",
       "  </tbody>\n",
       "</table>\n",
       "</div>"
      ],
      "text/plain": [
       "      id name   age address\n",
       "0   test  lee   NaN   ubion\n",
       "1  test2  kim  20.0   ubion"
      ]
     },
     "execution_count": 87,
     "metadata": {},
     "output_type": "execute_result"
    }
   ],
   "source": [
    "pd.DataFrame(result)"
   ]
  },
  {
   "cell_type": "code",
   "execution_count": 104,
   "metadata": {},
   "outputs": [
    {
     "data": {
      "text/plain": [
       "1"
      ]
     },
     "execution_count": 104,
     "metadata": {},
     "output_type": "execute_result"
    }
   ],
   "source": [
    "sql = \"\"\" \n",
    "        insert into\n",
    "        user_info(id, name, age)\n",
    "        values\n",
    "        (\"good\", \"hello\", 25)\n",
    "    \"\"\"\n",
    "\n",
    "cursor.execute(sql)\n"
   ]
  },
  {
   "cell_type": "code",
   "execution_count": 105,
   "metadata": {},
   "outputs": [],
   "source": [
    "_db.commit()"
   ]
  },
  {
   "cell_type": "code",
   "execution_count": null,
   "metadata": {},
   "outputs": [
    {
     "data": {
      "text/html": [
       "<div>\n",
       "<style scoped>\n",
       "    .dataframe tbody tr th:only-of-type {\n",
       "        vertical-align: middle;\n",
       "    }\n",
       "\n",
       "    .dataframe tbody tr th {\n",
       "        vertical-align: top;\n",
       "    }\n",
       "\n",
       "    .dataframe thead th {\n",
       "        text-align: right;\n",
       "    }\n",
       "</style>\n",
       "<table border=\"1\" class=\"dataframe\">\n",
       "  <thead>\n",
       "    <tr style=\"text-align: right;\">\n",
       "      <th></th>\n",
       "      <th>날짜</th>\n",
       "      <th>사망자</th>\n",
       "      <th>확진자</th>\n",
       "    </tr>\n",
       "  </thead>\n",
       "  <tbody>\n",
       "    <tr>\n",
       "      <th>0</th>\n",
       "      <td>2020-03-10 00:00:00.000</td>\n",
       "      <td>54</td>\n",
       "      <td>7513</td>\n",
       "    </tr>\n",
       "    <tr>\n",
       "      <th>1</th>\n",
       "      <td>2020-03-11 00:00:00.000</td>\n",
       "      <td>60</td>\n",
       "      <td>7755</td>\n",
       "    </tr>\n",
       "    <tr>\n",
       "      <th>2</th>\n",
       "      <td>2020-03-12 00:00:00.000</td>\n",
       "      <td>66</td>\n",
       "      <td>7869</td>\n",
       "    </tr>\n",
       "    <tr>\n",
       "      <th>3</th>\n",
       "      <td>2020-03-13 00:00:00.000</td>\n",
       "      <td>67</td>\n",
       "      <td>7979</td>\n",
       "    </tr>\n",
       "    <tr>\n",
       "      <th>4</th>\n",
       "      <td>2020-03-14 00:00:00.000</td>\n",
       "      <td>72</td>\n",
       "      <td>8086</td>\n",
       "    </tr>\n",
       "    <tr>\n",
       "      <th>...</th>\n",
       "      <td>...</td>\n",
       "      <td>...</td>\n",
       "      <td>...</td>\n",
       "    </tr>\n",
       "    <tr>\n",
       "      <th>815</th>\n",
       "      <td>2022-06-04 08:56:49.219</td>\n",
       "      <td>24238</td>\n",
       "      <td>18153814</td>\n",
       "    </tr>\n",
       "    <tr>\n",
       "      <th>816</th>\n",
       "      <td>2022-06-05 08:53:19.426</td>\n",
       "      <td>24258</td>\n",
       "      <td>18163648</td>\n",
       "    </tr>\n",
       "    <tr>\n",
       "      <th>817</th>\n",
       "      <td>2022-06-06 09:00:06.734</td>\n",
       "      <td>24279</td>\n",
       "      <td>18168670</td>\n",
       "    </tr>\n",
       "    <tr>\n",
       "      <th>818</th>\n",
       "      <td>2022-06-07 09:09:00.897</td>\n",
       "      <td>24299</td>\n",
       "      <td>18174842</td>\n",
       "    </tr>\n",
       "    <tr>\n",
       "      <th>819</th>\n",
       "      <td>2022-06-08 09:09:05.982</td>\n",
       "      <td>24305</td>\n",
       "      <td>18188200</td>\n",
       "    </tr>\n",
       "  </tbody>\n",
       "</table>\n",
       "<p>820 rows × 3 columns</p>\n",
       "</div>"
      ],
      "text/plain": [
       "                          날짜    사망자       확진자\n",
       "0    2020-03-10 00:00:00.000     54      7513\n",
       "1    2020-03-11 00:00:00.000     60      7755\n",
       "2    2020-03-12 00:00:00.000     66      7869\n",
       "3    2020-03-13 00:00:00.000     67      7979\n",
       "4    2020-03-14 00:00:00.000     72      8086\n",
       "..                       ...    ...       ...\n",
       "815  2022-06-04 08:56:49.219  24238  18153814\n",
       "816  2022-06-05 08:53:19.426  24258  18163648\n",
       "817  2022-06-06 09:00:06.734  24279  18168670\n",
       "818  2022-06-07 09:09:00.897  24299  18174842\n",
       "819  2022-06-08 09:09:05.982  24305  18188200\n",
       "\n",
       "[820 rows x 3 columns]"
      ]
     },
     "execution_count": 62,
     "metadata": {},
     "output_type": "execute_result"
    }
   ],
   "source": [
    "sql = \"\"\"\n",
    "        select \n",
    "        createDt as 날짜,\n",
    "        deathCnt as 사망자,\n",
    "        decideCnt as 확진자\n",
    "        from\n",
    "        corona\n",
    "        order by\n",
    "        createDt    \n",
    "    \"\"\"\n",
    "\n",
    "cursor.execute(sql)\n",
    "result = cursor.fetchall()\n",
    "df = pd.DataFrame(result)\n",
    "df"
   ]
  },
  {
   "cell_type": "code",
   "execution_count": null,
   "metadata": {},
   "outputs": [],
   "source": [
    "# sql 쿼리문 실행 함수\n",
    "# 1. select() 함수 생성\n",
    "# 2. 매개변수 두개 \n",
    "# 3. 매개변수 sql은 sql쿼리문을 입력 받는 변수\n",
    "# 4. 매개변수 limit의 기본값은 0\n",
    "# 5. limit가 0인 경우 쿼리문의 결과를 전부 보여줌 0이 아닌 경우에는 limit의 개수 만큼 행을 보여준다\n",
    "# 6. sql 쿼리문을 박아서 실행하고 결과값을 데이터프레임으로 만들어서 리턴"
   ]
  },
  {
   "cell_type": "code",
   "execution_count": null,
   "metadata": {},
   "outputs": [
    {
     "data": {
      "text/html": [
       "<div>\n",
       "<style scoped>\n",
       "    .dataframe tbody tr th:only-of-type {\n",
       "        vertical-align: middle;\n",
       "    }\n",
       "\n",
       "    .dataframe tbody tr th {\n",
       "        vertical-align: top;\n",
       "    }\n",
       "\n",
       "    .dataframe thead th {\n",
       "        text-align: right;\n",
       "    }\n",
       "</style>\n",
       "<table border=\"1\" class=\"dataframe\">\n",
       "  <thead>\n",
       "    <tr style=\"text-align: right;\">\n",
       "      <th></th>\n",
       "      <th>날짜</th>\n",
       "      <th>사망자</th>\n",
       "      <th>확진자</th>\n",
       "    </tr>\n",
       "  </thead>\n",
       "  <tbody>\n",
       "    <tr>\n",
       "      <th>0</th>\n",
       "      <td>2020-03-10 00:00:00.000</td>\n",
       "      <td>54</td>\n",
       "      <td>7513</td>\n",
       "    </tr>\n",
       "    <tr>\n",
       "      <th>1</th>\n",
       "      <td>2020-03-11 00:00:00.000</td>\n",
       "      <td>60</td>\n",
       "      <td>7755</td>\n",
       "    </tr>\n",
       "    <tr>\n",
       "      <th>2</th>\n",
       "      <td>2020-03-12 00:00:00.000</td>\n",
       "      <td>66</td>\n",
       "      <td>7869</td>\n",
       "    </tr>\n",
       "    <tr>\n",
       "      <th>3</th>\n",
       "      <td>2020-03-13 00:00:00.000</td>\n",
       "      <td>67</td>\n",
       "      <td>7979</td>\n",
       "    </tr>\n",
       "    <tr>\n",
       "      <th>4</th>\n",
       "      <td>2020-03-14 00:00:00.000</td>\n",
       "      <td>72</td>\n",
       "      <td>8086</td>\n",
       "    </tr>\n",
       "    <tr>\n",
       "      <th>5</th>\n",
       "      <td>2020-03-15 00:00:00.000</td>\n",
       "      <td>75</td>\n",
       "      <td>8162</td>\n",
       "    </tr>\n",
       "  </tbody>\n",
       "</table>\n",
       "</div>"
      ],
      "text/plain": [
       "                        날짜  사망자   확진자\n",
       "0  2020-03-10 00:00:00.000   54  7513\n",
       "1  2020-03-11 00:00:00.000   60  7755\n",
       "2  2020-03-12 00:00:00.000   66  7869\n",
       "3  2020-03-13 00:00:00.000   67  7979\n",
       "4  2020-03-14 00:00:00.000   72  8086\n",
       "5  2020-03-15 00:00:00.000   75  8162"
      ]
     },
     "execution_count": 69,
     "metadata": {},
     "output_type": "execute_result"
    }
   ],
   "source": [
    "def select(sql,limit=0):\n",
    "    cursor.execute(sql)\n",
    "    result = cursor.fetchall()\n",
    "    if limit != 0:\n",
    "        result = result[:limit]\n",
    "    result = pd.DataFrame(result)\n",
    "    return result\n",
    "\n",
    "\n",
    "select(sql, 6)"
   ]
  },
  {
   "cell_type": "code",
   "execution_count": null,
   "metadata": {},
   "outputs": [],
   "source": [
    "# input을 이용하여 입력받은 데이터 값을 insert\n",
    "# 1. input 함수를 이용하여 데이터 3개 받아온다\n",
    "# 2. insert문을 이용하여  user_info 테이블에  id, name, age, address 항목에 삽입\n"
   ]
  },
  {
   "cell_type": "code",
   "execution_count": null,
   "metadata": {},
   "outputs": [],
   "source": [
    "_id = input(\"id:\")\n",
    "_name = input(\"name :\")\n",
    "_age = input(\"age:\")\n",
    "_address = input(\"address:\")\n",
    "\n",
    "\n",
    "\n",
    "sql = f\"\"\" \n",
    "        insert into\n",
    "        user_info\n",
    "        values\n",
    "        (\"{_id}\", \"{_name}\", \"{_age}\", \"{_address}\")\n",
    "    \"\"\"\n",
    "# cursor.execute(sql,[_id,_name, _age, _address])\n",
    "\n",
    "cursor.execute(sql)\n",
    "_db.commit()\n"
   ]
  },
  {
   "cell_type": "code",
   "execution_count": 94,
   "metadata": {},
   "outputs": [],
   "source": [
    "# def insert(sql, *data) :\n",
    "#     cursor.execute(sql,data)\n",
    "#     _db.commit()\n",
    "#     cursor.fetchall()\n",
    "    \n",
    "# sql = \"\"\" insert into\n",
    "#         \"\"\""
   ]
  },
  {
   "cell_type": "code",
   "execution_count": 129,
   "metadata": {},
   "outputs": [
    {
     "ename": "Error",
     "evalue": "Already closed",
     "output_type": "error",
     "traceback": [
      "\u001b[1;31m---------------------------------------------------------------------------\u001b[0m",
      "\u001b[1;31mError\u001b[0m                                     Traceback (most recent call last)",
      "Cell \u001b[1;32mIn [129], line 2\u001b[0m\n\u001b[0;32m      1\u001b[0m \u001b[39m# 데이터베이스와의 접속 종료\u001b[39;00m\n\u001b[1;32m----> 2\u001b[0m _db\u001b[39m.\u001b[39mclose()\n",
      "File \u001b[1;32mc:\\새 폴더\\python\\lib\\site-packages\\pymysql\\connections.py:404\u001b[0m, in \u001b[0;36mConnection.close\u001b[1;34m(self)\u001b[0m\n\u001b[0;32m    395\u001b[0m \u001b[39m\"\"\"\u001b[39;00m\n\u001b[0;32m    396\u001b[0m \u001b[39mSend the quit message and close the socket.\u001b[39;00m\n\u001b[0;32m    397\u001b[0m \n\u001b[1;32m   (...)\u001b[0m\n\u001b[0;32m    401\u001b[0m \u001b[39m:raise Error: If the connection is already closed.\u001b[39;00m\n\u001b[0;32m    402\u001b[0m \u001b[39m\"\"\"\u001b[39;00m\n\u001b[0;32m    403\u001b[0m \u001b[39mif\u001b[39;00m \u001b[39mself\u001b[39m\u001b[39m.\u001b[39m_closed:\n\u001b[1;32m--> 404\u001b[0m     \u001b[39mraise\u001b[39;00m err\u001b[39m.\u001b[39mError(\u001b[39m\"\u001b[39m\u001b[39mAlready closed\u001b[39m\u001b[39m\"\u001b[39m)\n\u001b[0;32m    405\u001b[0m \u001b[39mself\u001b[39m\u001b[39m.\u001b[39m_closed \u001b[39m=\u001b[39m \u001b[39mTrue\u001b[39;00m\n\u001b[0;32m    406\u001b[0m \u001b[39mif\u001b[39;00m \u001b[39mself\u001b[39m\u001b[39m.\u001b[39m_sock \u001b[39mis\u001b[39;00m \u001b[39mNone\u001b[39;00m:\n",
      "\u001b[1;31mError\u001b[0m: Already closed"
     ]
    }
   ],
   "source": [
    "# 데이터베이스와의 접속 종료\n",
    "_db.close()"
   ]
  },
  {
   "cell_type": "code",
   "execution_count": 99,
   "metadata": {},
   "outputs": [],
   "source": [
    "# 외부에 있는 서버와의 접속\n",
    "# root아이디는 내부에서만 접속이 가능한 아이디 \n",
    "_db = pymysql.connect(\n",
    "    user = \"ubion\",\n",
    "    password = \"1234\",\n",
    "    host = \"172.16.12.149\",\n",
    "    db = \"ubion\",\n",
    "    port = 3306\n",
    ")\n",
    "\n",
    "\n"
   ]
  },
  {
   "cell_type": "code",
   "execution_count": null,
   "metadata": {},
   "outputs": [],
   "source": []
  }
 ],
 "metadata": {
  "kernelspec": {
   "display_name": "Python 3",
   "language": "python",
   "name": "python3"
  },
  "language_info": {
   "codemirror_mode": {
    "name": "ipython",
    "version": 3
   },
   "file_extension": ".py",
   "mimetype": "text/x-python",
   "name": "python",
   "nbconvert_exporter": "python",
   "pygments_lexer": "ipython3",
   "version": "3.10.7"
  },
  "orig_nbformat": 4,
  "vscode": {
   "interpreter": {
    "hash": "ad6d875a34c5d45ba316c6c6032b3df1c97c6bbaf5812ea361dbef1c1cfd1dd4"
   }
  }
 },
 "nbformat": 4,
 "nbformat_minor": 2
}
