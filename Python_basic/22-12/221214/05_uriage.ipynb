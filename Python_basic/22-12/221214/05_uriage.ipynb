{
 "cells": [
  {
   "cell_type": "code",
   "execution_count": 10,
   "metadata": {},
   "outputs": [],
   "source": [
    "import pandas as pd"
   ]
  },
  {
   "cell_type": "code",
   "execution_count": 2,
   "metadata": {},
   "outputs": [
    {
     "data": {
      "text/html": [
       "<div>\n",
       "<style scoped>\n",
       "    .dataframe tbody tr th:only-of-type {\n",
       "        vertical-align: middle;\n",
       "    }\n",
       "\n",
       "    .dataframe tbody tr th {\n",
       "        vertical-align: top;\n",
       "    }\n",
       "\n",
       "    .dataframe thead th {\n",
       "        text-align: right;\n",
       "    }\n",
       "</style>\n",
       "<table border=\"1\" class=\"dataframe\">\n",
       "  <thead>\n",
       "    <tr style=\"text-align: right;\">\n",
       "      <th></th>\n",
       "      <th>purchase_date</th>\n",
       "      <th>item_name</th>\n",
       "      <th>item_price</th>\n",
       "      <th>customer_name</th>\n",
       "    </tr>\n",
       "  </thead>\n",
       "  <tbody>\n",
       "    <tr>\n",
       "      <th>0</th>\n",
       "      <td>2019-06-13 18:02</td>\n",
       "      <td>상품A</td>\n",
       "      <td>100.0</td>\n",
       "      <td>김가온</td>\n",
       "    </tr>\n",
       "    <tr>\n",
       "      <th>1</th>\n",
       "      <td>2019-07-13 13:05</td>\n",
       "      <td>상 품 S</td>\n",
       "      <td>NaN</td>\n",
       "      <td>김우찬</td>\n",
       "    </tr>\n",
       "    <tr>\n",
       "      <th>2</th>\n",
       "      <td>2019-05-11 19:42</td>\n",
       "      <td>상 품 a</td>\n",
       "      <td>NaN</td>\n",
       "      <td>김유찬</td>\n",
       "    </tr>\n",
       "    <tr>\n",
       "      <th>3</th>\n",
       "      <td>2019-02-12 23:40</td>\n",
       "      <td>상품Z</td>\n",
       "      <td>2600.0</td>\n",
       "      <td>김재현</td>\n",
       "    </tr>\n",
       "    <tr>\n",
       "      <th>4</th>\n",
       "      <td>2019-04-22 3:09</td>\n",
       "      <td>상품a</td>\n",
       "      <td>NaN</td>\n",
       "      <td>김강현</td>\n",
       "    </tr>\n",
       "    <tr>\n",
       "      <th>5</th>\n",
       "      <td>2019-03-20 19:16</td>\n",
       "      <td>상품S</td>\n",
       "      <td>1900.0</td>\n",
       "      <td>김우진</td>\n",
       "    </tr>\n",
       "  </tbody>\n",
       "</table>\n",
       "</div>"
      ],
      "text/plain": [
       "      purchase_date item_name  item_price customer_name\n",
       "0  2019-06-13 18:02       상품A       100.0           김가온\n",
       "1  2019-07-13 13:05     상 품 S         NaN           김우찬\n",
       "2  2019-05-11 19:42     상 품 a         NaN           김유찬\n",
       "3  2019-02-12 23:40       상품Z      2600.0           김재현\n",
       "4   2019-04-22 3:09       상품a         NaN           김강현\n",
       "5  2019-03-20 19:16       상품S      1900.0           김우진"
      ]
     },
     "execution_count": 2,
     "metadata": {},
     "output_type": "execute_result"
    }
   ],
   "source": [
    "uriage = pd.read_csv(\"../csv/uriage.csv\")\n",
    "uriage.head(6)"
   ]
  },
  {
   "cell_type": "code",
   "execution_count": 3,
   "metadata": {},
   "outputs": [
    {
     "data": {
      "text/plain": [
       "purchase_date      0\n",
       "item_name          0\n",
       "item_price       387\n",
       "customer_name      0\n",
       "dtype: int64"
      ]
     },
     "execution_count": 3,
     "metadata": {},
     "output_type": "execute_result"
    }
   ],
   "source": [
    "uriage.isna().sum()"
   ]
  },
  {
   "cell_type": "code",
   "execution_count": 15,
   "metadata": {},
   "outputs": [],
   "source": [
    "uriage_1 = uriage.copy()\n"
   ]
  },
  {
   "cell_type": "code",
   "execution_count": 16,
   "metadata": {},
   "outputs": [],
   "source": [
    "uriage_1[\"purchase_date\"] = pd.to_datetime(uriage_1[\"purchase_date\"])\n"
   ]
  },
  {
   "cell_type": "code",
   "execution_count": 17,
   "metadata": {},
   "outputs": [],
   "source": [
    "# item_name에 있는 모든 데이터를 대문자로 통일\n",
    "# str >> 문자열로 변경\n",
    "\n",
    "uriage_1[\"item_name\"] = uriage_1[\"item_name\"].str.upper()"
   ]
  },
  {
   "cell_type": "code",
   "execution_count": 18,
   "metadata": {},
   "outputs": [
    {
     "data": {
      "text/html": [
       "<div>\n",
       "<style scoped>\n",
       "    .dataframe tbody tr th:only-of-type {\n",
       "        vertical-align: middle;\n",
       "    }\n",
       "\n",
       "    .dataframe tbody tr th {\n",
       "        vertical-align: top;\n",
       "    }\n",
       "\n",
       "    .dataframe thead th {\n",
       "        text-align: right;\n",
       "    }\n",
       "</style>\n",
       "<table border=\"1\" class=\"dataframe\">\n",
       "  <thead>\n",
       "    <tr style=\"text-align: right;\">\n",
       "      <th></th>\n",
       "      <th>purchase_date</th>\n",
       "      <th>item_name</th>\n",
       "      <th>item_price</th>\n",
       "      <th>customer_name</th>\n",
       "    </tr>\n",
       "  </thead>\n",
       "  <tbody>\n",
       "    <tr>\n",
       "      <th>0</th>\n",
       "      <td>2019-06-13 18:02:00</td>\n",
       "      <td>상품A</td>\n",
       "      <td>100.0</td>\n",
       "      <td>김가온</td>\n",
       "    </tr>\n",
       "    <tr>\n",
       "      <th>1</th>\n",
       "      <td>2019-07-13 13:05:00</td>\n",
       "      <td>상 품 S</td>\n",
       "      <td>NaN</td>\n",
       "      <td>김우찬</td>\n",
       "    </tr>\n",
       "    <tr>\n",
       "      <th>2</th>\n",
       "      <td>2019-05-11 19:42:00</td>\n",
       "      <td>상 품 A</td>\n",
       "      <td>NaN</td>\n",
       "      <td>김유찬</td>\n",
       "    </tr>\n",
       "    <tr>\n",
       "      <th>3</th>\n",
       "      <td>2019-02-12 23:40:00</td>\n",
       "      <td>상품Z</td>\n",
       "      <td>2600.0</td>\n",
       "      <td>김재현</td>\n",
       "    </tr>\n",
       "    <tr>\n",
       "      <th>4</th>\n",
       "      <td>2019-04-22 03:09:00</td>\n",
       "      <td>상품A</td>\n",
       "      <td>NaN</td>\n",
       "      <td>김강현</td>\n",
       "    </tr>\n",
       "  </tbody>\n",
       "</table>\n",
       "</div>"
      ],
      "text/plain": [
       "        purchase_date item_name  item_price customer_name\n",
       "0 2019-06-13 18:02:00       상품A       100.0           김가온\n",
       "1 2019-07-13 13:05:00     상 품 S         NaN           김우찬\n",
       "2 2019-05-11 19:42:00     상 품 A         NaN           김유찬\n",
       "3 2019-02-12 23:40:00       상품Z      2600.0           김재현\n",
       "4 2019-04-22 03:09:00       상품A         NaN           김강현"
      ]
     },
     "execution_count": 18,
     "metadata": {},
     "output_type": "execute_result"
    }
   ],
   "source": [
    "uriage_1.head()"
   ]
  },
  {
   "cell_type": "code",
   "execution_count": 19,
   "metadata": {},
   "outputs": [
    {
     "data": {
      "text/plain": [
       "0       상품A\n",
       "1       상품S\n",
       "2       상품A\n",
       "3       상품Z\n",
       "4       상품A\n",
       "       ... \n",
       "2994    상품Y\n",
       "2995    상품M\n",
       "2996    상품Q\n",
       "2997    상품H\n",
       "2998    상품D\n",
       "Name: item_name, Length: 2999, dtype: object"
      ]
     },
     "execution_count": 19,
     "metadata": {},
     "output_type": "execute_result"
    }
   ],
   "source": [
    "# item_mane의 데이터에서 공백제거\n",
    "# 공백을 제거하는 함수\n",
    "# stirp() > 양쪽의 공백을 제거하는 함수 (앞에 l,r을 붙여줘서 공백을 제거할 쪽을 정할 수 있음,문자열 사이의 공백은 제거 불가)\n",
    "# replace() > 지정한 문자열을 대체하는 함수 > 공백(\" \")을 문자열로 변환 가능\n",
    "\n",
    "# case1\n",
    "# uriage_1[\"item_name\"].srt.replace(\" \",\"\")\n",
    "\n",
    "\n",
    "# case2\n",
    "# apply 함수\n",
    "\n",
    "# def change(x):\n",
    "    # result = x.replace(\" \",\"\")\n",
    "    # return result\n",
    "\n",
    "# uriage_1[\"item_name\"].apply(change)\n",
    "\n",
    "\n",
    "\n",
    "\n",
    "# case3 \n",
    "# aaply함수 + lambda 함수\n",
    "uriage_1[\"item_name\"].apply(lambda x : \"OT\" if )\n"
   ]
  },
  {
   "cell_type": "code",
   "execution_count": null,
   "metadata": {},
   "outputs": [],
   "source": []
  }
 ],
 "metadata": {
  "kernelspec": {
   "display_name": "Python 3",
   "language": "python",
   "name": "python3"
  },
  "language_info": {
   "codemirror_mode": {
    "name": "ipython",
    "version": 3
   },
   "file_extension": ".py",
   "mimetype": "text/x-python",
   "name": "python",
   "nbconvert_exporter": "python",
   "pygments_lexer": "ipython3",
   "version": "3.10.7 (tags/v3.10.7:6cc6b13, Sep  5 2022, 14:08:36) [MSC v.1933 64 bit (AMD64)]"
  },
  "orig_nbformat": 4,
  "vscode": {
   "interpreter": {
    "hash": "ad6d875a34c5d45ba316c6c6032b3df1c97c6bbaf5812ea361dbef1c1cfd1dd4"
   }
  }
 },
 "nbformat": 4,
 "nbformat_minor": 2
}
