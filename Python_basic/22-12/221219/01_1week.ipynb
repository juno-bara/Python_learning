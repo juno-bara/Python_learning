{
 "cells": [
  {
   "cell_type": "code",
   "execution_count": 1,
   "metadata": {},
   "outputs": [],
   "source": [
    "# 변수\n",
    "# 1. 데이터를 저장하는 공간 >> 이름을 부여  \n",
    "    # 변수를 선언할때는 사용할 변수의 이름 = 변수에 들어갈 데이터\n",
    "    # 데이터의 타입은 여러가지\n",
    "    # python마의 특징 >> 대부분 언어는 변수 생성시 데이터 타입을 지정 python에서는 자동으로 지정 "
   ]
  },
  {
   "cell_type": "code",
   "execution_count": 2,
   "metadata": {},
   "outputs": [
    {
     "name": "stdout",
     "output_type": "stream",
     "text": [
      "<class 'str'>\n",
      "<class 'int'>\n"
     ]
    }
   ],
   "source": [
    "a = \"test\"\n",
    "b = 1234\n",
    "print(type(a))\n",
    "print(type(b))"
   ]
  },
  {
   "cell_type": "code",
   "execution_count": 3,
   "metadata": {},
   "outputs": [
    {
     "name": "stdout",
     "output_type": "stream",
     "text": [
      "test\n",
      "1234\n"
     ]
    }
   ],
   "source": [
    "c = \"test\"\n",
    "print(c)\n",
    "c=1234\n",
    "print(c)\n"
   ]
  },
  {
   "cell_type": "code",
   "execution_count": 4,
   "metadata": {},
   "outputs": [],
   "source": [
    "# 연산자 \n",
    "    # 일반적인 사칙연산(+,-,*,/,//,%,**)\n",
    "\n",
    "# 대입 연산자\n",
    "    # +=, -=, *=, /=, //=, %=, **= ex) a += b >> a = a + b\n",
    "\n",
    "# 비교 연산자\n",
    "    # 두개의 값은 비교하여 참과 거짓의 형태로 출력\n",
    "    # 주로 조건문, 반복문에서 사용 \n",
    "    # ==, >=, <= <, >, !=\n",
    "    # 비교를 해야하는 조건이 두개 이상인 경우 and : 두 가지의 조건의 모두 참인 경우 참 그 외에는 모두 거짓(&)\n",
    "                                          # or : 두 가지의 조건 중 하나만 참이여도 참 모두 거짓이면 거짓(|)\n",
    "                                          # not : 참은 거짓으로 거짓은 참으로 (!,~)"
   ]
  },
  {
   "cell_type": "code",
   "execution_count": 5,
   "metadata": {},
   "outputs": [
    {
     "name": "stdout",
     "output_type": "stream",
     "text": [
      "False\n",
      "True\n"
     ]
    }
   ],
   "source": [
    "x = 10\n",
    "y = 5\n",
    "print(x==y)\n",
    "print(x!=y)"
   ]
  },
  {
   "cell_type": "code",
   "execution_count": 6,
   "metadata": {},
   "outputs": [
    {
     "name": "stdout",
     "output_type": "stream",
     "text": [
      "True\n",
      "False\n",
      "True\n",
      "False\n"
     ]
    }
   ],
   "source": [
    "print(True and True)\n",
    "print(True and False)\n",
    "print(True or False)\n",
    "print(not(True))"
   ]
  },
  {
   "cell_type": "code",
   "execution_count": 7,
   "metadata": {},
   "outputs": [],
   "source": [
    "# 조건문(if문)\n",
    "# 1. 조건에 맞춰서 컴퓨터에세 지시를 내리기 위한 방법\n",
    "# 2. 조건식이 참일 경우 실행할 코드 작성\n",
    "# 3. 조건식이 거짓인 경우 실행 할 코드를 작성\n",
    "# 4. python 특징 : 실행 할 코드를 python에서는 {}(중괄호)를 사용하지 않기 때문에 들여쓰기로 작성"
   ]
  },
  {
   "cell_type": "code",
   "execution_count": 8,
   "metadata": {},
   "outputs": [
    {
     "name": "stdout",
     "output_type": "stream",
     "text": [
      "a는 20보다 작거나 같다\n"
     ]
    }
   ],
   "source": [
    "a = 10 \n",
    "if a > 20 :\n",
    "    # if 조건식이 참인 경우 실행할 코드 작성 \n",
    "    print(\"a는 20보다 크다\")\n",
    "else :\n",
    "    # if조건식이 거짓인 경우 실행할 코드 작성\n",
    "    print(\"a는 20보다 작거나 같다\")   "
   ]
  },
  {
   "cell_type": "code",
   "execution_count": 9,
   "metadata": {},
   "outputs": [],
   "source": [
    "# input() : 유저가 입력한 값은 가지고 오기 위한 함수 "
   ]
  },
  {
   "cell_type": "code",
   "execution_count": 10,
   "metadata": {},
   "outputs": [],
   "source": [
    "# 연습문제 \n",
    "# 1. input()함수를 이용해서 데이터를 받아오는 변수 하나 생성\n",
    "# 2. 유저가 입력한 데이터가 90이상이면 a 출력 80 이상이면 b 70이상이면 c 데이터의 타입이 int가 아니면 \"TypeError\" 출력\n",
    "# 그외의 경우에는 f를 출력"
   ]
  },
  {
   "cell_type": "code",
   "execution_count": 11,
   "metadata": {},
   "outputs": [
    {
     "name": "stdout",
     "output_type": "stream",
     "text": [
      "A\n"
     ]
    }
   ],
   "source": [
    "score = int(input(\"점수를 입력하시오 : \"))\n",
    "\n",
    "\n",
    "if score >= 90 :\n",
    "    print(\"A\")\n",
    "    \n",
    "elif score >= 80:\n",
    "    print(\"B\")\n",
    "\n",
    "elif score >= 70 :\n",
    "    print(\"C\")\n",
    "\n",
    "elif type(score) != int:\n",
    "    print(\"TypeError\")\n",
    "\n",
    "else :\n",
    "    print(\"F\")"
   ]
  },
  {
   "cell_type": "code",
   "execution_count": 12,
   "metadata": {},
   "outputs": [],
   "source": [
    "# 반복문 \n",
    "# 1. for \n",
    "    # for 변수명 in list 형태의 데이터(range(시작,중료,증감값))\n",
    "        #list의 길이만믐 번복 > 리스트 항목의 값들을 변수명애 담아서 아래의 코드에 대입하여 실행\n",
    "# 2. while\n",
    "    # 초기값을 지정하는 변수 지정 > while 조건직 > 조건식이 참인 경우 증감 시켜서 조건식이 거짓이 될 때 까지 반복"
   ]
  },
  {
   "cell_type": "code",
   "execution_count": 13,
   "metadata": {},
   "outputs": [
    {
     "name": "stdout",
     "output_type": "stream",
     "text": [
      "0,1,2,3,4,5,6,7,8,9\n"
     ]
    }
   ],
   "source": [
    "for i in range(0,10,1) :\n",
    "    if i == 9 :\n",
    "        print(i)\n",
    "    else:\n",
    "        print(i,end=\",\")"
   ]
  },
  {
   "cell_type": "code",
   "execution_count": 14,
   "metadata": {},
   "outputs": [
    {
     "name": "stdout",
     "output_type": "stream",
     "text": [
      "A\n",
      "B\n",
      "C\n",
      "D\n"
     ]
    }
   ],
   "source": [
    "# for문 (list형태의 데이터를 이용하는 법)\n",
    "\n",
    "list = [\"A\", \"B\", \"C\", \"D\"]\n",
    "\n",
    "for i in list:\n",
    "    print(i)"
   ]
  },
  {
   "cell_type": "code",
   "execution_count": 15,
   "metadata": {},
   "outputs": [
    {
     "name": "stdout",
     "output_type": "stream",
     "text": [
      "1,3,2,4,5,6,7,8\n",
      "9,"
     ]
    }
   ],
   "source": [
    "list_2 = [[1,3], [2,4], [5,6], [7,8], \"9\"]\n",
    "# for문 이용해서 1 3 2 4 5 6 7 8 출력\n",
    "\n",
    "for i in list_2 :\n",
    "     for k in i:\n",
    "        if k == 8 :\n",
    "            print(k)\n",
    "        else:\n",
    "            print(k,end=\",\")\n",
    "\n",
    "\n",
    "# hint는 다중 for문"
   ]
  },
  {
   "cell_type": "code",
   "execution_count": 16,
   "metadata": {},
   "outputs": [
    {
     "name": "stdout",
     "output_type": "stream",
     "text": [
      "55\n"
     ]
    }
   ],
   "source": [
    "#  while 문 \n",
    "x = 1\n",
    "sum = 0\n",
    "\n",
    "while x <= 10 :\n",
    "    sum += x\n",
    "    x += 1 \n",
    "print(sum)"
   ]
  },
  {
   "cell_type": "code",
   "execution_count": 17,
   "metadata": {},
   "outputs": [],
   "source": [
    "# > tuple\n",
    "    # 여러형태의 데이터를 담는 공간 중 하나 \n",
    "    # 가장 기본적인 형탸\n",
    "    # 각 항목의 수정 추가 삭제 불가능\n",
    "    # () 묶어서 표기\n",
    "\n",
    "# list\n",
    "    # 튜플과 흡사하지만 항목의 추가 수정 삭제 가능 \n",
    "    # []로 묶어서 표기 "
   ]
  },
  {
   "cell_type": "code",
   "execution_count": 18,
   "metadata": {},
   "outputs": [
    {
     "name": "stdout",
     "output_type": "stream",
     "text": [
      "(1, 2)\n",
      "(1, 2, 3)\n"
     ]
    }
   ],
   "source": [
    "a = (1,2)\n",
    "print(a)\n",
    "a = (1,2,3)\n",
    "print(a)"
   ]
  },
  {
   "cell_type": "code",
   "execution_count": 19,
   "metadata": {},
   "outputs": [
    {
     "name": "stdout",
     "output_type": "stream",
     "text": [
      "[1, 2, 3]\n",
      "[1, 2, 3, 4]\n"
     ]
    }
   ],
   "source": [
    "list_b = [1,2,3]\n",
    "print(list_b)\n",
    "list_b.append(4)\n",
    "print(list_b)"
   ]
  },
  {
   "cell_type": "code",
   "execution_count": 20,
   "metadata": {},
   "outputs": [
    {
     "name": "stdout",
     "output_type": "stream",
     "text": [
      "True\n"
     ]
    }
   ],
   "source": [
    "# list안에 항목이 존재하는가?\n",
    "# list_b 안에 3이 존재하는가?\n",
    "\n",
    "\n",
    "result = False\n",
    "\n",
    "for i in list_b : \n",
    "    if i == 3 :\n",
    "        result = True\n",
    "print(result)"
   ]
  },
  {
   "cell_type": "code",
   "execution_count": 21,
   "metadata": {},
   "outputs": [
    {
     "data": {
      "text/plain": [
       "True"
      ]
     },
     "execution_count": 21,
     "metadata": {},
     "output_type": "execute_result"
    }
   ],
   "source": [
    "3 in list_b "
   ]
  },
  {
   "cell_type": "code",
   "execution_count": 22,
   "metadata": {},
   "outputs": [],
   "source": [
    "# 함수 \n",
    "# 1. 고정된 데이터의 값이 아니라 실행 할 코드를 저장하여 매개변수에 따라 결과 값을 돌려주는 코드\n",
    "# 2. def라는 키워드를 이욯하여 함수 생성\n",
    "# 3. 함수면(인자) 함수 호출\n",
    "# 4. 일반적인 경우애는 매개변수의 수와 인자의 개수가 동일 해야한다"
   ]
  },
  {
   "cell_type": "code",
   "execution_count": 23,
   "metadata": {},
   "outputs": [
    {
     "name": "stdout",
     "output_type": "stream",
     "text": [
      "4\n",
      "25\n"
     ]
    }
   ],
   "source": [
    "def func_1(x) :\n",
    "    result = x**2\n",
    "    return result\n",
    "\n",
    "print(func_1(2))\n",
    "print(func_1(5))"
   ]
  },
  {
   "cell_type": "code",
   "execution_count": 24,
   "metadata": {},
   "outputs": [],
   "source": [
    "# 연습문제\n",
    "# 1. 비어이있는 리스트 생정\n",
    "# 2. 함수 생성 \n",
    "    # 매개변수는 한개\n",
    "    # 받아온 인자값을 리스트에 추가 \n",
    "    # 조건 - 리스트안에 인자값이 존재 하면 추가 안함 존재하지 않으면 추가 \n",
    "\n",
    "# 3. 단락을 실행해서 비어있는 리스트와 함수 실행\n",
    "# 4. 다음 단락에서 input()함수를 이용하여 2번 과정에서 만든 함수를 실행 하고 print(비어있는 리스트의 변수명)을 이용하여 리스트가 \n",
    "    # 생성되는 과정을 확인 "
   ]
  },
  {
   "cell_type": "code",
   "execution_count": 29,
   "metadata": {},
   "outputs": [],
   "source": [
    "# blank = []\n",
    "\n",
    "# def func_2(x) :\n",
    "#     if x in blank:\n",
    "#         print(blank)\n",
    "#     else :\n",
    "#         result = blank.append(x)\n",
    "#         return result\n",
    "\n",
    "\n",
    "result = []\n",
    "def add_list(x) :\n",
    "    if type(x)!= str:\n",
    "        x = str(x)    \n",
    "    if not(x in result) :\n",
    "        result.append(x)\n",
    "    else:\n",
    "        print(\"리스트 안에 값이 존재 합니다\")\n",
    "    return result\n",
    "\n",
    "\n",
    "\n"
   ]
  },
  {
   "cell_type": "code",
   "execution_count": 30,
   "metadata": {},
   "outputs": [
    {
     "name": "stdout",
     "output_type": "stream",
     "text": [
      "['1']\n"
     ]
    }
   ],
   "source": [
    "# a = (input(\"점수 : \"))\n",
    "# print(func_2(a))\n",
    "\n",
    "add_value = input(\"값을 입력하시오\")\n",
    "print(add_list(add_value))\n"
   ]
  },
  {
   "cell_type": "code",
   "execution_count": 31,
   "metadata": {},
   "outputs": [
    {
     "data": {
      "text/plain": [
       "['1', 1]"
      ]
     },
     "execution_count": 31,
     "metadata": {},
     "output_type": "execute_result"
    }
   ],
   "source": [
    "add_list(1)"
   ]
  },
  {
   "cell_type": "code",
   "execution_count": 34,
   "metadata": {},
   "outputs": [],
   "source": [
    "# 외부 라이브러리\n",
    "    # 라이브러리 설치 명령어 = pip install 라이브러리명\n",
    "    # 외부 라이브러리 로드 명령어 = imort 라이브러리명 as 별칭 , from 라이브러리 내부의 함수나 클래스 "
   ]
  },
  {
   "cell_type": "code",
   "execution_count": 33,
   "metadata": {},
   "outputs": [],
   "source": [
    "import pandas as pd\n",
    "import numpy as np\n",
    "import matplotlib.pyplot as plt"
   ]
  },
  {
   "cell_type": "code",
   "execution_count": null,
   "metadata": {},
   "outputs": [],
   "source": []
  }
 ],
 "metadata": {
  "kernelspec": {
   "display_name": "Python 3",
   "language": "python",
   "name": "python3"
  },
  "language_info": {
   "codemirror_mode": {
    "name": "ipython",
    "version": 3
   },
   "file_extension": ".py",
   "mimetype": "text/x-python",
   "name": "python",
   "nbconvert_exporter": "python",
   "pygments_lexer": "ipython3",
   "version": "3.10.7"
  },
  "orig_nbformat": 4,
  "vscode": {
   "interpreter": {
    "hash": "ad6d875a34c5d45ba316c6c6032b3df1c97c6bbaf5812ea361dbef1c1cfd1dd4"
   }
  }
 },
 "nbformat": 4,
 "nbformat_minor": 2
}
