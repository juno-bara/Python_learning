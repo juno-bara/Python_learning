{
 "cells": [
  {
   "cell_type": "code",
   "execution_count": 11,
   "metadata": {},
   "outputs": [
    {
     "name": "stdout",
     "output_type": "stream",
     "text": [
      "Requirement already satisfied: pymongo in c:\\새 폴더\\python\\lib\\site-packages (4.3.3)\n",
      "Requirement already satisfied: dnspython<3.0.0,>=1.16.0 in c:\\새 폴더\\python\\lib\\site-packages (from pymongo) (2.2.1)\n"
     ]
    }
   ],
   "source": [
    "!pip install pymongo"
   ]
  },
  {
   "cell_type": "code",
   "execution_count": 12,
   "metadata": {},
   "outputs": [],
   "source": [
    "from pymongo import MongoClient"
   ]
  },
  {
   "cell_type": "code",
   "execution_count": 13,
   "metadata": {},
   "outputs": [],
   "source": [
    "client = MongoClient(\n",
    "    host=\"localhost\",\n",
    "    port=27017\n",
    ")"
   ]
  },
  {
   "cell_type": "code",
   "execution_count": 14,
   "metadata": {},
   "outputs": [
    {
     "data": {
      "text/plain": [
       "['admin', 'config', 'local', 'ubion']"
      ]
     },
     "execution_count": 14,
     "metadata": {},
     "output_type": "execute_result"
    }
   ],
   "source": [
    "# mongodb에 있는 데이터베이스 출력\n",
    "\n",
    "client.list_database_names()"
   ]
  },
  {
   "cell_type": "code",
   "execution_count": 15,
   "metadata": {},
   "outputs": [],
   "source": [
    "# 데이터 접근 use와 같은 기능 \n",
    "# mongodb에서는 use사용하면 새로운 데이터 생성 될 수 있음\n",
    "\n",
    "db = client[\"ubion\"]"
   ]
  },
  {
   "cell_type": "code",
   "execution_count": 16,
   "metadata": {},
   "outputs": [
    {
     "data": {
      "text/plain": [
       "Database(MongoClient(host=['localhost:27017'], document_class=dict, tz_aware=False, connect=True), 'ubion')"
      ]
     },
     "execution_count": 16,
     "metadata": {},
     "output_type": "execute_result"
    }
   ],
   "source": [
    "db"
   ]
  },
  {
   "cell_type": "code",
   "execution_count": 17,
   "metadata": {},
   "outputs": [],
   "source": [
    "#  collection 접근 (collection은 sql의 테이블과 같은 의미)\n",
    "\n",
    "collection = db[\"test\"]"
   ]
  },
  {
   "cell_type": "code",
   "execution_count": 18,
   "metadata": {},
   "outputs": [
    {
     "data": {
      "text/plain": [
       "<pymongo.results.InsertOneResult at 0x26b18745990>"
      ]
     },
     "execution_count": 18,
     "metadata": {},
     "output_type": "execute_result"
    }
   ],
   "source": [
    "# crud 작업\n",
    "\n",
    "# create 작업  >  insert() \n",
    "# insert_many()/ insert_one() 두 개의 함수 존재\n",
    "# sql 에서도 같은 기능이 존재\n",
    "# insert into() 테이블명(필드 지정) values (데이터 값)\n",
    "# insert into() 테이블명(필드 지정) value (데이터 값)\n",
    "\n",
    "data = {\n",
    "    \"id\" : \"test\",\n",
    "    \"password\" : \"1234\"\n",
    "}\n",
    "collection.insert_one(data)"
   ]
  },
  {
   "cell_type": "code",
   "execution_count": 19,
   "metadata": {},
   "outputs": [
    {
     "data": {
      "text/plain": [
       "{'_id': ObjectId('63ace0f85cfa31ba6493b5cc'), 'id': 'test', 'password': '1234'}"
      ]
     },
     "execution_count": 19,
     "metadata": {},
     "output_type": "execute_result"
    }
   ],
   "source": [
    "collection.find_one()"
   ]
  },
  {
   "cell_type": "code",
   "execution_count": 21,
   "metadata": {},
   "outputs": [
    {
     "data": {
      "text/plain": [
       "<pymongo.results.InsertManyResult at 0x26b18746200>"
      ]
     },
     "execution_count": 21,
     "metadata": {},
     "output_type": "execute_result"
    }
   ],
   "source": [
    "data = [\n",
    "    {\n",
    "        \"name\" : \"test\",\n",
    "        \"phone\" : \"01012345678\",\n",
    "        \"gender\" : \"male\"\n",
    "    },\n",
    "    {\n",
    "        \"loc\" : \"seoul\"\n",
    "    }\n",
    "]\n",
    "\n",
    "collection.insert_many(data)"
   ]
  },
  {
   "cell_type": "code",
   "execution_count": 22,
   "metadata": {},
   "outputs": [],
   "source": [
    "#  sql에서 id, pasaword 데이터 / name phone gendr 데이터 / loc데이터 가 존재한다면 어떠 형식으로 구성?\n",
    "# table 3개 생성해서 각 table에 데이터 저장 ( id password 하나 name~gender 하나 loc 하나 총 3개의 테이블 생성 필요 )\n",
    "# 이유는 sql은 정형화 데이터를 저장하기 때문"
   ]
  },
  {
   "cell_type": "code",
   "execution_count": 26,
   "metadata": {},
   "outputs": [
    {
     "data": {
      "text/plain": [
       "[{'_id': ObjectId('63ace0f85cfa31ba6493b5cc')},\n",
       " {'_id': ObjectId('63ace0fd5cfa31ba6493b5ce')},\n",
       " {'_id': ObjectId('63ace31e5cfa31ba6493b5cf'), 'name': 'test'},\n",
       " {'_id': ObjectId('63ace31e5cfa31ba6493b5d0')}]"
      ]
     },
     "execution_count": 26,
     "metadata": {},
     "output_type": "execute_result"
    }
   ],
   "source": [
    "list(client[\"ubion\"][\"test\"].find({},{\"name\" : 1}))\n",
    "#  위의 식에서 앞 {} 은 sql 에서 where와 같은 의미 selet name from test\n"
   ]
  },
  {
   "cell_type": "code",
   "execution_count": 27,
   "metadata": {},
   "outputs": [
    {
     "data": {
      "text/plain": [
       "<pymongo.results.UpdateResult at 0x26b18745b40>"
      ]
     },
     "execution_count": 27,
     "metadata": {},
     "output_type": "execute_result"
    }
   ],
   "source": [
    "# update 수정 \n",
    "collection.update_one(\n",
    "    {\n",
    "        \"id\" : \"test\"\n",
    "    },\n",
    "    {\n",
    "        \"$set\" : {\n",
    "            \"password\" : \"0000\"\n",
    "        }\n",
    "    }\n",
    ")"
   ]
  },
  {
   "cell_type": "code",
   "execution_count": 28,
   "metadata": {},
   "outputs": [
    {
     "data": {
      "text/plain": [
       "[{'_id': ObjectId('63ace0f85cfa31ba6493b5cc'),\n",
       "  'id': 'test',\n",
       "  'password': '0000'},\n",
       " {'_id': ObjectId('63ace0fd5cfa31ba6493b5ce'),\n",
       "  'id': 'test',\n",
       "  'password': '1234'},\n",
       " {'_id': ObjectId('63ace31e5cfa31ba6493b5cf'),\n",
       "  'name': 'test',\n",
       "  'phone': '01012345678',\n",
       "  'gender': 'male'},\n",
       " {'_id': ObjectId('63ace31e5cfa31ba6493b5d0'), 'loc': 'seoul'}]"
      ]
     },
     "execution_count": 28,
     "metadata": {},
     "output_type": "execute_result"
    }
   ],
   "source": [
    "list(collection.find())"
   ]
  },
  {
   "cell_type": "code",
   "execution_count": 30,
   "metadata": {},
   "outputs": [
    {
     "data": {
      "text/plain": [
       "<pymongo.results.DeleteResult at 0x26b18746110>"
      ]
     },
     "execution_count": 30,
     "metadata": {},
     "output_type": "execute_result"
    }
   ],
   "source": [
    "# 삭제 delete\n",
    "\n",
    "collection.delete_one(\n",
    "        {\n",
    "            \"id\" : \"test\"\n",
    "        }\n",
    ")"
   ]
  },
  {
   "cell_type": "code",
   "execution_count": 31,
   "metadata": {},
   "outputs": [
    {
     "data": {
      "text/plain": [
       "[{'_id': ObjectId('63ace0fd5cfa31ba6493b5ce'),\n",
       "  'id': 'test',\n",
       "  'password': '1234'},\n",
       " {'_id': ObjectId('63ace31e5cfa31ba6493b5cf'),\n",
       "  'name': 'test',\n",
       "  'phone': '01012345678',\n",
       "  'gender': 'male'},\n",
       " {'_id': ObjectId('63ace31e5cfa31ba6493b5d0'), 'loc': 'seoul'}]"
      ]
     },
     "execution_count": 31,
     "metadata": {},
     "output_type": "execute_result"
    }
   ],
   "source": [
    "list(collection.find())"
   ]
  },
  {
   "cell_type": "code",
   "execution_count": 34,
   "metadata": {},
   "outputs": [],
   "source": [
    "# mongodb select 조건식\n",
    "\n",
    "# find(조건1,조건2,조건3,...,컬럼선택)\n",
    "# 1. db.collection.find() > select * FROM TABLE \n",
    "# 2. db.collection.find({},{\"id\":1, \"password\":1}) > select id, password FROM TABLE \n",
    "# 3. db.collection.find({},{\"id\": 1, \"password\" : 1, \"-id\":0}) > select id, password FROM TABLE (_id라는 항목은 보여주지 않겠다)\n",
    "# 4. db.collection.find({\"id\":\"test\"}) > selct * from table where id = \"test\"\n",
    "# 5. db.collection.find({\"id\" : \"test\" , \"password\" : \"1234\"}) > select  * from table where id = test and password = 1234\n",
    "# 6. db.colletion.find({\"id\" : \"test\"},{\"password\" : \"1234\"}) > select * from table where id = test or password = 1234\n",
    "# 7. db.colletion.find({\"age\" : {$gt : 25}}) > select * from tablewhere age > 25  \n",
    "# 8. db.colletion.find(\"age\" : {$1t : 25}}) > select * from table where age < 25\n",
    "# 9. db.colletion.find({\"id\" : {{/bc/}}) > select * from table where id like %bc%\n",
    "# 10. db.colletion.find().sort({\"id\" : 1 }) > select * from table where order by id asc\n",
    "# 11. db.colletion.find().sort({\"id\" : -1}) > select * from table where order by id desc\n",
    "# 12. db.colletion.find.limit(10) select * from table limit 10"
   ]
  },
  {
   "cell_type": "code",
   "execution_count": null,
   "metadata": {},
   "outputs": [],
   "source": []
  }
 ],
 "metadata": {
  "kernelspec": {
   "display_name": "Python 3",
   "language": "python",
   "name": "python3"
  },
  "language_info": {
   "codemirror_mode": {
    "name": "ipython",
    "version": 3
   },
   "file_extension": ".py",
   "mimetype": "text/x-python",
   "name": "python",
   "nbconvert_exporter": "python",
   "pygments_lexer": "ipython3",
   "version": "3.10.7 (tags/v3.10.7:6cc6b13, Sep  5 2022, 14:08:36) [MSC v.1933 64 bit (AMD64)]"
  },
  "orig_nbformat": 4,
  "vscode": {
   "interpreter": {
    "hash": "ad6d875a34c5d45ba316c6c6032b3df1c97c6bbaf5812ea361dbef1c1cfd1dd4"
   }
  }
 },
 "nbformat": 4,
 "nbformat_minor": 2
}
