{
 "cells": [
  {
   "cell_type": "code",
   "execution_count": 1,
   "metadata": {},
   "outputs": [],
   "source": [
    "import pandas as pd\n",
    "import numpy as np\n",
    "import matplotlib.pyplot as plt"
   ]
  },
  {
   "cell_type": "code",
   "execution_count": 2,
   "metadata": {},
   "outputs": [],
   "source": [
    "# pandas\n",
    "# 1.외부의 csv파일을 가져오는 함수 이름 > read_csv(파일경로)\n",
    "# 2.데이터프레임에서 컬럼의 이름을 변경하는 법 > 데이터프레임.colunms = [변경한 컬럼들의 리스트]\n",
    "# 3.특정 컬럼을 추출하는 방법 \n",
    "    # 데이터프레임명[\"컬럼명\"] > 단일컬럼 추출 > 데이터의 형태는 스리즈\n",
    "    # 여러개의 컬럼 추출 >> 데이터프레임명[[\"컬럼명1\",컬럼명2]] > 데이터의 형태는 데이터프레임 \n",
    "    # 스리즈는 1차원 데이터프레임은 2차원 \n",
    "# 4.스리즈 형태의 데이터를 리스트 형태의 데이터로 변경하는 함수 >\n",
    "    # 스리즈명.tolist()  \n",
    "# 5.컬럼을 값을 기준으로 하여 정렬을 변경하는 함수 > sort_values(기준이 되는 함수)\n",
    "    # ascending : 오름차순, 내림차순 지정(기본값 : 오름차순)\n",
    "    # inplce : 기준이 되는 데이터를 수정할지 여부(기본값:Flase) \n",
    "# 6.정렬한 후 인덱스의 값을 재지정하는 함수\n",
    "    # reset_index()\n",
    "    # drop : 기존의 인덱스 삭제 여부 (기본값 : False)\n",
    "    # inplace : 기준이 되는 데이터를 수정할지 여부 (기본값:False)\n",
    "# 7.결측치\n",
    "    # isna():결측치인지 판단하는 함수\n",
    "    # isna().sum() : 각 컬럼별로 결측치 개수르 출력\n",
    "    # fillna(값) : 결측치의 값을 채워주는 함수\n",
    "# 8.특정한 컬럼의 값을 기준으로 함수\n",
    "    # 데이터프레임명.groupby([기준이되는 컬럼])\n",
    "    # 데이터프렘임명.groupby([기준이되는 컬럼]).sum mean min max ()\n",
    "    # count() : 그룹화한 데이터의 개수 , (value.count() 함수와 유사)\n",
    "    # agg() : 데이터들의 연산을 한줄로 처리하기 위한 함수 (ex 데이터프레임명.groupby([]).agg\n",
    "    #                                                          ([\"sum\", \"min\", \"max\",\"mean\"])\n",
    "# 9.데이터프레임에 통계 요약 정보 출력하는 함수\n",
    "    # describe()\n",
    "# 10.데이터간 차이를 구하는 함수 \n",
    "    # diff(n) : \n",
    "        # 현재의 행의 데이터와 이동한 행의 데이터의 차이\n",
    "        # (ex 데이터프레임명[\"특정 컬럼\"].diff(n)\n",
    "    # shift(n)\n",
    "        # 현재 행의 위치에서 n만큼 이동한 데이터의 값\n",
    "        # (ex 데이터프레임명[\"컬럼명\"] - 데이터프레임명[\"컬럼명\"].shift(n)\n",
    "# 11.데이터프레임을 결합하는 함수\n",
    "#   # concat() : 데이터프레임의 행 열 기준 단순 결합 pd.concat([데이터프레임명1,데이터프레임명2]axis= 1 or 0)\n",
    "    # merge() : 특정 조건을 기준으로 데이터프레임 결합\n",
    "        # pd.merge(데이터프레임1, 데이터프레임2, on : 특정 컬럼명, how : 결합방식 지정(left, right, inner, outer))\n",
    "# 12.apply()\n",
    "    # 데이터프레임에 있는 각 원소들을 apply(함수) 함수에 대입하여 결과값 출력\n",
    "    # (ex apply(일반함수) apply(lambda함수)\n",
    "# 13.lambd함수\n",
    "    # 일반함수와 다르게 함수를 선언과 동시에 호출 하는 함수 \n",
    "    # 간단한 작업을 하는 함수에서는 람다 함수를 자주 사용\n",
    "# 14. map함수\n",
    "    # apply와 유사한 기능 \n",
    "    # list데이터에 각 원소들을 함수에 대입한 결과 출력"
   ]
  },
  {
   "cell_type": "code",
   "execution_count": 5,
   "metadata": {},
   "outputs": [
    {
     "name": "stdout",
     "output_type": "stream",
     "text": [
      "[1, 4, 9, 16]\n"
     ]
    }
   ],
   "source": [
    "# map 함수\n",
    "def func_1(x):\n",
    "    result = x**2\n",
    "    return result\n",
    "\n",
    "list_a = [1,2,3,4]\n",
    "\n",
    "print(list(map(func_1,list_a)))"
   ]
  },
  {
   "cell_type": "code",
   "execution_count": null,
   "metadata": {},
   "outputs": [],
   "source": []
  }
 ],
 "metadata": {
  "kernelspec": {
   "display_name": "Python 3",
   "language": "python",
   "name": "python3"
  },
  "language_info": {
   "codemirror_mode": {
    "name": "ipython",
    "version": 3
   },
   "file_extension": ".py",
   "mimetype": "text/x-python",
   "name": "python",
   "nbconvert_exporter": "python",
   "pygments_lexer": "ipython3",
   "version": "3.10.7 (tags/v3.10.7:6cc6b13, Sep  5 2022, 14:08:36) [MSC v.1933 64 bit (AMD64)]"
  },
  "orig_nbformat": 4,
  "vscode": {
   "interpreter": {
    "hash": "ad6d875a34c5d45ba316c6c6032b3df1c97c6bbaf5812ea361dbef1c1cfd1dd4"
   }
  }
 },
 "nbformat": 4,
 "nbformat_minor": 2
}
