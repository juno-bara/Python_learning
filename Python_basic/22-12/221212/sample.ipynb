{
 "cells": [
  {
   "cell_type": "code",
   "execution_count": 26,
   "metadata": {},
   "outputs": [
    {
     "name": "stdout",
     "output_type": "stream",
     "text": [
      "10\n",
      "hello world\n",
      "<class 'int'>\n",
      "<class 'str'>\n"
     ]
    }
   ],
   "source": [
    "a = 10\n",
    "b = \"hello world\"\n",
    "\n",
    "print(a)\n",
    "print(b)\n",
    "\n",
    "print(type(a))\n",
    "print(type(b))"
   ]
  },
  {
   "cell_type": "code",
   "execution_count": 27,
   "metadata": {},
   "outputs": [
    {
     "name": "stdout",
     "output_type": "stream",
     "text": [
      "10\n",
      "<class 'str'>\n"
     ]
    }
   ],
   "source": [
    "c = \"10\"\n",
    "\n",
    "print(c)\n",
    "print(type(c))\n"
   ]
  },
  {
   "cell_type": "code",
   "execution_count": 28,
   "metadata": {},
   "outputs": [],
   "source": [
    "#연산자\n",
    "# 1. 대입연산자\n",
    "# 2. 비교연산자\n",
    "# = 주석 > 언어로써 실행 x, 설명부분"
   ]
  },
  {
   "cell_type": "code",
   "execution_count": 29,
   "metadata": {},
   "outputs": [
    {
     "name": "stdout",
     "output_type": "stream",
     "text": [
      "8 2 15 1.6666666666666667 1 2 125\n"
     ]
    }
   ],
   "source": [
    "#산술연산자\n",
    "x = 5\n",
    "y = 3\n",
    "print(x+y,x-y,x*y,x/y,x//y,x%y,x**y) "
   ]
  },
  {
   "cell_type": "code",
   "execution_count": 30,
   "metadata": {},
   "outputs": [
    {
     "name": "stdout",
     "output_type": "stream",
     "text": [
      "6\n"
     ]
    }
   ],
   "source": [
    "# 대입연산자\n",
    "# += -= *= ...\n",
    "# a += 1 > a = a + 1\n",
    "# x의 값은? > 5\n",
    "x += 1\n",
    "print(x)\n"
   ]
  },
  {
   "cell_type": "code",
   "execution_count": 31,
   "metadata": {},
   "outputs": [
    {
     "name": "stdout",
     "output_type": "stream",
     "text": [
      "3\n"
     ]
    }
   ],
   "source": [
    "#현재 x의 값은? 19\n",
    "x -= 3\n",
    "print(x)"
   ]
  },
  {
   "cell_type": "code",
   "execution_count": 32,
   "metadata": {},
   "outputs": [
    {
     "name": "stdout",
     "output_type": "stream",
     "text": [
      "False True True False True False\n"
     ]
    }
   ],
   "source": [
    "# 비교연산자\n",
    "#결과값이 논리값 > true or False\n",
    "\n",
    "a = 5\n",
    "b = 3\n",
    "\n",
    "print(a==b, a!=b, a>b, a<b, a>=b, a<=b)"
   ]
  },
  {
   "cell_type": "code",
   "execution_count": 33,
   "metadata": {},
   "outputs": [
    {
     "name": "stdout",
     "output_type": "stream",
     "text": [
      "True\n",
      "False\n",
      "True\n",
      "True\n"
     ]
    }
   ],
   "source": [
    "# and or not\n",
    "#  and > 두 조건식이 참이면 참, else 거절\n",
    "#  or > 두 조건 중 하나만 참이면 참, 두 조건 모두 거짓이면 거짓\n",
    "#  not > 참이면 거짓 거짓이면 참\n",
    "\n",
    "print( (a>3) and (a<10))\n",
    "print( (a<3) and (a<10))\n",
    "print( (a<3) or (a<10))\n",
    "print((a>3) and (a<10))  "
   ]
  },
  {
   "cell_type": "code",
   "execution_count": 34,
   "metadata": {},
   "outputs": [],
   "source": [
    "# if문\n",
    "# 1.조건이 참인 경우 코드 실행\n",
    "# 2.조건이 거짓인 경우 코드 실행 x\n",
    "# 거짓인경우 코드 실행하기 위해서는 else문 추가\n"
   ]
  },
  {
   "cell_type": "code",
   "execution_count": 35,
   "metadata": {},
   "outputs": [
    {
     "name": "stdout",
     "output_type": "stream",
     "text": [
      "a는 10보다 작다\n",
      "프로그램 종료\n"
     ]
    }
   ],
   "source": [
    "a = 5\n",
    "\n",
    "if a < 10 :\n",
    "    print(\"a는 10보다 작다\")\n",
    "\n",
    "print(\"프로그램 종료\")"
   ]
  },
  {
   "cell_type": "code",
   "execution_count": 36,
   "metadata": {},
   "outputs": [
    {
     "name": "stdout",
     "output_type": "stream",
     "text": [
      "a는 10보다 크다\n",
      "프로그램 종료\n"
     ]
    }
   ],
   "source": [
    "a = 15\n",
    "\n",
    "if a < 15 : \n",
    "    print(\"a는 10보다 작다\")\n",
    "else:\n",
    "    print(\"a는 10보다 크다\")\n",
    "\n",
    "print (\"프로그램 종료\")"
   ]
  },
  {
   "cell_type": "code",
   "execution_count": 41,
   "metadata": {},
   "outputs": [
    {
     "name": "stdout",
     "output_type": "stream",
     "text": [
      "A 학점\n",
      "프로그램 종료\n"
     ]
    }
   ],
   "source": [
    "score = int(input(\"점수를 입력하시오:\"))\n",
    "\n",
    "if score >= 90 :\n",
    "    print(\"A 학점\")\n",
    "elif score >= 80:\n",
    "    print(\"B 학점\")\n",
    "elif score >= 70 :\n",
    "    print(\"C 학점\")\n",
    "else :\n",
    "    print(\"F 학점\")\n",
    "\n",
    "print(\"프로그램 종료\")"
   ]
  },
  {
   "attachments": {},
   "cell_type": "markdown",
   "metadata": {},
   "source": [
    "# 반복문\n",
    "# 1. for문\n",
    "# 2. while 문\n",
    "\n",
    "\n",
    "\n"
   ]
  },
  {
   "cell_type": "code",
   "execution_count": null,
   "metadata": {},
   "outputs": [
    {
     "name": "stdout",
     "output_type": "stream",
     "text": [
      "0\n",
      "1\n",
      "2\n",
      "3\n",
      "4\n",
      "반복문 종료\n"
     ]
    }
   ],
   "source": [
    "# for문 \n",
    "\n",
    "for i in range(0,5,1) : \n",
    "    print(i)\n",
    "\n",
    "print(\"반복문 종료\")"
   ]
  },
  {
   "cell_type": "code",
   "execution_count": null,
   "metadata": {},
   "outputs": [
    {
     "name": "stdout",
     "output_type": "stream",
     "text": [
      "0\n",
      "1\n",
      "2\n",
      "3\n",
      "4\n",
      "반복문 종료\n"
     ]
    }
   ],
   "source": [
    "for i in range(5) :\n",
    "    print(i)\n",
    "\n",
    "print(\"반복문 종료\")"
   ]
  },
  {
   "cell_type": "code",
   "execution_count": null,
   "metadata": {},
   "outputs": [
    {
     "name": "stdout",
     "output_type": "stream",
     "text": [
      "2\n",
      "4\n",
      "6\n",
      "8\n",
      "10\n",
      "12\n",
      "14\n",
      "16\n",
      "18\n"
     ]
    }
   ],
   "source": [
    "for i in range(2 ,20 ,2) : \n",
    "    print(i)"
   ]
  },
  {
   "cell_type": "code",
   "execution_count": null,
   "metadata": {},
   "outputs": [
    {
     "name": "stdout",
     "output_type": "stream",
     "text": [
      "10\n",
      "9\n",
      "8\n",
      "7\n",
      "6\n",
      "5\n",
      "4\n",
      "3\n",
      "2\n"
     ]
    }
   ],
   "source": [
    "for i in range(10,1,-1) : \n",
    "    print(i)"
   ]
  },
  {
   "cell_type": "code",
   "execution_count": null,
   "metadata": {},
   "outputs": [
    {
     "name": "stdout",
     "output_type": "stream",
     "text": [
      "1부터 10까지의 합은 55\n",
      "2\n",
      "4\n",
      "6\n",
      "8\n",
      "10\n",
      "12\n",
      "14\n",
      "16\n",
      "18\n",
      "20\n",
      "22\n",
      "24\n",
      "26\n",
      "28\n",
      "30\n",
      "32\n",
      "34\n",
      "36\n",
      "38\n",
      "40\n",
      "42\n",
      "44\n",
      "46\n",
      "48\n",
      "50\n",
      "650\n"
     ]
    }
   ],
   "source": [
    "#문제 for문을 이용해서 1부터 10까지의 합을 구하시오\n",
    "# for문을 이용하여 1부터 50까지의 짝수의 합을 구하시오\n",
    "\n",
    "\n",
    " \n",
    "#합계라는 변수 하나 생성 > for문에서 합계를 증가 > for문이 끝난 후 합계를 출력\n",
    "\n",
    "\n",
    "sum = 0\n",
    "\n",
    "for i in range (1,11,1) : \n",
    "    sum += i\n",
    "    # sum = sum +i\n",
    "print(\"1부터 10까지의 합은 %d\" %sum)\n",
    "\n",
    "\n",
    "\n",
    "# 짝수라는 의미는 i % 2 = 0\n",
    "\n",
    "sum = 0 \n",
    "\n",
    "for i in range(1,51,1):\n",
    "    if i % 2 == 0 :\n",
    "        sum += i\n",
    "        print(i)\n",
    "\n",
    "print(sum)\n",
    "  \n",
    "\n",
    "\n"
   ]
  },
  {
   "cell_type": "code",
   "execution_count": null,
   "metadata": {},
   "outputs": [
    {
     "name": "stdout",
     "output_type": "stream",
     "text": [
      "0\n",
      "4 6\n",
      "5 5\n",
      "6 4\n"
     ]
    }
   ],
   "source": [
    "# 문제\n",
    "# 주사위 두 개의 합이 10인 경우의 수를 출력하시오\n",
    "#다중 for문  for i in range():\n",
    "              #for j in range()\n",
    "              # 두 주사위의 합이 10인 경우에만 출력\n",
    "\n",
    "#sum = 0\n",
    "\n",
    "# 내 풀이 for i in range(1,7,1):\n",
    "    #for j in range(1,7,1):\n",
    "        #if sum == 10:    \n",
    "            #print(sum)\n",
    "\n",
    "print(sum)\n",
    "\n",
    "# 주사위 두 개를 (총 경우의 수 36개) 밑에 정답\n",
    "\n",
    "for i in range(1,7,1):\n",
    "    for j in range(1,7,1):\n",
    "        if i + j == 10 :\n",
    "            print(i,j)\n",
    "\n"
   ]
  },
  {
   "cell_type": "code",
   "execution_count": null,
   "metadata": {},
   "outputs": [
    {
     "name": "stdout",
     "output_type": "stream",
     "text": [
      "1\n",
      "2\n",
      "3\n",
      "4\n",
      "5\n",
      "6\n",
      "7\n",
      "8\n",
      "9\n",
      "10\n",
      "0\n",
      "1\n",
      "2\n",
      "3\n",
      "4\n",
      "5\n",
      "6\n",
      "7\n",
      "8\n",
      "9\n"
     ]
    }
   ],
   "source": [
    "# while 문 \n",
    "# 변수 = 초기값\n",
    "# while 조건식 : \n",
    "    #반복실행될 코드\n",
    "    #초기값에 증감식\n",
    "\n",
    "#i =  0\n",
    "#while i < 10 :\n",
    "    #print(i) >  무한반복 > i의 값이 증가하지 않기 때문\n",
    "\n",
    "i = 0 \n",
    "while i < 10 : \n",
    "    i += 1 \n",
    "    print(i)\n",
    "    \n",
    "i = 0\n",
    "while i < 10 :\n",
    "    print(i)\n",
    "    i += 1\n",
    "    "
   ]
  },
  {
   "cell_type": "code",
   "execution_count": null,
   "metadata": {},
   "outputs": [
    {
     "name": "stdout",
     "output_type": "stream",
     "text": [
      "1\n",
      "2\n",
      "3\n",
      "4\n",
      "5\n",
      "6\n"
     ]
    }
   ],
   "source": [
    "# break문 \n",
    "\n",
    "for i in range(1,100,1):\n",
    "    if i == 7 :\n",
    "        break\n",
    "    print(i)"
   ]
  },
  {
   "cell_type": "code",
   "execution_count": null,
   "metadata": {},
   "outputs": [
    {
     "name": "stdout",
     "output_type": "stream",
     "text": [
      "1\n",
      "2\n",
      "3\n",
      "4\n",
      "5\n",
      "6\n",
      "7\n",
      "7\n"
     ]
    }
   ],
   "source": [
    "for i in range(1,100,1):\n",
    "    print(i)\n",
    "    if i == 7 :\n",
    "        break\n",
    "        \n",
    "print(i)"
   ]
  },
  {
   "cell_type": "code",
   "execution_count": null,
   "metadata": {},
   "outputs": [
    {
     "name": "stdout",
     "output_type": "stream",
     "text": [
      "42\n",
      "903\n"
     ]
    }
   ],
   "source": [
    "# 문제 \n",
    "# 1에서 1000까지의 합을 구하는데 합계가 900이 넘어가는 최초의 숫자\n",
    "# 합계라는 변수를 지정 후 0 대입\n",
    "# for, while문을 이용하여 1부터 1000까지의 합계를 구하는 반복문 생성\n",
    "# 합계가 900이 넘어가는 지점에 i의 값을 출력\n",
    "# i값을 출력한 후 반복문을 종료\n",
    "\n",
    "\n",
    "sum = 0\n",
    "\n",
    "#for i in range(1,1001,1) :\n",
    "    #if sum += i == 900 :\n",
    "        #break\n",
    "    #print(i)\n",
    "\n",
    "for k in range (1,1001,1):\n",
    "    sum += k\n",
    "    if sum >= 900:\n",
    "        print(k)\n",
    "        break \n",
    "print(sum)\n",
    "\n"
   ]
  },
  {
   "cell_type": "code",
   "execution_count": null,
   "metadata": {},
   "outputs": [
    {
     "name": "stdout",
     "output_type": "stream",
     "text": [
      "42\n",
      "903\n"
     ]
    }
   ],
   "source": [
    "sum = 0\n",
    "i = 1\n",
    "\n",
    "while i < 1000 :\n",
    "    sum += i \n",
    "    if sum >= 900 :\n",
    "        print(i)\n",
    "        print(sum)\n",
    "        break\n",
    "    i +=1"
   ]
  },
  {
   "cell_type": "code",
   "execution_count": null,
   "metadata": {},
   "outputs": [
    {
     "name": "stdout",
     "output_type": "stream",
     "text": [
      "(10, 'test') (3, 3.14) (10, 'test', 3, 3.14) (10, 'test', 10, 'test', 10, 'test')\n"
     ]
    }
   ],
   "source": [
    "# 튜플 데이터의 형태\n",
    "a = (10,\"test\")\n",
    "b = (3,3.14)\n",
    "c = (a+b)\n",
    "d = a*3\n",
    "\n",
    "print(a,b,c,d)"
   ]
  },
  {
   "cell_type": "code",
   "execution_count": null,
   "metadata": {},
   "outputs": [
    {
     "name": "stdout",
     "output_type": "stream",
     "text": [
      "10\n"
     ]
    }
   ],
   "source": [
    "# a라는 변수에서 10이라는 원소 값 하나만 출력\n",
    "\n",
    "print(a[0])"
   ]
  },
  {
   "cell_type": "code",
   "execution_count": null,
   "metadata": {},
   "outputs": [
    {
     "name": "stdout",
     "output_type": "stream",
     "text": [
      "test\n"
     ]
    }
   ],
   "source": [
    "print(a[1])"
   ]
  },
  {
   "cell_type": "code",
   "execution_count": null,
   "metadata": {},
   "outputs": [
    {
     "name": "stdout",
     "output_type": "stream",
     "text": [
      "t\n"
     ]
    }
   ],
   "source": [
    "print(a[1][0])"
   ]
  },
  {
   "cell_type": "code",
   "execution_count": null,
   "metadata": {},
   "outputs": [],
   "source": [
    "a = (10,20,30,40)"
   ]
  },
  {
   "cell_type": "code",
   "execution_count": null,
   "metadata": {},
   "outputs": [
    {
     "name": "stdout",
     "output_type": "stream",
     "text": [
      "(20, 30, 40)\n",
      "(20, 30, 40)\n"
     ]
    }
   ],
   "source": [
    "# a라는 튜플에서 두 번째 원소부터 네 번째 원소까지 출력하려면 \n",
    "print(a[1:5])\n",
    "print(a[1:])"
   ]
  },
  {
   "cell_type": "code",
   "execution_count": null,
   "metadata": {},
   "outputs": [
    {
     "name": "stdout",
     "output_type": "stream",
     "text": [
      "(10, 20, 30)\n",
      "(10, 20, 30)\n"
     ]
    }
   ],
   "source": [
    "# a 튜플에서 처음부터 3번째 원소까지 출력\n",
    "\n",
    "print(a[:3])\n",
    "print(a[0:3])"
   ]
  },
  {
   "cell_type": "code",
   "execution_count": null,
   "metadata": {},
   "outputs": [],
   "source": [
    "# 리스트 형태\n",
    "\n",
    "a = [20,10,90,5]\n",
    "b = [10,20,30,40]\n",
    "\n"
   ]
  },
  {
   "cell_type": "code",
   "execution_count": null,
   "metadata": {},
   "outputs": [
    {
     "name": "stdout",
     "output_type": "stream",
     "text": [
      "[20, 10, 90, 5]\n",
      "[10, 20, 30, 40]\n"
     ]
    }
   ],
   "source": [
    "print(a)\n",
    "print(b)"
   ]
  },
  {
   "cell_type": "code",
   "execution_count": null,
   "metadata": {},
   "outputs": [
    {
     "name": "stdout",
     "output_type": "stream",
     "text": [
      "[5, 10, 20, 90]\n"
     ]
    }
   ],
   "source": [
    "#리스트에 있는 내장함수 \n",
    "# sort() > 리스트 내부의 원소들을 오름차순으로 정렬해주는 함수\n",
    "\n",
    "a.sort()\n",
    "print(a)"
   ]
  },
  {
   "cell_type": "code",
   "execution_count": null,
   "metadata": {},
   "outputs": [
    {
     "name": "stdout",
     "output_type": "stream",
     "text": [
      "[40, 30, 20, 10]\n"
     ]
    }
   ],
   "source": [
    "# 역순으로 변경 > reverse()\n",
    "\n",
    "b.reverse()\n",
    "print(b)"
   ]
  },
  {
   "cell_type": "code",
   "execution_count": null,
   "metadata": {},
   "outputs": [
    {
     "name": "stdout",
     "output_type": "stream",
     "text": [
      "[5, 10, 20, 90, 22]\n"
     ]
    }
   ],
   "source": [
    "# append() > 리스트 가장 마지막에  원소를 추가하는 함수\n",
    "\n",
    "a.append(22)\n",
    "print(a)"
   ]
  },
  {
   "cell_type": "code",
   "execution_count": null,
   "metadata": {},
   "outputs": [
    {
     "name": "stdout",
     "output_type": "stream",
     "text": [
      "[]\n",
      "[1]\n"
     ]
    }
   ],
   "source": [
    "l = []\n",
    "print(l)\n",
    "l.append(1)\n",
    "print(l)"
   ]
  },
  {
   "cell_type": "code",
   "execution_count": 56,
   "metadata": {},
   "outputs": [
    {
     "name": "stdout",
     "output_type": "stream",
     "text": [
      "[3, 6, 9, 12, 15, 18, 21, 24, 27, 30, 33, 36, 39, 42, 45, 48, 51, 54, 57, 60, 63, 66, 69]\n"
     ]
    }
   ],
   "source": [
    "# 3부터 70까지 3의 배수를 리스트 만들어서 출력\n",
    "\n",
    "# 비어있느 리스트 생성\n",
    "a = [] \n",
    "# 1부터 70까지 숫자들을 반복\n",
    "for i in range(1,70,1):\n",
    "    #반복하는 숫자들 중 3의 배수 \n",
    "    #i % 3 ==0\n",
    "    if i % 3 ==0 :\n",
    "        a.append(i)\n",
    "print(a)\n"
   ]
  },
  {
   "cell_type": "code",
   "execution_count": null,
   "metadata": {},
   "outputs": [
    {
     "name": "stdout",
     "output_type": "stream",
     "text": [
      "[3, 6, 9, 12, 15, 18, 21, 24, 27, 30, 33, 36, 39, 42, 45, 48, 51, 54, 57, 60, 63, 66, 69]\n"
     ]
    }
   ],
   "source": [
    "a = []\n",
    "i = 1\n",
    "\n",
    "while i <= 70:\n",
    "    if i % 3 == 0 : #>> % = 나누고 나머지의 값\n",
    "        a.append(i)\n",
    "    i +=1\n",
    "print(a)\n",
    "\n",
    "\n",
    "# 연산기호 주의"
   ]
  },
  {
   "cell_type": "code",
   "execution_count": null,
   "metadata": {},
   "outputs": [
    {
     "name": "stdout",
     "output_type": "stream",
     "text": [
      "{'name': 'test', 'age': 20, 'phone': '01012345678'}\n"
     ]
    }
   ],
   "source": [
    "# 딕셔너리 형태의 데이터 \n",
    "# 사전형 데이터 \n",
    "# {key : value}\n",
    "\n",
    "dict = {\"name\" : \"test\", \"age\" : 20, \"phone\" : \"01012345678\"}\n",
    "print(dict)"
   ]
  },
  {
   "cell_type": "code",
   "execution_count": null,
   "metadata": {},
   "outputs": [
    {
     "name": "stdout",
     "output_type": "stream",
     "text": [
      "test\n"
     ]
    }
   ],
   "source": [
    "# test 단어 출력 하려면 \n",
    "print(dict[\"name\"])"
   ]
  },
  {
   "cell_type": "code",
   "execution_count": null,
   "metadata": {},
   "outputs": [
    {
     "name": "stdout",
     "output_type": "stream",
     "text": [
      "{'name': 'test', 'age': 20, 'phone': '01012345678', 'area': 'seoul'}\n"
     ]
    }
   ],
   "source": [
    "# key : value 값 추가\n",
    "# \"area\" : \"seoul\" 값 추가\n",
    "\n",
    "dict[\"area\"] = \"seoul\"\n",
    "print(dict)"
   ]
  },
  {
   "cell_type": "code",
   "execution_count": null,
   "metadata": {},
   "outputs": [
    {
     "name": "stdout",
     "output_type": "stream",
     "text": [
      "{'name': 'test', 'age': 30, 'phone': '01012345678', 'area': 'seoul'}\n"
     ]
    }
   ],
   "source": [
    "#age 값 30으로 변경\n",
    "dict[\"age\"]  = 30\n",
    "print(dict)"
   ]
  },
  {
   "cell_type": "code",
   "execution_count": 59,
   "metadata": {},
   "outputs": [],
   "source": [
    "# sql = database에서 데이터를 가지고 올 때 데이터의 형태  \n",
    "# [{key1 : value1, key2 : value12},]\n",
    "\n",
    "test_data = [\n",
    "    {  \"name\" : \"test\",\n",
    "        \"age\"  : 20\n",
    "    },\n",
    "    {\n",
    "        \"name\" : \"test2\",\n",
    "        \"age\"  : 30\n",
    "    },\n",
    "    {\n",
    "        \"name\" : \"test3\",\n",
    "        \"age\"  : 35\n",
    "    }\n",
    "]\n",
    "\n",
    "# 리스트 안 딕셔너리 형태\n"
   ]
  },
  {
   "cell_type": "code",
   "execution_count": 60,
   "metadata": {},
   "outputs": [
    {
     "name": "stdout",
     "output_type": "stream",
     "text": [
      "{'name': 'test', 'age': 20}\n",
      "test\n",
      "30\n"
     ]
    }
   ],
   "source": [
    "# test data라는 변수에서 {\"name\":\"test\",\"age\":20}값 추출\n",
    "print(test_data[0])\n",
    "# test data에서 \"test\"라는 문자열을 출력하려면?\n",
    "print(test_data[0][\"name\"])\n",
    "# test data라는 변수에서 30이라는 수 출력\n",
    "print(test_data[1][\"age\"])\n",
    "\n",
    "\n"
   ]
  },
  {
   "cell_type": "code",
   "execution_count": 64,
   "metadata": {},
   "outputs": [
    {
     "name": "stdout",
     "output_type": "stream",
     "text": [
      "20\n",
      "30\n",
      "35\n",
      "[20, 30, 35]\n",
      "나이는 [20, 30, 35]입니다\n"
     ]
    }
   ],
   "source": [
    "# test_data에서 나이 20 30 35이 데이터를 추출해서 리스트의 형태로 출력\n",
    "# 비어있는 리스트 생성\n",
    "# test_data에서 각 원소별로 총 3번 반복\n",
    "# 리스트를 출력\n",
    "\n",
    "result = []\n",
    "\n",
    "for i in range(0,3,1):\n",
    "    print(test_data[i][\"age\"])\n",
    "    result.append(test_data[i][\"age\"])\n",
    "print(result)    \n",
    "\n",
    "\n",
    "\n",
    "\n",
    "\n",
    "# print(test_data[0][\"age\"],test_data[1][\"age\"],test_data[2][\"age\"])\n",
    "f\"나이는 {result}입니다\"\n",
    "print(f\"나이는 {result}입니다\")\n"
   ]
  },
  {
   "cell_type": "code",
   "execution_count": 68,
   "metadata": {},
   "outputs": [
    {
     "name": "stdout",
     "output_type": "stream",
     "text": [
      "10\n",
      "20\n",
      "6\n",
      "[[10, 20, 6], [10, 20, 6], [10, 20, 6]]\n"
     ]
    }
   ],
   "source": [
    "a = []\n",
    "test = [10,20,6]\n",
    "\n",
    "for i in test:\n",
    "    print(i)\n",
    "    a.append(test)\n",
    "print(a)"
   ]
  },
  {
   "cell_type": "code",
   "execution_count": 69,
   "metadata": {},
   "outputs": [
    {
     "data": {
      "text/plain": [
       "3"
      ]
     },
     "execution_count": 69,
     "metadata": {},
     "output_type": "execute_result"
    }
   ],
   "source": [
    "#len() 함수는 길이를 출력\n",
    "\n",
    "len(test)\n"
   ]
  },
  {
   "cell_type": "code",
   "execution_count": 70,
   "metadata": {},
   "outputs": [
    {
     "name": "stdout",
     "output_type": "stream",
     "text": [
      "10\n",
      "20\n",
      "6\n"
     ]
    }
   ],
   "source": [
    "# test_data의 데이터 형태 > 리스트 []\n",
    "\n",
    "\n",
    "for i in range(0, len(test),1) : \n",
    "    print(test[i])"
   ]
  },
  {
   "cell_type": "code",
   "execution_count": null,
   "metadata": {},
   "outputs": [
    {
     "name": "stdout",
     "output_type": "stream",
     "text": [
      "[20, 30, 35]\n"
     ]
    }
   ],
   "source": [
    "result = []\n",
    "for i in test_data :\n",
    "    result.append(i[\"age\"])\n",
    "print(result)"
   ]
  },
  {
   "cell_type": "code",
   "execution_count": null,
   "metadata": {},
   "outputs": [],
   "source": [
    "# 문자열 함수\n"
   ]
  },
  {
   "cell_type": "code",
   "execution_count": 84,
   "metadata": {},
   "outputs": [
    {
     "name": "stdout",
     "output_type": "stream",
     "text": [
      "<built-in method upper of str object at 0x0000021EDC04A0B0>\n",
      "<built-in method lower of str object at 0x0000021EDC04A0B0>\n",
      "<built-in method title of str object at 0x0000021EDC04A0B0>\n"
     ]
    },
    {
     "data": {
      "text/plain": [
       "'hello world'"
      ]
     },
     "execution_count": 84,
     "metadata": {},
     "output_type": "execute_result"
    }
   ],
   "source": [
    "# 대, 소 문자 변경 \n",
    "a = \"hello world\"\n",
    "print (a.upper)\n",
    "print (a.lower)\n",
    "print (a.title)\n",
    "a"
   ]
  },
  {
   "cell_type": "code",
   "execution_count": 79,
   "metadata": {},
   "outputs": [
    {
     "data": {
      "text/plain": [
       "'hello world'"
      ]
     },
     "execution_count": 79,
     "metadata": {},
     "output_type": "execute_result"
    }
   ],
   "source": [
    "# 공백을 제거하는 함수\n",
    "# strip replace\n",
    "a = \" hello world \"\n",
    "a "
   ]
  },
  {
   "cell_type": "code",
   "execution_count": 83,
   "metadata": {},
   "outputs": [
    {
     "data": {
      "text/plain": [
       "'hello world'"
      ]
     },
     "execution_count": 83,
     "metadata": {},
     "output_type": "execute_result"
    }
   ],
   "source": [
    "a.lstrip\n",
    "a.rstrip\n",
    "a.strip\n",
    "a"
   ]
  },
  {
   "cell_type": "code",
   "execution_count": null,
   "metadata": {},
   "outputs": [
    {
     "data": {
      "text/plain": [
       "'helloworld'"
      ]
     },
     "execution_count": 133,
     "metadata": {},
     "output_type": "execute_result"
    }
   ],
   "source": [
    "a.replace(\" \", \"\")"
   ]
  },
  {
   "cell_type": "code",
   "execution_count": null,
   "metadata": {},
   "outputs": [
    {
     "data": {
      "text/plain": [
       "' hi world  '"
      ]
     },
     "execution_count": 137,
     "metadata": {},
     "output_type": "execute_result"
    }
   ],
   "source": [
    "a.replace(\"hello\",\"hi\")"
   ]
  },
  {
   "cell_type": "code",
   "execution_count": null,
   "metadata": {},
   "outputs": [
    {
     "name": "stdout",
     "output_type": "stream",
     "text": [
      "['a', 'b', 'c', 'd']\n",
      "c\n",
      "c\n"
     ]
    }
   ],
   "source": [
    "# split() > 기준이 되는 문자열이나 특수문자를 기준으로 나눠주는 역할\n",
    "\n",
    "x = \"a,b,c,d\"\n",
    "print(x.split(\",\"))\n",
    "#c라는 문자를 바로 출력하려면\n",
    "#case 1 split을 사용하지 않는 경우\n",
    "print(x[4])\n",
    "#case 2 split을 사용하는 경우\n",
    "print(x.split(\",\")[2])"
   ]
  },
  {
   "cell_type": "code",
   "execution_count": null,
   "metadata": {},
   "outputs": [
    {
     "name": "stdout",
     "output_type": "stream",
     "text": [
      "3\n",
      "4\n",
      "12\n"
     ]
    }
   ],
   "source": [
    "# 함수\n",
    "# def함수명(매개변수)\n",
    "# 실행할 코드1\n",
    "# 실행할 코드2\n",
    "# return 출력값\n",
    "# 함수 > 데이터를 일반적인 저장 방식 아니라, 뭔가 행동을 하고 난 뒤에 결과값을 돌려주는\n",
    "# def 함수명 (매개변수) :\n",
    "\n",
    "def func_1(a,b):\n",
    "    result = a + b\n",
    "    return result\n",
    "\n",
    "c = func_1(1,2)\n",
    "print(c)\n",
    "print(func_1(1,3))\n",
    "print(func_1(10,2))\n"
   ]
  },
  {
   "cell_type": "code",
   "execution_count": null,
   "metadata": {},
   "outputs": [],
   "source": [
    "# 변수의 종류 \n",
    "# 전역 변수\n",
    "    # 전체, 어디서든 사용 가능\n",
    "    # 들여쓰기를 하지 않은 공간에서 지정한 변수\n",
    "# 지역 변수\n",
    "    # 정해진 지역,특정한 구간에서만 사용 가능\n",
    "    # 함수 안에서 만든 변수(들여쓰기를 한 곳에서 한 변수)\n"
   ]
  },
  {
   "cell_type": "code",
   "execution_count": null,
   "metadata": {},
   "outputs": [
    {
     "name": "stdout",
     "output_type": "stream",
     "text": [
      "12\n",
      "3\n"
     ]
    }
   ],
   "source": [
    "x = 3 \n",
    "\n",
    "def func_2(a) :\n",
    "    result = a * x\n",
    "    return result\n",
    "\n",
    "print(func_2(4))\n",
    "print(x)\n",
    "\n"
   ]
  },
  {
   "cell_type": "code",
   "execution_count": 38,
   "metadata": {},
   "outputs": [
    {
     "name": "stdout",
     "output_type": "stream",
     "text": [
      "12\n"
     ]
    }
   ],
   "source": [
    "def func_3(a):\n",
    "    func_3_y = 3\n",
    "    func_3_result = a * func_3_y\n",
    "    return func_3_result\n",
    "\n",
    "print(func_3(4))"
   ]
  },
  {
   "cell_type": "code",
   "execution_count": null,
   "metadata": {},
   "outputs": [
    {
     "name": "stdout",
     "output_type": "stream",
     "text": [
      "74-1\n"
     ]
    }
   ],
   "source": [
    "def func_4 (a,b,c=1) :\n",
    "    result = a + b - c\n",
    "    return result\n",
    "\n",
    "print(func_4(5,3),end=\"\")\n",
    "print(func_4(5,3,4),end=\"\")\n",
    "print(func_4(a=1,c=5,b=3))"
   ]
  },
  {
   "attachments": {},
   "cell_type": "markdown",
   "metadata": {},
   "source": [
    "# 함수 생성 문제 \n",
    "1. 함수 생성 매개변수 3개 a,b,c\n",
    "2. c의 값이 '합' 이면 result = a + b\n",
    "3. c의 값이 '차' 이면 result = a-b\n",
    "4. 그 외의 값이면 result = error\n",
    "5. retrun result\n",
    "6. print (함수명(3개의 인자값))\n",
    "7. 합과 차 그리거 error 출력 "
   ]
  },
  {
   "cell_type": "code",
   "execution_count": null,
   "metadata": {},
   "outputs": [
    {
     "name": "stdout",
     "output_type": "stream",
     "text": [
      "7\n",
      "-1\n",
      "error\n"
     ]
    }
   ],
   "source": [
    "def func_5(a,b,c) : \n",
    "    if c == \"합\" :\n",
    "        result = a + b\n",
    "    elif c == \"차\" :\n",
    "        result = a - b\n",
    "    else :\n",
    "        result = \"error\"\n",
    "    return result \n",
    "\n",
    "print(func_5(2,5,\"합\"))\n",
    "print(func_5(1,2,\"차\"))\n",
    "print(func_5(1,2,\"곱\"))\n",
    "\n",
    "\n"
   ]
  },
  {
   "cell_type": "code",
   "execution_count": null,
   "metadata": {},
   "outputs": [],
   "source": [
    "# 함수 생성\n",
    "#매개변수 두 개를 가진 함수 생성(매개변수에는 숫자형만 넣어서 실행)\n",
    "# a와 b 사이에 숫자들의 합계를 retrun(a,b모두 포함되어있는 경우)\n",
    "# a와 b사이에는 대소 관계는 정해져 있지 않다\n",
    "# a와 b가 같은 경우 a를 retrun\n",
    "# print(func_6(1,10)) \n",
    "# print(func_6(1,10)) \n",
    "    "
   ]
  },
  {
   "cell_type": "code",
   "execution_count": null,
   "metadata": {},
   "outputs": [
    {
     "name": "stdout",
     "output_type": "stream",
     "text": [
      "55\n",
      "55\n"
     ]
    }
   ],
   "source": [
    "def func_8(a,b) :\n",
    "    sum = 0 \n",
    "    for i in range(min(a,b), max(a,b)+1, 1) :\n",
    "        sum += i\n",
    "    return sum\n",
    "\n",
    "print(func_8(1, 10))\n",
    "print(func_8(10, 1))\n",
    "\n"
   ]
  },
  {
   "cell_type": "code",
   "execution_count": null,
   "metadata": {},
   "outputs": [
    {
     "name": "stdout",
     "output_type": "stream",
     "text": [
      "55\n",
      "55\n"
     ]
    }
   ],
   "source": [
    "def func_7(a,b):\n",
    "    sum = 0\n",
    "    if a < b :\n",
    "        for i in range(a,b+1,1) :\n",
    "            sum += i\n",
    "    elif a > b :\n",
    "        for i in range(b,a+1,1) :\n",
    "            sum += i\n",
    "    else :\n",
    "        sum += i \n",
    "    return sum\n",
    "\n",
    "print(func_7(1,10))\n",
    "print(func_7(10,1))\n"
   ]
  },
  {
   "cell_type": "code",
   "execution_count": null,
   "metadata": {},
   "outputs": [
    {
     "name": "stdout",
     "output_type": "stream",
     "text": [
      "55\n",
      "55\n"
     ]
    }
   ],
   "source": [
    "def func_9(a,b):\n",
    "    sum = 0\n",
    "    if a < b : \n",
    "        while a <= b :\n",
    "            sum += a\n",
    "            a += 1\n",
    "    elif a > b :\n",
    "        while b <= a :\n",
    "            sum += b\n",
    "            b += 1\n",
    "    else :\n",
    "        sum = a \n",
    "    return sum\n",
    "\n",
    "print(func_9(1,10))\n",
    "print(func_9(10,1)) "
   ]
  }
 ],
 "metadata": {
  "kernelspec": {
   "display_name": "Python 3",
   "language": "python",
   "name": "python3"
  },
  "language_info": {
   "codemirror_mode": {
    "name": "ipython",
    "version": 3
   },
   "file_extension": ".py",
   "mimetype": "text/x-python",
   "name": "python",
   "nbconvert_exporter": "python",
   "pygments_lexer": "ipython3",
   "version": "3.10.7 (tags/v3.10.7:6cc6b13, Sep  5 2022, 14:08:36) [MSC v.1933 64 bit (AMD64)]"
  },
  "orig_nbformat": 4,
  "vscode": {
   "interpreter": {
    "hash": "ad6d875a34c5d45ba316c6c6032b3df1c97c6bbaf5812ea361dbef1c1cfd1dd4"
   }
  }
 },
 "nbformat": 4,
 "nbformat_minor": 2
}
