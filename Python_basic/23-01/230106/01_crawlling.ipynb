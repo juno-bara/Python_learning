{
 "cells": [
  {
   "attachments": {},
   "cell_type": "markdown",
   "metadata": {},
   "source": [
    "# 크롤링 \n",
    "1. 필수 라이브러리 requests"
   ]
  },
  {
   "cell_type": "code",
   "execution_count": 2,
   "metadata": {},
   "outputs": [],
   "source": [
    "import requests"
   ]
  },
  {
   "cell_type": "code",
   "execution_count": 3,
   "metadata": {},
   "outputs": [],
   "source": [
    "url = \"https://www.naver.com\"\n",
    "reponse = requests.get(url)\n"
   ]
  },
  {
   "cell_type": "code",
   "execution_count": 6,
   "metadata": {},
   "outputs": [],
   "source": [
    "html_data = reponse.text"
   ]
  },
  {
   "cell_type": "code",
   "execution_count": 7,
   "metadata": {},
   "outputs": [
    {
     "data": {
      "text/plain": [
       "365"
      ]
     },
     "execution_count": 7,
     "metadata": {},
     "output_type": "execute_result"
    }
   ],
   "source": [
    "html_data.find(\"네이버\")"
   ]
  },
  {
   "cell_type": "code",
   "execution_count": 8,
   "metadata": {},
   "outputs": [
    {
     "data": {
      "text/plain": [
       "'네이버'"
      ]
     },
     "execution_count": 8,
     "metadata": {},
     "output_type": "execute_result"
    }
   ],
   "source": [
    "html_data[365:368]"
   ]
  },
  {
   "attachments": {},
   "cell_type": "markdown",
   "metadata": {},
   "source": [
    "# beautifulsoup 라이브러리 설치 \n",
    "1. html tag의 데이터를 쉽게 추출하기 위한 라이브러리 \n",
    "2. 웹의 구조를 어느정도 인지를 한 상태에서 이 라이브러리를 사용하면 쉽게 데이터 추출 가능  \n",
    "3. 파서(parser)를 활용해서 파이썬에서 접근이 쉽게 객체형태(변수형태)로 제공"
   ]
  },
  {
   "cell_type": "code",
   "execution_count": 11,
   "metadata": {},
   "outputs": [],
   "source": [
    "from bs4 import BeautifulSoup as bs"
   ]
  },
  {
   "cell_type": "code",
   "execution_count": 12,
   "metadata": {},
   "outputs": [],
   "source": [
    "soup = bs(html_data, \"html.parser\")"
   ]
  },
  {
   "cell_type": "code",
   "execution_count": null,
   "metadata": {},
   "outputs": [],
   "source": [
    "soup"
   ]
  },
  {
   "cell_type": "code",
   "execution_count": 14,
   "metadata": {},
   "outputs": [],
   "source": [
    "# 태그명을 사용하여 검색\n",
    "    # 태그 : 해당 태그의 첫 번쩨 정보를 출력\n",
    "    # 태그[\"속성\"] : 해당 태그의 첫 번째 속성에 대한 값을 출력"
   ]
  },
  {
   "cell_type": "code",
   "execution_count": null,
   "metadata": {},
   "outputs": [],
   "source": [
    "print(soup)\n",
    "print(soup.title)\n",
    "print(soup.title.stirng)"
   ]
  },
  {
   "cell_type": "code",
   "execution_count": 23,
   "metadata": {},
   "outputs": [
    {
     "name": "stdout",
     "output_type": "stream",
     "text": [
      "<img alt=\"소한, 따뜻한 하루 보내세요~!\" class=\"special_img\" height=\"160\" src=\"https://s.pstatic.net/static/www/mobile/edit/20230105/mobile_16182725693.gif\" width=\"415\"/>\n",
      "160\n",
      "https://s.pstatic.net/static/www/mobile/edit/20230105/mobile_16182725693.gif\n"
     ]
    }
   ],
   "source": [
    "print(soup.img)\n",
    "print(soup.img[\"height\"])\n",
    "print(soup.img[\"src\"])"
   ]
  },
  {
   "attachments": {},
   "cell_type": "markdown",
   "metadata": {},
   "source": [
    "- find()\n",
    "    -HTML안에서 해당 태그에 대한 정보르 출력한다\n",
    "    -find(소성 = :값) : HTML 해당 속성과 일치하는 값에 대한 첫 번째 정보를 출력\n",
    "- find_all()\n",
    "    -HTNL안에 해당 태그에 대한 모든 정보를 리스트 형식으로 출력 \n",
    "    -limit 속성 : 리스트의 길이를 지정 "
   ]
  },
  {
   "cell_type": "code",
   "execution_count": 26,
   "metadata": {},
   "outputs": [
    {
     "name": "stdout",
     "output_type": "stream",
     "text": [
      "<img alt=\"소한, 따뜻한 하루 보내세요~!\" class=\"special_img\" height=\"160\" src=\"https://s.pstatic.net/static/www/mobile/edit/20230105/mobile_16182725693.gif\" width=\"415\"/>\n"
     ]
    }
   ],
   "source": [
    "print(soup.img)"
   ]
  },
  {
   "cell_type": "code",
   "execution_count": 27,
   "metadata": {},
   "outputs": [
    {
     "name": "stdout",
     "output_type": "stream",
     "text": [
      "<a href=\"#newsstand\"><span>뉴스스탠드 바로가기</span></a>\n"
     ]
    }
   ],
   "source": [
    "print(soup.find(\"a\"))"
   ]
  },
  {
   "cell_type": "code",
   "execution_count": null,
   "metadata": {},
   "outputs": [],
   "source": [
    "print(soup.find(id = \"newsstand\"))"
   ]
  },
  {
   "cell_type": "code",
   "execution_count": null,
   "metadata": {},
   "outputs": [],
   "source": [
    "# print(soup.find_all(\"span\", limit = 10))[2]\n",
    "print(soup.find_all(\"span\")[2])"
   ]
  },
  {
   "cell_type": "code",
   "execution_count": 44,
   "metadata": {},
   "outputs": [
    {
     "name": "stdout",
     "output_type": "stream",
     "text": [
      "[<span class=\"blind\">쥬니어네이버</span>, <span class=\"blind\">해피빈</span>, <span class=\"blind\">검색</span>, <span class=\"blind\">한글 입력기</span>, <span class=\"blind\">자동완성 레이어</span>, <span class=\"blind\">쇼핑</span>, <span class=\"blind\">쇼핑LIVE</span>, <span class=\"blind\">리스트형</span>, <span class=\"blind\">썸네일형</span>, <span class=\"blind\">설정</span>, <span class=\"blind\">이전</span>, <span class=\"blind\">다음</span>, <span class=\"blind\">닫기</span>, <span class=\"blind\">닫기</span>, <span class=\"blind\">이전</span>, <span class=\"blind\">다음</span>, <span class=\"blind\">닫기</span>, <span class=\"blind\">닫기</span>, <span class=\"blind\">이전</span>, <span class=\"blind\">다음</span>, <span class=\"blind\">다음</span>, <span class=\"blind\">닫기</span>, <span class=\"blind\">닫기</span>, <span class=\"blind\">이전</span>, <span class=\"blind\">다음</span>, <span class=\"blind\">닫기</span>, <span class=\"blind\">닫기</span>, <span class=\"blind\">이전</span>, <span class=\"blind\">다음</span>, <span class=\"blind\">위</span>, <span class=\"blind\">유지</span>, <span class=\"blind\">위</span>, <span class=\"blind\">유지</span>, <span class=\"blind\">위</span>, <span class=\"blind\">유지</span>, <span class=\"blind\">위</span>, <span class=\"blind\">유지</span>, <span class=\"blind\">위</span>, <span class=\"blind\">상승</span>, <span class=\"blind\">위</span>, <span class=\"blind\">하락</span>, <span class=\"blind\">위</span>, <span class=\"blind\">유지</span>, <span class=\"blind\">위</span>, <span class=\"blind\">유지</span>, <span class=\"blind\">위</span>, <span class=\"blind\">상승</span>, <span class=\"blind\">위</span>, <span class=\"blind\">하락</span>, <span class=\"blind\">위</span>, <span class=\"blind\">상승</span>, <span class=\"blind\">위</span>, <span class=\"blind\">하락</span>, <span class=\"blind\">위</span>, <span class=\"blind\">유지</span>, <span class=\"blind\">위</span>, <span class=\"blind\">유지</span>, <span class=\"blind\">위</span>, <span class=\"blind\">상승</span>, <span class=\"blind\">위</span>, <span class=\"blind\">유지</span>, <span class=\"blind\">위</span>, <span class=\"blind\">하락</span>, <span class=\"blind\">위</span>, <span class=\"blind\">유지</span>, <span class=\"blind\">위</span>, <span class=\"blind\">유지</span>, <span class=\"blind\">위</span>, <span class=\"blind\">상승</span>, <span class=\"blind\">위</span>, <span class=\"blind\">유지</span>, <span class=\"blind\">위</span>, <span class=\"blind\">상승</span>, <span class=\"blind\">위</span>, <span class=\"blind\">하락</span>, <span class=\"blind\">위</span>, <span class=\"blind\">상승</span>, <span class=\"blind\">위</span>, <span class=\"blind\">상승</span>, <span class=\"blind\">위</span>, <span class=\"blind\">상승</span>, <span class=\"blind\">위</span>, <span class=\"blind\">유지</span>, <span class=\"blind\">위</span>, <span class=\"blind\">하락</span>, <span class=\"blind\">위</span>, <span class=\"blind\">하락</span>, <span class=\"blind\">위</span>, <span class=\"blind\">하락</span>, <span class=\"blind\">위</span>, <span class=\"blind\">유지</span>, <span class=\"blind\">위</span>, <span class=\"blind\">유지</span>, <span class=\"blind\">위</span>, <span class=\"blind\">유지</span>, <span class=\"blind\">위</span>, <span class=\"blind\">유지</span>, <span class=\"blind\">위</span>, <span class=\"blind\">유지</span>, <span class=\"blind\">위</span>, <span class=\"blind\">유지</span>, <span class=\"blind\">위</span>, <span class=\"blind\">유지</span>, <span class=\"blind\">위</span>, <span class=\"blind\">유지</span>, <span class=\"blind\">위</span>, <span class=\"blind\">유지</span>, <span class=\"blind\">위</span>, <span class=\"blind\">유지</span>, <span class=\"blind\">이전</span>, <span class=\"blind\">다음</span>, <span class=\"blind\">위</span>, <span class=\"blind\">위</span>, <span class=\"blind\">위</span>, <span class=\"blind\">위</span>, <span class=\"blind\">위</span>, <span class=\"blind\">위</span>, <span class=\"blind\">위</span>, <span class=\"blind\">위</span>, <span class=\"blind\">위</span>, <span class=\"blind\">위</span>, <span class=\"blind\">이전</span>, <span class=\"blind\">다음</span>, <span class=\"blind\">위</span>, <span class=\"blind\">위</span>, <span class=\"blind\">위</span>, <span class=\"blind\">위</span>, <span class=\"blind\">위</span>, <span class=\"blind\">위</span>, <span class=\"blind\">위</span>, <span class=\"blind\">위</span>, <span class=\"blind\">위</span>, <span class=\"blind\">위</span>, <span class=\"blind\">이전</span>, <span class=\"blind\">다음</span>, <span class=\"blind\">위</span>, <span class=\"blind\">위</span>, <span class=\"blind\">위</span>, <span class=\"blind\">위</span>, <span class=\"blind\">위</span>, <span class=\"blind\">위</span>, <span class=\"blind\">위</span>, <span class=\"blind\">위</span>, <span class=\"blind\">위</span>, <span class=\"blind\">위</span>, <span class=\"blind\">이전</span>, <span class=\"blind\">다음</span>, <span class=\"blind\">위</span>, <span class=\"blind\">위</span>, <span class=\"blind\">위</span>, <span class=\"blind\">위</span>, <span class=\"blind\">위</span>, <span class=\"blind\">위</span>, <span class=\"blind\">위</span>, <span class=\"blind\">위</span>, <span class=\"blind\">위</span>, <span class=\"blind\">위</span>, <span class=\"blind\">이전</span>, <span class=\"blind\">다음</span>, <span class=\"blind\">NAVER</span>, <span class=\"blind\">이전</span>, <span class=\"blind\">다음</span>, <span class=\"blind\">하락</span>, <span class=\"blind\">하락</span>, <span class=\"blind\">하락</span>, <span class=\"blind\"> <script id=\"veta_service_check\"></script> </span>, <span class=\"blind\">TOP</span>, <span class=\"blind\">라이트 모드로 보기</span>]\n"
     ]
    }
   ],
   "source": [
    "# 해당 태그에서 클래스 값을 기준으로 출력 \n",
    "# print(soup.find_all(\"span\", class_= \"blind\"))\n",
    "print(soup.find_all(\"span\", attrs={\n",
    "    \"class\" : \"blind\"\n",
    "}))"
   ]
  },
  {
   "cell_type": "code",
   "execution_count": 47,
   "metadata": {},
   "outputs": [
    {
     "data": {
      "text/plain": [
       "'뉴스스탠드 바로가기'"
      ]
     },
     "execution_count": 47,
     "metadata": {},
     "output_type": "execute_result"
    }
   ],
   "source": [
    "(soup.find(\"span\")).get_text()"
   ]
  },
  {
   "cell_type": "code",
   "execution_count": 50,
   "metadata": {},
   "outputs": [
    {
     "name": "stdout",
     "output_type": "stream",
     "text": [
      "['쥬니어네이버', '해피빈', '검색', '한글 입력기', '자동완성 레이어', '쇼핑', '쇼핑LIVE', '리스트형', '썸네일형', '설정', '이전', '다음', '닫기', '닫기', '이전', '다음', '닫기', '닫기', '이전', '다음', '다음', '닫기', '닫기', '이전', '다음', '닫기', '닫기', '이전', '다음', '위', '유지', '위', '유지', '위', '유지', '위', '유지', '위', '상승', '위', '하락', '위', '유지', '위', '유지', '위', '상승', '위', '하락', '위', '상승', '위', '하락', '위', '유지', '위', '유지', '위', '상승', '위', '유지', '위', '하락', '위', '유지', '위', '유지', '위', '상승', '위', '유지', '위', '상승', '위', '하락', '위', '상승', '위', '상승', '위', '상승', '위', '유지', '위', '하락', '위', '하락', '위', '하락', '위', '유지', '위', '유지', '위', '유지', '위', '유지', '위', '유지', '위', '유지', '위', '유지', '위', '유지', '위', '유지', '위', '유지', '이전', '다음', '위', '위', '위', '위', '위', '위', '위', '위', '위', '위', '이전', '다음', '위', '위', '위', '위', '위', '위', '위', '위', '위', '위', '이전', '다음', '위', '위', '위', '위', '위', '위', '위', '위', '위', '위', '이전', '다음', '위', '위', '위', '위', '위', '위', '위', '위', '위', '위', '이전', '다음', 'NAVER', '이전', '다음', '하락', '하락', '하락', '  ', 'TOP', '라이트 모드로 보기']\n"
     ]
    }
   ],
   "source": [
    "span_list = (soup.find_all(\"span\", attrs = {\"class\": \"blind\"}))\n",
    "span_text = []\n",
    "\n",
    "for i in span_list :\n",
    "    span_text.append(i.get_text())\n",
    "print(span_text)\n"
   ]
  },
  {
   "cell_type": "code",
   "execution_count": 51,
   "metadata": {},
   "outputs": [
    {
     "name": "stdout",
     "output_type": "stream",
     "text": [
      "['쥬니어네이버', '해피빈', '검색', '한글 입력기', '자동완성 레이어', '쇼핑', '쇼핑LIVE', '리스트형', '썸네일형', '설정', '이전', '다음', '닫기', '닫기', '이전', '다음', '닫기', '닫기', '이전', '다음', '다음', '닫기', '닫기', '이전', '다음', '닫기', '닫기', '이전', '다음', '위', '유지', '위', '유지', '위', '유지', '위', '유지', '위', '상승', '위', '하락', '위', '유지', '위', '유지', '위', '상승', '위', '하락', '위', '상승', '위', '하락', '위', '유지', '위', '유지', '위', '상승', '위', '유지', '위', '하락', '위', '유지', '위', '유지', '위', '상승', '위', '유지', '위', '상승', '위', '하락', '위', '상승', '위', '상승', '위', '상승', '위', '유지', '위', '하락', '위', '하락', '위', '하락', '위', '유지', '위', '유지', '위', '유지', '위', '유지', '위', '유지', '위', '유지', '위', '유지', '위', '유지', '위', '유지', '위', '유지', '이전', '다음', '위', '위', '위', '위', '위', '위', '위', '위', '위', '위', '이전', '다음', '위', '위', '위', '위', '위', '위', '위', '위', '위', '위', '이전', '다음', '위', '위', '위', '위', '위', '위', '위', '위', '위', '위', '이전', '다음', '위', '위', '위', '위', '위', '위', '위', '위', '위', '위', '이전', '다음', 'NAVER', '이전', '다음', '하락', '하락', '하락', '  ', 'TOP', '라이트 모드로 보기']\n"
     ]
    }
   ],
   "source": [
    "# map 함수\n",
    "# map(함수, 리스트 형태의 데이터)\n",
    "\n",
    "def change(x) :\n",
    "    return x.get_text()\n",
    "print(list(map(change, span_list)))"
   ]
  },
  {
   "cell_type": "code",
   "execution_count": 52,
   "metadata": {},
   "outputs": [
    {
     "name": "stdout",
     "output_type": "stream",
     "text": [
      "['쥬니어네이버', '해피빈', '검색', '한글 입력기', '자동완성 레이어', '쇼핑', '쇼핑LIVE', '리스트형', '썸네일형', '설정', '이전', '다음', '닫기', '닫기', '이전', '다음', '닫기', '닫기', '이전', '다음', '다음', '닫기', '닫기', '이전', '다음', '닫기', '닫기', '이전', '다음', '위', '유지', '위', '유지', '위', '유지', '위', '유지', '위', '상승', '위', '하락', '위', '유지', '위', '유지', '위', '상승', '위', '하락', '위', '상승', '위', '하락', '위', '유지', '위', '유지', '위', '상승', '위', '유지', '위', '하락', '위', '유지', '위', '유지', '위', '상승', '위', '유지', '위', '상승', '위', '하락', '위', '상승', '위', '상승', '위', '상승', '위', '유지', '위', '하락', '위', '하락', '위', '하락', '위', '유지', '위', '유지', '위', '유지', '위', '유지', '위', '유지', '위', '유지', '위', '유지', '위', '유지', '위', '유지', '위', '유지', '이전', '다음', '위', '위', '위', '위', '위', '위', '위', '위', '위', '위', '이전', '다음', '위', '위', '위', '위', '위', '위', '위', '위', '위', '위', '이전', '다음', '위', '위', '위', '위', '위', '위', '위', '위', '위', '위', '이전', '다음', '위', '위', '위', '위', '위', '위', '위', '위', '위', '위', '이전', '다음', 'NAVER', '이전', '다음', '하락', '하락', '하락', '  ', 'TOP', '라이트 모드로 보기']\n"
     ]
    }
   ],
   "source": [
    "print(list(map(lambda x : x.get_text(), span_list)))"
   ]
  },
  {
   "cell_type": "code",
   "execution_count": null,
   "metadata": {},
   "outputs": [],
   "source": [
    "## select() select_one()\n",
    "# print(soup.select_one(\"a\"))\n",
    "print(soup.select(\"body a\"))"
   ]
  },
  {
   "cell_type": "code",
   "execution_count": null,
   "metadata": {},
   "outputs": [],
   "source": [
    "print(soup.select(\"div > ul\"))"
   ]
  },
  {
   "attachments": {},
   "cell_type": "markdown",
   "metadata": {},
   "source": [
    "# selenium 라이브러리\n",
    "1. 웹 어플리케이션 테스트를 위한 라이브러리\n",
    "2. python으로 웹 브라우져 제어하는 기술 \n",
    "3. 웹 드라이버 별도의 프로그램 설치 "
   ]
  },
  {
   "cell_type": "code",
   "execution_count": 84,
   "metadata": {},
   "outputs": [
    {
     "name": "stdout",
     "output_type": "stream",
     "text": [
      "Requirement already satisfied: selenium in c:\\새 폴더\\python\\lib\\site-packages (4.7.2)\n",
      "Requirement already satisfied: urllib3[socks]~=1.26 in c:\\users\\이주노\\appdata\\roaming\\python\\python310\\site-packages (from selenium) (1.26.13)\n",
      "Requirement already satisfied: trio~=0.17 in c:\\새 폴더\\python\\lib\\site-packages (from selenium) (0.22.0)\n",
      "Requirement already satisfied: certifi>=2021.10.8 in c:\\users\\이주노\\appdata\\roaming\\python\\python310\\site-packages (from selenium) (2022.9.24)\n",
      "Requirement already satisfied: trio-websocket~=0.9 in c:\\새 폴더\\python\\lib\\site-packages (from selenium) (0.9.2)\n",
      "Requirement already satisfied: attrs>=19.2.0 in c:\\새 폴더\\python\\lib\\site-packages (from trio~=0.17->selenium) (22.1.0)\n",
      "Requirement already satisfied: cffi>=1.14 in c:\\새 폴더\\python\\lib\\site-packages (from trio~=0.17->selenium) (1.15.1)\n",
      "Requirement already satisfied: idna in c:\\users\\이주노\\appdata\\roaming\\python\\python310\\site-packages (from trio~=0.17->selenium) (3.4)\n",
      "Requirement already satisfied: outcome in c:\\새 폴더\\python\\lib\\site-packages (from trio~=0.17->selenium) (1.2.0)\n",
      "Requirement already satisfied: sniffio in c:\\새 폴더\\python\\lib\\site-packages (from trio~=0.17->selenium) (1.3.0)\n",
      "Requirement already satisfied: exceptiongroup>=1.0.0rc9 in c:\\새 폴더\\python\\lib\\site-packages (from trio~=0.17->selenium) (1.1.0)\n",
      "Requirement already satisfied: sortedcontainers in c:\\새 폴더\\python\\lib\\site-packages (from trio~=0.17->selenium) (2.4.0)\n",
      "Requirement already satisfied: async-generator>=1.9 in c:\\새 폴더\\python\\lib\\site-packages (from trio~=0.17->selenium) (1.10)\n",
      "Requirement already satisfied: wsproto>=0.14 in c:\\새 폴더\\python\\lib\\site-packages (from trio-websocket~=0.9->selenium) (1.2.0)\n",
      "Requirement already satisfied: PySocks!=1.5.7,<2.0,>=1.5.6 in c:\\새 폴더\\python\\lib\\site-packages (from urllib3[socks]~=1.26->selenium) (1.7.1)\n",
      "Requirement already satisfied: pycparser in c:\\새 폴더\\python\\lib\\site-packages (from cffi>=1.14->trio~=0.17->selenium) (2.21)\n",
      "Requirement already satisfied: h11<1,>=0.9.0 in c:\\새 폴더\\python\\lib\\site-packages (from wsproto>=0.14->trio-websocket~=0.9->selenium) (0.14.0)\n"
     ]
    }
   ],
   "source": [
    "# 라이브러리 설치\n",
    "\n",
    "!pip install selenium"
   ]
  },
  {
   "cell_type": "code",
   "execution_count": 85,
   "metadata": {},
   "outputs": [],
   "source": [
    "from selenium import webdriver\n",
    "from selenium.webdriver.common.by import By\n",
    "from selenium.webdriver.common.keys import Keys"
   ]
  },
  {
   "cell_type": "code",
   "execution_count": 61,
   "metadata": {},
   "outputs": [
    {
     "name": "stderr",
     "output_type": "stream",
     "text": [
      "C:\\Users\\이주노\\AppData\\Local\\Temp\\ipykernel_93784\\4271410398.py:9: DeprecationWarning: executable_path has been deprecated, please pass in a Service object\n",
      "  driver = webdriver.Chrome(path)\n"
     ]
    }
   ],
   "source": [
    "# path는 web driver 경로 지정\n",
    "\n",
    "# 절대경로\n",
    "# 위도우 - \n",
    "#path = \"c://chromedriver\"\n",
    "\n",
    "# 상대경로\n",
    "path = \"../webdriver/chromedriver\"\n",
    "driver = webdriver.Chrome(path)\n",
    "driver.get(\"https://www.naver.com\")"
   ]
  },
  {
   "cell_type": "code",
   "execution_count": 64,
   "metadata": {},
   "outputs": [],
   "source": [
    "element = driver.find_element(By.ID, \"query\")\n",
    "element.send_keys(\"신도림 맛집\")"
   ]
  },
  {
   "cell_type": "code",
   "execution_count": 65,
   "metadata": {},
   "outputs": [],
   "source": [
    "element.send_keys(Keys.ENTER)"
   ]
  },
  {
   "cell_type": "code",
   "execution_count": 66,
   "metadata": {},
   "outputs": [
    {
     "data": {
      "text/plain": [
       "<selenium.webdriver.remote.webelement.WebElement (session=\"5709547b4fd1411d75d9855a0f78918a\", element=\"e2b9faea-2292-426d-a0bd-b122a2ab4f19\")>"
      ]
     },
     "execution_count": 66,
     "metadata": {},
     "output_type": "execute_result"
    }
   ],
   "source": [
    "driver.find_element(By.XPATH, '//*[@id=\"main_pack\"]/section[2]/div/div[2]/div/div/ul/li[1]/div/div[2]/div[1]/a')"
   ]
  },
  {
   "cell_type": "code",
   "execution_count": null,
   "metadata": {},
   "outputs": [],
   "source": [
    "soup = bs(driver.page_source, \"html.parser\")\n",
    "print(soup)"
   ]
  },
  {
   "cell_type": "code",
   "execution_count": 68,
   "metadata": {},
   "outputs": [],
   "source": [
    "import time"
   ]
  },
  {
   "attachments": {},
   "cell_type": "markdown",
   "metadata": {},
   "source": [
    "# 크롤링 클래스 생성 \n",
    "1. 생성자 함수 처음 웹 드라이버가 접속한 주소 \n",
    "2. 새로운 함수 생성 - 검색어를 인자값으로 보내주면 웹드라이버에서 검색 후 검색 한 페이지를 텍스트 형태로 리턴"
   ]
  },
  {
   "cell_type": "code",
   "execution_count": 87,
   "metadata": {},
   "outputs": [],
   "source": [
    "class web():\n",
    "    # 생성자 함수 에서는 입력받은 주소 값 저장 \n",
    "    def __init__(self,_url):\n",
    "        self.url =_url\n",
    "\n",
    "    # 검색 함수에서는 검색어를 인자로 받고\n",
    "    # 웹드라이버를 실행\n",
    "    # 검색 창에 검색어를 입력하고 \n",
    "    # 검색 창 클릭\n",
    "    # 패이지 이동 후 페이지의 html코드를 bs4를 이용하여 객체화 한 데이터를 리턴 \n",
    "    def serch(self, _search):\n",
    "        self.path = \"../webdriver/chromedriver\"\n",
    "        self.driver = webdriver.Chrome(self.path)\n",
    "        self.driver.get(self.url)\n",
    "        # 1초 딜레이 생성 \n",
    "        time.sleep(5)\n",
    "        self.element = self.driver.find_element(By.ID, \"query\")\n",
    "        self.element.send_keys(_search)\n",
    "        self.element.send_keys(Keys.ENTER)\n",
    "        time.sleep(5)\n",
    "        self.result = bs(self.driver.page_source, \"html.parser\")\n",
    "        return self.result\n",
    "        "
   ]
  },
  {
   "cell_type": "code",
   "execution_count": 88,
   "metadata": {},
   "outputs": [],
   "source": [
    "test = web(\"https://www.naver.com\")"
   ]
  },
  {
   "cell_type": "code",
   "execution_count": null,
   "metadata": {},
   "outputs": [],
   "source": [
    "test.serch(\"파싱 뜻\")"
   ]
  },
  {
   "cell_type": "code",
   "execution_count": null,
   "metadata": {},
   "outputs": [],
   "source": []
  }
 ],
 "metadata": {
  "kernelspec": {
   "display_name": "Python 3",
   "language": "python",
   "name": "python3"
  },
  "language_info": {
   "codemirror_mode": {
    "name": "ipython",
    "version": 3
   },
   "file_extension": ".py",
   "mimetype": "text/x-python",
   "name": "python",
   "nbconvert_exporter": "python",
   "pygments_lexer": "ipython3",
   "version": "3.10.7"
  },
  "orig_nbformat": 4,
  "vscode": {
   "interpreter": {
    "hash": "ad6d875a34c5d45ba316c6c6032b3df1c97c6bbaf5812ea361dbef1c1cfd1dd4"
   }
  }
 },
 "nbformat": 4,
 "nbformat_minor": 2
}
