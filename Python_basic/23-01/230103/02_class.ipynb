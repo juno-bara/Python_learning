{
 "cells": [
  {
   "cell_type": "code",
   "execution_count": 10,
   "metadata": {},
   "outputs": [],
   "source": [
    "# 함수에서 사용되는 변수들 \n",
    "#1. 전역변수 \n",
    "    # 어디서든 사용이 가능한 변수 \n",
    "    # 어디서든 사용이 가능하기 때문 함수 내에서도 사용이 가능 \n",
    "    # 전역 변수의 값을 변경이 어렵다.\n",
    "\n",
    "#2. 지역변구 \n",
    "    # 특정한 지역에서만 사용 가능한 변수\n",
    "    # 지역을 벗어나면 사용이 불가능 하다 \n",
    "    # 함수의 경우에는 함수가 실행될 때만 변수에 데이터가 저장 함수의 실행, 종료가 되면 변수 역시 삭제(매개변수와 같은 특징)\n",
    "\n",
    "#3. 매개변수\n",
    "    # 특정한 지역에서 사용이 가능한 변수 \n",
    "    # 매개변수는 특정한 지역이 함수에서만 국한한다 \n",
    "    # 함수를 생성하는 경우에 필요애 의해서 생성\n",
    "    # 지역변수와 마찬가지로 지역에서 벗어나면 사용 불가 "
   ]
  },
  {
   "cell_type": "code",
   "execution_count": 3,
   "metadata": {},
   "outputs": [],
   "source": [
    "# 전역변수 a를 생성해서 10라는 값을 대입\n",
    "a = 10"
   ]
  },
  {
   "cell_type": "code",
   "execution_count": 5,
   "metadata": {},
   "outputs": [
    {
     "name": "stdout",
     "output_type": "stream",
     "text": [
      "11\n"
     ]
    }
   ],
   "source": [
    "def test():\n",
    "    b = a + 1\n",
    "    print(b)\n",
    "\n",
    "test()"
   ]
  },
  {
   "cell_type": "code",
   "execution_count": 17,
   "metadata": {},
   "outputs": [
    {
     "name": "stdout",
     "output_type": "stream",
     "text": [
      "test\n"
     ]
    }
   ],
   "source": [
    "def test1():\n",
    "    name = \"test\"\n",
    "        \n",
    "    def test2():\n",
    "        print(name)\n",
    "    \n",
    "    test2()\n",
    "\n",
    "test1()\n",
    "    "
   ]
  },
  {
   "cell_type": "code",
   "execution_count": 26,
   "metadata": {},
   "outputs": [],
   "source": [
    "# 매개변수 \n",
    "# a라는 매개변수에 대입을 할 수 있는 데이터 타입 >> 숫자, 문자, 리스트, 스리즈, 딕셔너리, 클래스, 튜플 ...\n",
    "\n",
    "def func_1(a) :\n",
    "    print(a)\n",
    "    "
   ]
  },
  {
   "cell_type": "code",
   "execution_count": 35,
   "metadata": {},
   "outputs": [
    {
     "data": {
      "text/plain": [
       "'hello'"
      ]
     },
     "execution_count": 35,
     "metadata": {},
     "output_type": "execute_result"
    }
   ],
   "source": [
    "def func_2(a):\n",
    "    return a\n",
    "def func_3(b):\n",
    "    return func_2(b)\n",
    "     \n",
    "\n",
    "func_3(\"hello\")"
   ]
  },
  {
   "cell_type": "code",
   "execution_count": 38,
   "metadata": {},
   "outputs": [],
   "source": [
    "class Test :\n",
    "    def __init__(self,_x,_y):\n",
    "        self.x =_x \n",
    "        self.y = _y\n",
    "\n",
    "    def add(self):\n",
    "        return self.x + self.y\n",
    "\n",
    "    def change_x (self,_x):\n",
    "        self.x= _x\n",
    " "
   ]
  },
  {
   "cell_type": "code",
   "execution_count": 46,
   "metadata": {},
   "outputs": [],
   "source": [
    "class_test = Test(5,3)"
   ]
  },
  {
   "cell_type": "code",
   "execution_count": 47,
   "metadata": {},
   "outputs": [
    {
     "data": {
      "text/plain": [
       "8"
      ]
     },
     "execution_count": 47,
     "metadata": {},
     "output_type": "execute_result"
    }
   ],
   "source": [
    "class_test.add()"
   ]
  },
  {
   "cell_type": "code",
   "execution_count": 48,
   "metadata": {},
   "outputs": [
    {
     "data": {
      "text/plain": [
       "13"
      ]
     },
     "execution_count": 48,
     "metadata": {},
     "output_type": "execute_result"
    }
   ],
   "source": [
    "class_test.change_x(10)\n",
    "class_test.add()"
   ]
  },
  {
   "cell_type": "code",
   "execution_count": 49,
   "metadata": {},
   "outputs": [],
   "source": [
    "def class_change(a,b):\n",
    "    print(a.add())\n",
    "    a.change_x(b)\n",
    "    print(a.add())"
   ]
  },
  {
   "cell_type": "code",
   "execution_count": 50,
   "metadata": {},
   "outputs": [
    {
     "name": "stdout",
     "output_type": "stream",
     "text": [
      "13\n",
      "53\n"
     ]
    }
   ],
   "source": [
    "class_change(class_test,50)"
   ]
  },
  {
   "cell_type": "code",
   "execution_count": null,
   "metadata": {},
   "outputs": [],
   "source": []
  }
 ],
 "metadata": {
  "kernelspec": {
   "display_name": "Python 3",
   "language": "python",
   "name": "python3"
  },
  "language_info": {
   "codemirror_mode": {
    "name": "ipython",
    "version": 3
   },
   "file_extension": ".py",
   "mimetype": "text/x-python",
   "name": "python",
   "nbconvert_exporter": "python",
   "pygments_lexer": "ipython3",
   "version": "3.10.7"
  },
  "orig_nbformat": 4,
  "vscode": {
   "interpreter": {
    "hash": "ad6d875a34c5d45ba316c6c6032b3df1c97c6bbaf5812ea361dbef1c1cfd1dd4"
   }
  }
 },
 "nbformat": 4,
 "nbformat_minor": 2
}
