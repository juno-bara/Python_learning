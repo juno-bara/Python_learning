{
 "cells": [
  {
   "cell_type": "code",
   "execution_count": 88,
   "metadata": {},
   "outputs": [],
   "source": [
    "# class 생성\n",
    "#1. class의 이름은 user\n",
    "#2. 생성자 함수 __init__ 유저 정보 이름 휴대폰 번호 생년월일\n",
    "#3. info() 함수를 생성 유저의 정보를 출력(print) 하는 함수 생성\n",
    "# - test : user1 = user(test, 01012345678, 8000101), user2 = user(test2, 01098765432, 900101)"
   ]
  },
  {
   "cell_type": "code",
   "execution_count": 1,
   "metadata": {},
   "outputs": [],
   "source": [
    "class User:\n",
    "    #새로운 클래스를 생성하는 경우에 클레스 안에 변수들을 지정\n",
    "    def __init__(self,name,phone,birth):\n",
    "        self.name = name\n",
    "        self.phone = phone\n",
    "        self.birth = birth\n",
    "    #유저의 정보를 출력하는 함수\n",
    "    def info(self):\n",
    "        print(self.name, self.phone, self.birth)"
   ]
  },
  {
   "cell_type": "code",
   "execution_count": 90,
   "metadata": {},
   "outputs": [],
   "source": [
    "user1 = User(\"test\",\"01012345678\",\"800101\")\n",
    "user2 = User(\"test2\",\"01098765432\",\"900101\")"
   ]
  },
  {
   "cell_type": "code",
   "execution_count": 91,
   "metadata": {},
   "outputs": [
    {
     "name": "stdout",
     "output_type": "stream",
     "text": [
      "test 01012345678 800101\n"
     ]
    }
   ],
   "source": [
    "User.info(user1)"
   ]
  },
  {
   "cell_type": "code",
   "execution_count": 92,
   "metadata": {},
   "outputs": [
    {
     "name": "stdout",
     "output_type": "stream",
     "text": [
      "test2 01098765432 900101\n"
     ]
    }
   ],
   "source": [
    "User.info(user2)"
   ]
  },
  {
   "cell_type": "code",
   "execution_count": 93,
   "metadata": {},
   "outputs": [
    {
     "data": {
      "text/plain": [
       "'test'"
      ]
     },
     "execution_count": 93,
     "metadata": {},
     "output_type": "execute_result"
    }
   ],
   "source": [
    "user1.name"
   ]
  },
  {
   "cell_type": "code",
   "execution_count": 94,
   "metadata": {},
   "outputs": [],
   "source": [
    "# 지갑 class \n",
    "#1. 클래스의 이름은 Wallet\n",
    "#2. 클래서 생성자 함수 (소유자, 지갑의 브랜드, 지갑의 가치, 잔액)\n",
    "#3. 잔액은 우선 0\n",
    "#4. work 함수 생성 : 일의 종류는 \"TM\" \"ALBA\" \"SERVING\"  tm은 잔액이 500증가 알바는 잔액이 300 증가 서빙은 400증가\n",
    "#5. buy 함수 생성 : dinne의 경우 잔액이 100 감소 , \"notebook\"의 경우 1000감소, \"monitor\"의 경우 400감소 >> 구매 실패의 조건 > 구매 하려는 제품의 가격보다 잔액이 적은 경우 \"구매 실패\" 출력\n",
    "#6. wallet info() 함수 생성 : 현재 소유자의 이름과 잔액을 출력  "
   ]
  },
  {
   "cell_type": "code",
   "execution_count": 95,
   "metadata": {},
   "outputs": [],
   "source": [
    "class Wallet(User):\n",
    "    def __init__(self,name, phone, birth, brand, worth,balance=0) :\n",
    "        super().__init__(name,phone,birth)\n",
    "        self.brand = brand\n",
    "        self.worth = worth\n",
    "        self.balance = balance\n",
    "    \n",
    "    def work(self,work):\n",
    "        \n",
    "        if work == \"TM\":\n",
    "            self.balance += 5000\n",
    "        elif work == \"ALBA\":\n",
    "            self.balance += 3000\n",
    "        elif work == \"SERVING\":\n",
    "            self.balance += 4000\n",
    "    \n",
    "    def buy(self,buy):\n",
    "\n",
    "        if buy == \"dinner\":\n",
    "            if self.balance < 100:\n",
    "                print(\"구매실패\")\n",
    "            else:\n",
    "                self.balance -= 100\n",
    "\n",
    "        elif buy == \"notebook\":\n",
    "            if self.balance < 1000:\n",
    "                print(\"구매실패\")\n",
    "            else:\n",
    "                self.balance -= 1000\n",
    "        \n",
    "        elif buy == \"monitor\":\n",
    "            if self.balance < 400:\n",
    "                print(\"구매실패\")\n",
    "            else:    \n",
    "                self.balance -= 400\n",
    "\n",
    "    # 식당정보를 가지고 구매를 하는 함수 \n",
    "    def diner_buy(self,_name,menu):\n",
    "        # price를 출력 \n",
    "        # _name은 Diner() 클래스\n",
    "        # _menu는 해당하는 클래스 메뉴의 이름(키값)\n",
    "        self.cost = _name.menu_price(menu)\n",
    "        if self.cost == 0 :\n",
    "            return \"메뉴가 존재하지 않습니다.\"\n",
    "        elif self.balance >= self.cost:\n",
    "            self.balance -= self.cost\n",
    "            return f\"{menu}메뉴를 구매 하였습니다.\"\n",
    "        else :\n",
    "            return f\"{menu}메뉴를 구매를 실패 햐였습니다\"                \n",
    "        \n",
    "    def wallet_info(self):\n",
    "        print(self.name, self.brand, self.worth, self.balance)\n",
    "\n",
    "    # 오버라이딩 > info()라는 함수가 하는 행동을 변경해서 사용\n",
    "    def info(self):\n",
    "        print(f\"소유자의 이름은{self.name}\")\n",
    "        print(f\"지갑의 브랜드는 {self.brand}\")\n",
    "        print(f\"지갑의 가치는{self.worth}\")"
   ]
  },
  {
   "cell_type": "code",
   "execution_count": 96,
   "metadata": {},
   "outputs": [],
   "source": [
    "w = Wallet(\"test\",\"02012345678\", \"900101\", \"outdoor\", 50000 )"
   ]
  },
  {
   "cell_type": "code",
   "execution_count": 97,
   "metadata": {},
   "outputs": [
    {
     "name": "stdout",
     "output_type": "stream",
     "text": [
      "test outdoor 50000 45000\n"
     ]
    }
   ],
   "source": [
    "w.work(\"TM\")\n",
    "w.work(\"TM\")\n",
    "w.work(\"TM\")\n",
    "w.work(\"TM\")\n",
    "w.work(\"TM\")\n",
    "w.work(\"TM\")\n",
    "w.work(\"TM\")\n",
    "w.work(\"TM\")\n",
    "w.work(\"TM\")\n",
    "w.wallet_info()"
   ]
  },
  {
   "cell_type": "code",
   "execution_count": 98,
   "metadata": {},
   "outputs": [],
   "source": [
    "w.buy(\"monitor\")"
   ]
  },
  {
   "cell_type": "code",
   "execution_count": 121,
   "metadata": {},
   "outputs": [
    {
     "name": "stdout",
     "output_type": "stream",
     "text": [
      "test outdoor 50000 44600\n"
     ]
    }
   ],
   "source": [
    "w.wallet_info()"
   ]
  },
  {
   "cell_type": "code",
   "execution_count": 122,
   "metadata": {},
   "outputs": [
    {
     "name": "stdout",
     "output_type": "stream",
     "text": [
      "소유자의 이름은test\n",
      "지갑의 브랜드는 outdoor\n",
      "지갑의 가치는50000\n"
     ]
    }
   ],
   "source": [
    "w.info()"
   ]
  },
  {
   "cell_type": "code",
   "execution_count": 101,
   "metadata": {},
   "outputs": [],
   "source": [
    "user1 = User(\"test2\", \"01098746562\",\"200101\")"
   ]
  },
  {
   "cell_type": "code",
   "execution_count": 102,
   "metadata": {},
   "outputs": [
    {
     "name": "stdout",
     "output_type": "stream",
     "text": [
      "test2 01098746562 200101\n"
     ]
    }
   ],
   "source": [
    "user1.info()"
   ]
  },
  {
   "cell_type": "code",
   "execution_count": 103,
   "metadata": {},
   "outputs": [],
   "source": [
    "dict_a = {\n",
    "    \"a\" : 1,\n",
    "    \"b\" : 2\n",
    "}"
   ]
  },
  {
   "cell_type": "code",
   "execution_count": 104,
   "metadata": {},
   "outputs": [],
   "source": [
    "# 딕셔너리 데이터에 새로운 키 값과 밸류의 값을 추가하려면 \n",
    "dict_a[\"c\"] = 3"
   ]
  },
  {
   "cell_type": "code",
   "execution_count": 105,
   "metadata": {},
   "outputs": [
    {
     "data": {
      "text/plain": [
       "1"
      ]
     },
     "execution_count": 105,
     "metadata": {},
     "output_type": "execute_result"
    }
   ],
   "source": [
    "dict_a[\"a\"]"
   ]
  },
  {
   "cell_type": "code",
   "execution_count": 106,
   "metadata": {},
   "outputs": [],
   "source": [
    "del dict_a[\"b\"]"
   ]
  },
  {
   "cell_type": "code",
   "execution_count": 107,
   "metadata": {},
   "outputs": [
    {
     "data": {
      "text/plain": [
       "dict_values([1, 3])"
      ]
     },
     "execution_count": 107,
     "metadata": {},
     "output_type": "execute_result"
    }
   ],
   "source": [
    "dict_a.values()"
   ]
  },
  {
   "cell_type": "code",
   "execution_count": 108,
   "metadata": {},
   "outputs": [
    {
     "data": {
      "text/plain": [
       "dict_keys(['a', 'c'])"
      ]
     },
     "execution_count": 108,
     "metadata": {},
     "output_type": "execute_result"
    }
   ],
   "source": [
    "dict_a.keys() "
   ]
  },
  {
   "cell_type": "code",
   "execution_count": 109,
   "metadata": {},
   "outputs": [
    {
     "data": {
      "text/plain": [
       "True"
      ]
     },
     "execution_count": 109,
     "metadata": {},
     "output_type": "execute_result"
    }
   ],
   "source": [
    "\"a\" in dict_a.keys() "
   ]
  },
  {
   "cell_type": "code",
   "execution_count": 110,
   "metadata": {},
   "outputs": [
    {
     "data": {
      "text/plain": [
       "False"
      ]
     },
     "execution_count": 110,
     "metadata": {},
     "output_type": "execute_result"
    }
   ],
   "source": [
    "\"b\" in dict_a.keys() "
   ]
  },
  {
   "cell_type": "code",
   "execution_count": 111,
   "metadata": {},
   "outputs": [
    {
     "data": {
      "text/plain": [
       "True"
      ]
     },
     "execution_count": 111,
     "metadata": {},
     "output_type": "execute_result"
    }
   ],
   "source": [
    "\"a\" in dict_a "
   ]
  },
  {
   "cell_type": "code",
   "execution_count": 112,
   "metadata": {},
   "outputs": [],
   "source": [
    "# 식당 class 생성\n",
    "# class의 이름은 Diner\n",
    "# 생성자 함수 식당 연락처, 메뉴 dict데이터를 생성{키값에는 식당의 연락처/ 메뉴 이름, 벨류에는 가격} > 메뉴는 비어있는 딕셔너리 형태의 데이터 \n",
    "# 기존의 메뉴가 존재 하면 추가하지 않는다 메뉴를 추가하는 함수 (menu_add()) >> menu의 이름과 메뉴의 가격을 추가하는 \n",
    "# 메뉴를 삭제하는 함수 생성 menu_del >> 메뉴를 삭제 \n",
    "# 지정한 메뉴의 가격을 return(menu_price) > 선택한 메뉴의 가격의 리턴 "
   ]
  },
  {
   "cell_type": "code",
   "execution_count": 113,
   "metadata": {},
   "outputs": [],
   "source": [
    "class Diner():\n",
    "    def __init__(self,_tel,menu={}):\n",
    "        self.tel = _tel\n",
    "        self.menu = menu\n",
    "\n",
    "    # 메뉴를 추가하는 부분\n",
    "  \n",
    "    def menu_add(self,_name,_price):\n",
    "        if _name not in self.menu.keys():\n",
    "            self.menu[_name] = _price\n",
    "            print(f\"{_name} 메뉴가 추가 되었습니다.\")\n",
    "        else:\n",
    "            print(f\"{_name} 메뉴가 존재합니다.\")\n",
    "    \n",
    "    def del_menu(self,_name):\n",
    "        if _name in self.menu:\n",
    "            del self.menu[_name]\n",
    "            print(f\"{_name} 메뉴가 삭제되었습니다\")\n",
    "        else:\n",
    "            print(f\"{_name} 메뉴가 존재하지 않습니다\")\n",
    "        \n",
    "    def menu_price(self,_name) :\n",
    "        if _name in self.menu.keys():\n",
    "            return self.menu[_name]\n",
    "        else:\n",
    "            print(f\"{_name}메뉴가 존재하지 않습니다.\")\n",
    "            return 0"
   ]
  },
  {
   "cell_type": "code",
   "execution_count": 114,
   "metadata": {},
   "outputs": [],
   "source": [
    "d = Diner(\"01012345678\")"
   ]
  },
  {
   "cell_type": "code",
   "execution_count": 115,
   "metadata": {},
   "outputs": [
    {
     "name": "stdout",
     "output_type": "stream",
     "text": [
      "bob 메뉴가 추가 되었습니다.\n",
      "kimch 메뉴가 추가 되었습니다.\n",
      "kimbob 메뉴가 추가 되었습니다.\n",
      "kimchguk 메뉴가 추가 되었습니다.\n"
     ]
    }
   ],
   "source": [
    "d.menu_add(\"bob\",1000)\n",
    "d.menu_add(\"kimch\",1500)\n",
    "d.menu_add(\"kimbob\",3500)\n",
    "d.menu_add(\"kimchguk\",5500)"
   ]
  },
  {
   "cell_type": "code",
   "execution_count": 116,
   "metadata": {},
   "outputs": [
    {
     "name": "stdout",
     "output_type": "stream",
     "text": [
      "bob 메뉴가 삭제되었습니다\n"
     ]
    }
   ],
   "source": [
    "d.del_menu(\"bob\")"
   ]
  },
  {
   "cell_type": "code",
   "execution_count": 117,
   "metadata": {},
   "outputs": [
    {
     "data": {
      "text/plain": [
       "1500"
      ]
     },
     "execution_count": 117,
     "metadata": {},
     "output_type": "execute_result"
    }
   ],
   "source": [
    "d.menu_price(\"kimch\")"
   ]
  },
  {
   "cell_type": "code",
   "execution_count": 118,
   "metadata": {},
   "outputs": [
    {
     "name": "stdout",
     "output_type": "stream",
     "text": [
      "bob메뉴가 존재하지 않습니다.\n"
     ]
    },
    {
     "data": {
      "text/plain": [
       "0"
      ]
     },
     "execution_count": 118,
     "metadata": {},
     "output_type": "execute_result"
    }
   ],
   "source": [
    "d.menu_price(\"bob\")"
   ]
  },
  {
   "cell_type": "code",
   "execution_count": 119,
   "metadata": {},
   "outputs": [
    {
     "data": {
      "text/plain": [
       "{'kimch': 1500, 'kimbob': 3500, 'kimchguk': 5500}"
      ]
     },
     "execution_count": 119,
     "metadata": {},
     "output_type": "execute_result"
    }
   ],
   "source": [
    "d.menu"
   ]
  },
  {
   "cell_type": "code",
   "execution_count": 123,
   "metadata": {},
   "outputs": [
    {
     "data": {
      "text/plain": [
       "'kimch메뉴를 구매 하였습니다.'"
      ]
     },
     "execution_count": 123,
     "metadata": {},
     "output_type": "execute_result"
    }
   ],
   "source": [
    "w.diner_buy(d,\"kimch\")"
   ]
  },
  {
   "cell_type": "code",
   "execution_count": 124,
   "metadata": {},
   "outputs": [
    {
     "name": "stdout",
     "output_type": "stream",
     "text": [
      "test outdoor 50000 43100\n"
     ]
    }
   ],
   "source": [
    "w.wallet_info()"
   ]
  },
  {
   "cell_type": "code",
   "execution_count": null,
   "metadata": {},
   "outputs": [],
   "source": []
  }
 ],
 "metadata": {
  "kernelspec": {
   "display_name": "Python 3",
   "language": "python",
   "name": "python3"
  },
  "language_info": {
   "codemirror_mode": {
    "name": "ipython",
    "version": 3
   },
   "file_extension": ".py",
   "mimetype": "text/x-python",
   "name": "python",
   "nbconvert_exporter": "python",
   "pygments_lexer": "ipython3",
   "version": "3.11.1"
  },
  "orig_nbformat": 4,
  "vscode": {
   "interpreter": {
    "hash": "4f42a8a66366f713939d21a8af7795b607b4714e3656fa47de76d86491fbf4aa"
   }
  }
 },
 "nbformat": 4,
 "nbformat_minor": 2
}
