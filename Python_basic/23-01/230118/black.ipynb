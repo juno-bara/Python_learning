{
 "cells": [
  {
   "cell_type": "code",
   "execution_count": 2,
   "metadata": {},
   "outputs": [],
   "source": [
    "import opstrat as op\n",
    "import math as m"
   ]
  },
  {
   "cell_type": "code",
   "execution_count": 20,
   "metadata": {},
   "outputs": [],
   "source": [
    "# 라이브러리 호출\n",
    "# 필요 값 입력\n",
    "import opstrat as op\n",
    "#Declare parameters\n",
    "K=200    #spot price\n",
    "St=208   #current stock price\n",
    "r=12     #4% risk free rate\n",
    "t=3     #time to expiry, 30 days \n",
    "v=20     #volatility \n",
    "type='c' #Option type call\n",
    "\n",
    "#Black Scholes Model\n",
    "bsm=op.black_scholes(K=K, St=St, r=r, t=t, \n",
    "                     v=v, type='c')"
   ]
  },
  {
   "cell_type": "code",
   "execution_count": 21,
   "metadata": {},
   "outputs": [
    {
     "data": {
      "text/plain": [
       "{'option value': 8.214348658323985,\n",
       " 'intrinsic value': 8,\n",
       " 'time value': 0.21434865832398486}"
      ]
     },
     "execution_count": 21,
     "metadata": {},
     "output_type": "execute_result"
    }
   ],
   "source": [
    "# 옵션가격(프리미엄)\n",
    "# 프리미엄 = 내재가치 + 시간가치\n",
    "bsm['value']"
   ]
  },
  {
   "cell_type": "code",
   "execution_count": 23,
   "metadata": {},
   "outputs": [
    {
     "data": {
      "text/plain": [
       "{'delta': 0.9870108287511129,\n",
       " 'gamma': 0.008869595855162374,\n",
       " 'theta': -0.0858212393100926,\n",
       " 'vega': 0.006307959371141014,\n",
       " 'rho': 0.01619867701823897}"
      ]
     },
     "execution_count": 23,
     "metadata": {},
     "output_type": "execute_result"
    }
   ],
   "source": [
    "# 옵션 민감도\n",
    "# delta = 기초자산 가격 변동에 대한 옵션 가격에 대한 민감도\n",
    "# gamma = delta의 변화\n",
    "# theta = 시간 변화에 대한 옵션 가격의 변화(하루 지나면 세타만큼 가격 하락 )\n",
    "# vega = 변화량 변화에 대한 옵션 가격의 변화\n",
    "# rho = 금리가격 변화에 대한 옵션 가격의 민감도(금리 상승에 대한 옵션 가격 변화량)\n",
    "bsm['greeks']"
   ]
  },
  {
   "cell_type": "code",
   "execution_count": 25,
   "metadata": {},
   "outputs": [
    {
     "ename": "ModuleNotFoundError",
     "evalue": "No module named 'linearmodels'",
     "output_type": "error",
     "traceback": [
      "\u001b[1;31m---------------------------------------------------------------------------\u001b[0m",
      "\u001b[1;31mModuleNotFoundError\u001b[0m                       Traceback (most recent call last)",
      "Cell \u001b[1;32mIn [25], line 7\u001b[0m\n\u001b[0;32m      4\u001b[0m \u001b[39mfrom\u001b[39;00m \u001b[39mstatsmodels\u001b[39;00m\u001b[39m.\u001b[39;00m\u001b[39mapi\u001b[39;00m \u001b[39mimport\u001b[39;00m OLS, add_constant\n\u001b[0;32m      5\u001b[0m \u001b[39mimport\u001b[39;00m \u001b[39mpandas_datareader\u001b[39;00m\u001b[39m.\u001b[39;00m\u001b[39mdata\u001b[39;00m \u001b[39mas\u001b[39;00m \u001b[39mweb\u001b[39;00m\n\u001b[1;32m----> 7\u001b[0m \u001b[39mfrom\u001b[39;00m \u001b[39mlinearmodels\u001b[39;00m\u001b[39m.\u001b[39;00m\u001b[39masset_pricing\u001b[39;00m \u001b[39mimport\u001b[39;00m LinearFactorModel\n\u001b[0;32m      9\u001b[0m \u001b[39mimport\u001b[39;00m \u001b[39mmatplotlib\u001b[39;00m\u001b[39m.\u001b[39;00m\u001b[39mpyplot\u001b[39;00m \u001b[39mas\u001b[39;00m \u001b[39mplt\u001b[39;00m\n\u001b[0;32m     10\u001b[0m \u001b[39mimport\u001b[39;00m \u001b[39mseaborn\u001b[39;00m \u001b[39mas\u001b[39;00m \u001b[39msns\u001b[39;00m\n",
      "\u001b[1;31mModuleNotFoundError\u001b[0m: No module named 'linearmodels'"
     ]
    }
   ],
   "source": [
    "import pandas as pd\n",
    "import numpy as np\n",
    "\n",
    "from statsmodels.api import OLS, add_constant\n",
    "import pandas_datareader.data as web\n",
    "\n",
    "from linearmodels.asset_pricing import LinearFactorModel\n",
    "\n",
    "import matplotlib.pyplot as plt\n",
    "import seaborn as sns\n"
   ]
  },
  {
   "cell_type": "code",
   "execution_count": 26,
   "metadata": {},
   "outputs": [
    {
     "name": "stdout",
     "output_type": "stream",
     "text": [
      "<class 'pandas.core.frame.DataFrame'>\n",
      "PeriodIndex: 252 entries, 2000-01 to 2020-12\n",
      "Freq: M\n",
      "Data columns (total 6 columns):\n",
      " #   Column  Non-Null Count  Dtype  \n",
      "---  ------  --------------  -----  \n",
      " 0   Mkt-RF  252 non-null    float64\n",
      " 1   SMB     252 non-null    float64\n",
      " 2   HML     252 non-null    float64\n",
      " 3   RMW     252 non-null    float64\n",
      " 4   CMA     252 non-null    float64\n",
      " 5   RF      252 non-null    float64\n",
      "dtypes: float64(6)\n",
      "memory usage: 13.8 KB\n"
     ]
    }
   ],
   "source": [
    "# 2000~2020 월별 수익률\n",
    "ff_factor = 'F-F_Research_Data_5_Factors_2x3'\n",
    "ff_factor_data = web.DataReader(ff_factor, 'famafrench', start='2000', end='2020-12')[0]\n",
    "ff_factor_data.info()"
   ]
  },
  {
   "cell_type": "code",
   "execution_count": 27,
   "metadata": {},
   "outputs": [
    {
     "name": "stdout",
     "output_type": "stream",
     "text": [
      "<class 'pandas.core.frame.DataFrame'>\n",
      "PeriodIndex: 252 entries, 2000-01 to 2020-12\n",
      "Freq: M\n",
      "Data columns (total 17 columns):\n",
      " #   Column  Non-Null Count  Dtype  \n",
      "---  ------  --------------  -----  \n",
      " 0   Food    252 non-null    float64\n",
      " 1   Mines   252 non-null    float64\n",
      " 2   Oil     252 non-null    float64\n",
      " 3   Clths   252 non-null    float64\n",
      " 4   Durbl   252 non-null    float64\n",
      " 5   Chems   252 non-null    float64\n",
      " 6   Cnsum   252 non-null    float64\n",
      " 7   Cnstr   252 non-null    float64\n",
      " 8   Steel   252 non-null    float64\n",
      " 9   FabPr   252 non-null    float64\n",
      " 10  Machn   252 non-null    float64\n",
      " 11  Cars    252 non-null    float64\n",
      " 12  Trans   252 non-null    float64\n",
      " 13  Utils   252 non-null    float64\n",
      " 14  Rtail   252 non-null    float64\n",
      " 15  Finan   252 non-null    float64\n",
      " 16  Other   252 non-null    float64\n",
      "dtypes: float64(17)\n",
      "memory usage: 35.4 KB\n"
     ]
    }
   ],
   "source": [
    "# 17개 산업군의 월별 포트폴리오 수익률\n",
    "ff_portfolio = '17_Industry_Portfolios'\n",
    "ff_portfolio_data = web.DataReader(ff_portfolio, 'famafrench', start='2000', end='2020-12')[0]\n",
    "ff_portfolio_data.info()"
   ]
  },
  {
   "cell_type": "code",
   "execution_count": 28,
   "metadata": {},
   "outputs": [
    {
     "name": "stdout",
     "output_type": "stream",
     "text": [
      "<class 'pandas.core.frame.DataFrame'>\n",
      "PeriodIndex: 252 entries, 2000-01 to 2020-12\n",
      "Freq: M\n",
      "Data columns (total 5 columns):\n",
      " #   Column  Non-Null Count  Dtype  \n",
      "---  ------  --------------  -----  \n",
      " 0   Mkt-RF  252 non-null    float64\n",
      " 1   SMB     252 non-null    float64\n",
      " 2   HML     252 non-null    float64\n",
      " 3   RMW     252 non-null    float64\n",
      " 4   CMA     252 non-null    float64\n",
      "dtypes: float64(5)\n",
      "memory usage: 11.8 KB\n"
     ]
    }
   ],
   "source": [
    "# 포트폴리오 수익률 - 무위험 수익률 = 초과 수익률  : capm\n",
    "ff_portfolio_data = ff_portfolio_data.sub(ff_factor_data.RF, axis=0)\n",
    "\n",
    "# 무위험 수익률 변수를 제외한 5개 팩터 변수만 남김\n",
    "ff_factor_data = ff_factor_data.drop('RF', axis=1)\n",
    "ff_factor_data.info()"
   ]
  },
  {
   "cell_type": "code",
   "execution_count": null,
   "metadata": {},
   "outputs": [],
   "source": []
  }
 ],
 "metadata": {
  "kernelspec": {
   "display_name": "Python 3",
   "language": "python",
   "name": "python3"
  },
  "language_info": {
   "codemirror_mode": {
    "name": "ipython",
    "version": 3
   },
   "file_extension": ".py",
   "mimetype": "text/x-python",
   "name": "python",
   "nbconvert_exporter": "python",
   "pygments_lexer": "ipython3",
   "version": "3.10.7"
  },
  "orig_nbformat": 4,
  "vscode": {
   "interpreter": {
    "hash": "ad6d875a34c5d45ba316c6c6032b3df1c97c6bbaf5812ea361dbef1c1cfd1dd4"
   }
  }
 },
 "nbformat": 4,
 "nbformat_minor": 2
}
